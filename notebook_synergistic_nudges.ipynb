{
 "cells": [
  {
   "cell_type": "code",
   "execution_count": 15,
   "metadata": {},
   "outputs": [
    {
     "name": "stdout",
     "output_type": "stream",
     "text": [
      "The autoreload extension is already loaded. To reload it, use:\n",
      "  %reload_ext autoreload\n"
     ]
    }
   ],
   "source": [
    "%load_ext autoreload\n",
    "%autoreload 2"
   ]
  },
  {
   "cell_type": "code",
   "execution_count": 16,
   "metadata": {},
   "outputs": [],
   "source": [
    "import numpy as np\n",
    "from scipy import stats\n",
    "\n",
    "import probability_distributions\n",
    "import maximum_nudges\n",
    "import evolutionary_algorithms as ea\n",
    "import maximum_nudges_evolutionary as ev_max_nudges"
   ]
  },
  {
   "cell_type": "code",
   "execution_count": 17,
   "metadata": {
    "collapsed": true
   },
   "outputs": [],
   "source": [
    "#distribution parameters\n",
    "input_variables = 4\n",
    "number_of_states = 5\n",
    "nudge_size = 0.01\n",
    "\n",
    "#generate both input and conditional output with Dirichlet weights\n",
    "distribution_shape = [number_of_states]*input_variables\n",
    "total_number_of_states = reduce(lambda x,y: x*y, distribution_shape)\n",
    "input_dist = np.random.dirichlet([1]*total_number_of_states)\n",
    "input_dist = np.reshape(input_dist, distribution_shape)\n",
    "cond_shape = [number_of_states]*(input_variables+1)\n",
    "cond_output = [\n",
    "    probability_distributions.compute_joint_uniform_random((number_of_states,))\n",
    "    for i in range(number_of_states**(input_variables))\n",
    "]\n",
    "cond_output = np.array(cond_output)\n",
    "cond_output = np.reshape(cond_output, cond_shape)\n"
   ]
  },
  {
   "cell_type": "code",
   "execution_count": null,
   "metadata": {
    "collapsed": true
   },
   "outputs": [],
   "source": []
  },
  {
   "cell_type": "code",
   "execution_count": 18,
   "metadata": {
    "collapsed": true
   },
   "outputs": [],
   "source": [
    "#synegistic nudge optimization\n",
    "number_of_generations = 100 \n",
    "population_size = 10\n",
    "number_of_children = 20 \n",
    "generational = True \n",
    "mutation_size = nudge_size/4\n",
    "parent_selection_mode = \"rank_exponential\"\n",
    "#parent_selection_mode = None\n",
    "start_mutation_size = nudge_size/25\n",
    "change_mutation_size = start_mutation_size/10\n",
    "mutations_per_update_step = 10\n"
   ]
  },
  {
   "cell_type": "code",
   "execution_count": 19,
   "metadata": {
    "collapsed": true
   },
   "outputs": [],
   "source": [
    "#distribution parameters\n",
    "input_variables = 4\n",
    "number_of_states = 5\n",
    "nudge_size = 0.01\n",
    "\n",
    "#generate both input and conditional output with Dirichlet weights\n",
    "distribution_shape = [number_of_states]*input_variables\n",
    "total_number_of_states = reduce(lambda x,y: x*y, distribution_shape)\n",
    "input_dist = np.random.dirichlet([1]*total_number_of_states)\n",
    "input_dist = np.reshape(input_dist, distribution_shape)\n",
    "cond_shape = [number_of_states]*(input_variables+1)\n",
    "cond_output = [\n",
    "    probability_distributions.compute_joint_uniform_random((number_of_states,))\n",
    "    for i in range(number_of_states**(input_variables))\n",
    "]\n",
    "cond_output = np.array(cond_output)\n",
    "cond_output = np.reshape(cond_output, cond_shape)\n",
    "\n",
    "synergetic_nudge = ev_max_nudges.SynergisticNudge(input_dist, np.copy(input_dist), cond_output,\n",
    "                 nudge_size, mutations_per_update_step, start_mutation_size,\n",
    "                 change_mutation_size, timestamp=0)"
   ]
  },
  {
   "cell_type": "code",
   "execution_count": 20,
   "metadata": {},
   "outputs": [
    {
     "name": "stdout",
     "output_type": "stream",
     "text": [
      "initial impact synergistic nudge -0.00104209665191\n",
      "the found max impact for a synergistic nudge -0.00226557629792\n"
     ]
    }
   ],
   "source": [
    "old_input = np.copy(input_dist)\n",
    "\n",
    "#create the initial population\n",
    "synergistic_nudges = []\n",
    "for _ in range(population_size):\n",
    "    new_synergistic_nudge = ev_max_nudges.SynergisticNudge.create_nudge(\n",
    "        input_dist, cond_output, nudge_size, mutations_per_update_step, \n",
    "        start_mutation_size, change_mutation_size, timestamp=0\n",
    "    )\n",
    "    synergistic_nudges.append(new_synergistic_nudge)\n",
    "\n",
    "for synergistic_nudge in synergistic_nudges:\n",
    "    synergistic_nudge.evaluate()\n",
    "\n",
    "print(\"initial impact synergistic nudge {}\".format(\n",
    "    ea.sort_individuals(synergistic_nudges)[0].score\n",
    "))\n",
    "\n",
    "#start the optimization process\n",
    "find_max_synergistic_nudge = ev_max_nudges.FindMaximumSynergisticNudge(\n",
    "    generational, number_of_children, parent_selection_mode\n",
    ")\n",
    "max_synergistic_nudge = find_max_synergistic_nudge.get_max_nudge(\n",
    "    synergistic_nudges, number_of_generations\n",
    ")\n",
    "print(\"the found max impact for a synergistic nudge {}\".format(\n",
    "    max_synergistic_nudge.score\n",
    "))\n"
   ]
  },
  {
   "cell_type": "code",
   "execution_count": 21,
   "metadata": {},
   "outputs": [
    {
     "name": "stdout",
     "output_type": "stream",
     "text": [
      "0.01\n"
     ]
    }
   ],
   "source": [
    "NUDGE_SIZE = 0.01\n",
    "new_distribution = max_synergistic_nudge.new_distribution\n",
    "l1_norm_to_old_distribution = np.sum(np.absolute(old_input-max_synergistic_nudge.new_distribution))\n",
    "print(l1_norm_to_old_distribution)\n",
    "actual_new_distribution = old_input + (new_distribution-old_input)*(NUDGE_SIZE/l1_norm_to_old_distribution)"
   ]
  },
  {
   "cell_type": "code",
   "execution_count": 22,
   "metadata": {},
   "outputs": [
    {
     "name": "stdout",
     "output_type": "stream",
     "text": [
      "1.38777878078e-16\n",
      "1.66533453694e-16\n",
      "1.38777878078e-16\n",
      "1.11022302463e-16\n"
     ]
    }
   ],
   "source": [
    "import probability_distributions\n",
    "for i in range(len(new_distribution.shape)):\n",
    "    new_marginal = probability_distributions.ProbabilityArray(actual_new_distribution).marginalize(set([i]))\n",
    "    old_marginal = probability_distributions.ProbabilityArray(old_input).marginalize(set([i]))\n",
    "    print(np.sum(np.absolute(new_marginal-old_marginal)))"
   ]
  },
  {
   "cell_type": "code",
   "execution_count": 23,
   "metadata": {},
   "outputs": [
    {
     "data": {
      "text/plain": [
       "0.0022655762979190697"
      ]
     },
     "execution_count": 23,
     "metadata": {},
     "output_type": "execute_result"
    }
   ],
   "source": [
    "import nudge_non_causal\n",
    "nudge_non_causal.find_nudge_impact(old_input, actual_new_distribution, cond_output, measure=\"absolute\")"
   ]
  },
  {
   "cell_type": "code",
   "execution_count": null,
   "metadata": {
    "collapsed": true
   },
   "outputs": [],
   "source": []
  }
 ],
 "metadata": {
  "kernelspec": {
   "display_name": "Python 2",
   "language": "python",
   "name": "python2"
  },
  "language_info": {
   "codemirror_mode": {
    "name": "ipython",
    "version": 2
   },
   "file_extension": ".py",
   "mimetype": "text/x-python",
   "name": "python",
   "nbconvert_exporter": "python",
   "pygments_lexer": "ipython2",
   "version": "2.7.12"
  }
 },
 "nbformat": 4,
 "nbformat_minor": 2
}
