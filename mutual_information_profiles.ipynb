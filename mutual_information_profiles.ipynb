{
 "cells": [
  {
   "cell_type": "code",
   "execution_count": null,
   "metadata": {},
   "outputs": [],
   "source": [
    "%%bash\n",
    "pip install astroML\n",
    "pip install sklearn"
   ]
  },
  {
   "cell_type": "code",
   "execution_count": null,
   "metadata": {
    "collapsed": true
   },
   "outputs": [],
   "source": [
    "import numpy as np\n",
    "from jointpdf.jointpdf import JointProbabilityMatrix"
   ]
  },
  {
   "cell_type": "code",
   "execution_count": null,
   "metadata": {},
   "outputs": [],
   "source": [
    "from functools import reduce\n",
    "\n",
    "def compute_joint(multi_index):\n",
    "    return reduce(lambda x, y: x*y, [marginal_distributions[combination] for\n",
    "            combination in zip(range(len(multi_index)), multi_index)])\n",
    "\n",
    "def compute_joint_from_marginals(marginal_distributions):\n",
    "    dimension_joint_distribution = [len(dist) for dist in marginal_distributions]\n",
    "    full_distribution_temp = np.zeros(dimension_joint_distribution)\n",
    "    full_distribution = np.zeros(dimension_joint_distribution)\n",
    "\n",
    "    it = np.nditer(full_distribution, flags=['multi_index'], op_flags=[['readwrite']])\n",
    "    while not it.finished:\n",
    "        full_distribution[it.multi_index]= compute_joint(it.multi_index)\n",
    "        it.iternext()\n",
    "\n",
    "    return full_distribution\n",
    "    #print(full_distribution)\n",
    "    \n"
   ]
  },
  {
   "cell_type": "code",
   "execution_count": null,
   "metadata": {},
   "outputs": [],
   "source": [
    "a = np.zeros((4,3))\n",
    "b = np.ones((2,2))\n",
    "\n",
    "a[0:2, 0:2] = b\n",
    " \n",
    "print(a)"
   ]
  },
  {
   "cell_type": "code",
   "execution_count": null,
   "metadata": {},
   "outputs": [],
   "source": [
    "class JointProbabilityMatrixExtended(JointProbabilityMatrix):\n",
    "    \"\"\"this class extends the JointProbabilityMatrix by allowing different\n",
    "    variables to have different statespaces\"\"\"\n",
    "    def __init__(self, numvariables, max_num_states, joint_pdf):\n",
    "        self.numvariables = numvariables\n",
    "        self.max_num_states = max_num_states\n",
    "        self.joint_pdf = joint_pdf\n",
    "        #super(JointProbabilityMatrix, self).__init__(num_variables, num_states, joint_pdf)\n",
    "    \n",
    "    #needed to access methods in parent class\n",
    "    def create_joint_probabilities_with_uniform_statespace(self):\n",
    "        self.old_joint_probabilities = self.joint_probabilites \n",
    "        max_number_of_states = max(self.joint_probabilites.joint_probabilities.shape)\n",
    "        temp_joint_probabilities = np.zeros([self.numvariables]*max_number_of_states)\n",
    "        it = np.nditer(self.joint_probabilites.joint_probabilities, flags=['multi_index'])\n",
    "        while not it.finished:\n",
    "            temp_joint_probabilities[it.multi_index] = it.value\n",
    "            it.iternext()\n",
    "            \n",
    "        self.joint_probabilities = temp_joint_probabilities\n",
    "        self.num_states = max_number_of_states\n",
    "    \n",
    "    #rewrite this to work on a nd-array instead!\n",
    "    def append_determinstic_function(self, func, num_states):\n",
    "        \"\"\"append an extra variable to the distribution given by the \n",
    "        deterministic function func\n",
    "        \n",
    "        params:\n",
    "            func: a deterministic discrete function or the already defined variables\n",
    "            num_states: the number of outcomes of the function\n",
    "        \"\"\"\n",
    "        temp1_joint_probability = np.zeros(\n",
    "            list(self.joint_probabilites.joint_probabilities.shape).append(num_states)\n",
    "        )\n",
    "        temp2_joint_probability = np.zeros(\n",
    "            list(self.joint_probabilites.joint_probabilities.shape).append(num_states)\n",
    "        )\n",
    "        it = np.nditer(temp1_joint_probability, flags=['multi_index'])\n",
    "        while not it.finished:\n",
    "            arguments = list(it.multi_index)[:-1]\n",
    "            if func(arguments) == it.multi_index[-1]:\n",
    "                temp2_joint_probability[it.multi_index] = self.joint_probability[]\n",
    "                \n",
    "    "
   ]
  },
  {
   "cell_type": "code",
   "execution_count": null,
   "metadata": {},
   "outputs": [],
   "source": [
    "marginal_distributions = np.array([[0.3, 0.7], [0.4, 0.6], [0.5, 0.5], [0.8,  0.2]])\n",
    "pdf = JointProbabilityMatrix(4, 2, compute_joint_from_marginals(marginal_distributions))\n",
    "pdf_extended = JointProbabilityMatrixExtended(4, 2, compute_joint_from_marginals(marginal_distributions))"
   ]
  },
  {
   "cell_type": "code",
   "execution_count": null,
   "metadata": {},
   "outputs": [],
   "source": [
    "#pdf.append_variables_using_state_transitions_table\n",
    "\n",
    "#marginal = pdf.marginalize_distribution([0, 1])\n",
    "#marginal.joint_probabilities.joint_probabilities\n",
    "\n",
    "marginal = pdf_extended.marginalize_distribution([0, 1])\n",
    "marginal.joint_probabilities.joint_probabilities"
   ]
  },
  {
   "cell_type": "code",
   "execution_count": null,
   "metadata": {
    "collapsed": true
   },
   "outputs": [],
   "source": [
    "import itertools\n",
    "\n",
    "def create_mi_profile(joint_distribution):\n",
    "    \"\"\"create a mutual information profile\n",
    "    \n",
    "    params:\n",
    "        joint_distribution: A JointProbabilityMatrix object from the jointpdf package.\n",
    "        The joint probabilities properties should be of both all the variables and the\n",
    "        function.\n",
    "        \n",
    "    returns: a 1-d nd-array where every value represents the average normalized mutual information\n",
    "        between subsets of variables (of the size of the index) and the ouput variable. \n",
    "    \"\"\"\n",
    "    #assuming the function has an one-dimension output\n",
    "    mi_values = np.zeros(joint_distribution.numvariables)\n",
    "    function_label = joint_distribution.numvariables-1\n",
    "    marginal_function = joint_distribution.marginalize_distribution(\n",
    "        joint_distribution.marginalize_distribution([joint_distribution.numvariables-1])\n",
    "    )\n",
    "    for number_of_variables in np.arange(1, joint_distribution.numvariables, 1):\n",
    "        combinations = itertools.combinations(range(joint_distribution.numvariables-1), \n",
    "                                              number_of_variables)\n",
    "        \n",
    "        mi_values[number_of_variables] = np.mean(\n",
    "            [joint_distribution.mutual_information(combination, [function_label]) \n",
    "             for combination in combinations]\n",
    "        )\n",
    "        \n",
    "    return mi_values\n",
    "                \n",
    "    "
   ]
  },
  {
   "cell_type": "code",
   "execution_count": null,
   "metadata": {},
   "outputs": [],
   "source": []
  },
  {
   "cell_type": "code",
   "execution_count": null,
   "metadata": {
    "collapsed": true
   },
   "outputs": [],
   "source": []
  }
 ],
 "metadata": {
  "kernelspec": {
   "display_name": "Python 2",
   "language": "python",
   "name": "python2"
  },
  "language_info": {
   "codemirror_mode": {
    "name": "ipython",
    "version": 2
   },
   "file_extension": ".py",
   "mimetype": "text/x-python",
   "name": "python",
   "nbconvert_exporter": "python",
   "pygments_lexer": "ipython2",
   "version": "2.7.12"
  }
 },
 "nbformat": 4,
 "nbformat_minor": 1
}
