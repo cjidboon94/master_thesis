{
 "cells": [
  {
   "cell_type": "code",
   "execution_count": null,
   "metadata": {
    "collapsed": true
   },
   "outputs": [],
   "source": [
    "%%bash\n",
    "pip install astroML\n",
    "pip install sklearn"
   ]
  },
  {
   "cell_type": "code",
   "execution_count": 37,
   "metadata": {
    "collapsed": true
   },
   "outputs": [],
   "source": [
    "import numpy as np\n",
    "from jointpdf.jointpdf import JointProbabilityMatrix\n",
    "from jointpdf.jointpdf import FullNestedArrayOfProbabilities"
   ]
  },
  {
   "cell_type": "code",
   "execution_count": 38,
   "metadata": {},
   "outputs": [
    {
     "name": "stdout",
     "output_type": "stream",
     "text": [
      "[0, 1]\n"
     ]
    }
   ],
   "source": [
    "from functools import reduce\n",
    "\n",
    "def compute_joint(multi_index):\n",
    "    return reduce(lambda x, y: x*y, [marginal_distributions[combination] for\n",
    "            combination in zip(range(len(multi_index)), multi_index)])\n",
    "\n",
    "def compute_joint_from_marginals(marginal_distributions):\n",
    "    dimension_joint_distribution = [len(dist) for dist in marginal_distributions]\n",
    "    full_distribution_temp = np.zeros(dimension_joint_distribution)\n",
    "    full_distribution = np.zeros(dimension_joint_distribution)\n",
    "\n",
    "    it = np.nditer(full_distribution, flags=['multi_index'], op_flags=[['readwrite']])\n",
    "    while not it.finished:\n",
    "        full_distribution[it.multi_index]= compute_joint(it.multi_index)\n",
    "        it.iternext()\n",
    "\n",
    "    return full_distribution\n",
    "\n",
    "def xor(x1, x2):\n",
    "    \"\"\"apply xor to binary numbers x1 and x2\"\"\"\n",
    "    return 0 if x1==x2 else 1\n",
    "\n",
    "def double_xor(it):\n",
    "    \"\"\"apply xor to every pair of arguments in xor and return the outcome\n",
    "    \n",
    "    params:\n",
    "        it: 1-d iterable with binary entries and len(it)%2==0\n",
    "    \"\"\"\n",
    "\n",
    "    return [xor(*it[2*i:2*i+2]) for i in range(len(it)/2)]\n",
    "        \n",
    "print(double_xor((1,1,0,1)))\n",
    "\n"
   ]
  },
  {
   "cell_type": "code",
   "execution_count": 116,
   "metadata": {},
   "outputs": [],
   "source": [
    "class JointProbabilityMatrixExtended(JointProbabilityMatrix):\n",
    "    \"\"\"this class extends the JointProbabilityMatrix by allowing different\n",
    "    variables to have different statespaces\"\"\"\n",
    "    def __init__(self, numvariables, max_num_states, joint_pdf):\n",
    "        self.numvariables = numvariables\n",
    "        self.max_num_states = max_num_states\n",
    "        self.joint_probabilities = joint_pdf \n",
    "        #super(JointProbabilityMatrix, self).__init__(num_variables, num_states, joint_pdf)\n",
    "    \n",
    "    #needed to access methods in parent class\n",
    "    def create_joint_probabilities_with_uniform_statespace(self):\n",
    "        \"\"\"ensure that every variable in joint has as many states and add states as needed\"\"\"\n",
    "        self.old_joint_probabilities = self.joint_probabilities\n",
    "        max_number_of_states = max(self.joint_probabilities.joint_probabilities.shape)\n",
    "        temp_joint_probabilities = np.zeros([max_number_of_states]*self.numvariables)\n",
    "        it = np.nditer(self.joint_probabilities.joint_probabilities, flags=['multi_index'])\n",
    "        while not it.finished:\n",
    "            temp_joint_probabilities[it.multi_index] = it.value\n",
    "            it.iternext()\n",
    "            \n",
    "        self.joint_probabilities.joint_probabilities = temp_joint_probabilities\n",
    "        self.numvalues = max_number_of_states\n",
    "    \n",
    "    #rewrite this to work on a nd-array instead!\n",
    "    def append_determinstic_function(self, func, num_variables, num_states):\n",
    "        \"\"\"append an extra variable to the distribution given by the \n",
    "        deterministic function func\n",
    "        \n",
    "        params:\n",
    "            func: a deterministic discrete function over the already defined variables\n",
    "            num_variables: the number of variables\n",
    "            num_states: iterable, the number of outcomes of the function\n",
    "        \"\"\"\n",
    "        old_shape = list(self.joint_probabilities.joint_probabilities.shape)\n",
    "        new_shape = old_shape + num_states\n",
    "        dummy_joint_probability = np.zeros(new_shape)\n",
    "        temp2_joint_probability = np.zeros(new_shape)\n",
    "            \n",
    "        it = np.nditer(dummy_joint_probability, flags=['multi_index'])\n",
    "        while not it.finished:\n",
    "            arguments = tuple(list(it.multi_index)[:-num_variables])\n",
    "            if np.all(np.array(func(arguments)) == np.array(it.multi_index[-num_variables:])):\n",
    "                temp2_joint_probability[it.multi_index] = self.joint_probabilities.joint_probabilities[arguments]\n",
    "                \n",
    "            it.iternext()\n",
    "            \n",
    "        self.joint_probabilities.joint_probabilities = temp2_joint_probability\n",
    "        self.numvariables += num_variables \n",
    "                \n",
    "    "
   ]
  },
  {
   "cell_type": "code",
   "execution_count": 117,
   "metadata": {},
   "outputs": [
    {
     "name": "stdout",
     "output_type": "stream",
     "text": [
      "True\n"
     ]
    }
   ],
   "source": [
    "marginal_distributions = np.array([[0.3, 0.7], [0.4, 0.6], [0.5, 0.5], [0.8,  0.2]])\n",
    "\n",
    "pdf = JointProbabilityMatrix(4, 2, compute_joint_from_marginals(marginal_distributions))\n",
    "pdf_extended = JointProbabilityMatrixExtended(\n",
    "    4, 2, FullNestedArrayOfProbabilities(compute_joint_from_marginals(marginal_distributions))\n",
    ")\n",
    "pdf_extended.create_joint_probabilities_with_uniform_statespace()\n",
    "\n",
    "marginal_extended = pdf_extended.marginalize_distribution([0, 1])\n",
    "marginal = pdf.marginalize_distribution([0, 1])\n",
    "\n",
    "pdf_extended.append_determinstic_function(double_xor, num_variables=2, num_states=[2, 2])\n",
    "pdf_extended.create_joint_probabilities_with_uniform_statespace()\n",
    "marginal_extended = pdf_extended.marginalize_distribution([0, 1])\n",
    "\n",
    "print(\n",
    "    np.all(\n",
    "        marginal_extended.joint_probabilities.joint_probabilities==marginal.joint_probabilities.joint_probabilities\n",
    "    )\n",
    ")\n"
   ]
  },
  {
   "cell_type": "code",
   "execution_count": 92,
   "metadata": {},
   "outputs": [],
   "source": [
    "#pdf.append_variables_using_state_transitions_table\n",
    "\n",
    "#marginal.joint_probabilities.joint_probabilities\n",
    "\n",
    "\n",
    "#marginal.joint_probabilities.joint_probabilities"
   ]
  },
  {
   "cell_type": "code",
   "execution_count": null,
   "metadata": {
    "collapsed": true
   },
   "outputs": [],
   "source": [
    "import itertools\n",
    "\n",
    "def create_mi_profile(joint_distribution):\n",
    "    \"\"\"create a mutual information profile\n",
    "    \n",
    "    params:\n",
    "        joint_distribution: A JointProbabilityMatrix object from the jointpdf package.\n",
    "        The joint probabilities properties should be of both all the variables and the\n",
    "        function.\n",
    "        \n",
    "    returns: a 1-d nd-array where every value represents the average normalized mutual information\n",
    "        between subsets of variables (of the size of the index) and the ouput variable. \n",
    "    \"\"\"\n",
    "    #assuming the function has an one-dimension output\n",
    "    mi_values = np.zeros(joint_distribution.numvariables)\n",
    "    function_label = joint_distribution.numvariables-1\n",
    "    marginal_function = joint_distribution.marginalize_distribution(\n",
    "        joint_distribution.marginalize_distribution([joint_distribution.numvariables-1])\n",
    "    )\n",
    "    for number_of_variables in np.arange(1, joint_distribution.numvariables, 1):\n",
    "        combinations = itertools.combinations(range(joint_distribution.numvariables-1), \n",
    "                                              number_of_variables)\n",
    "        \n",
    "        mi_values[number_of_variables] = np.mean(\n",
    "            [joint_distribution.mutual_information(combination, [function_label]) \n",
    "             for combination in combinations]\n",
    "        )\n",
    "        \n",
    "    return mi_values\n",
    "                \n",
    "    "
   ]
  },
  {
   "cell_type": "code",
   "execution_count": null,
   "metadata": {
    "collapsed": true
   },
   "outputs": [],
   "source": []
  },
  {
   "cell_type": "code",
   "execution_count": null,
   "metadata": {
    "collapsed": true
   },
   "outputs": [],
   "source": []
  }
 ],
 "metadata": {
  "kernelspec": {
   "display_name": "Python 2",
   "language": "python",
   "name": "python2"
  },
  "language_info": {
   "codemirror_mode": {
    "name": "ipython",
    "version": 2
   },
   "file_extension": ".py",
   "mimetype": "text/x-python",
   "name": "python",
   "nbconvert_exporter": "python",
   "pygments_lexer": "ipython2",
   "version": "2.7.12"
  }
 },
 "nbformat": 4,
 "nbformat_minor": 1
}
