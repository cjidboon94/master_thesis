{
 "cells": [
  {
   "cell_type": "code",
   "execution_count": null,
   "metadata": {
    "collapsed": true
   },
   "outputs": [],
   "source": [
    "%%bash\n",
    "pip install astroML\n",
    "pip install sklearn"
   ]
  },
  {
   "cell_type": "code",
   "execution_count": 1,
   "metadata": {},
   "outputs": [],
   "source": [
    "import numpy as np\n",
    "from jointpdf.jointpdf import JointProbabilityMatrix\n",
    "from jointpdf.jointpdf import FullNestedArrayOfProbabilities"
   ]
  },
  {
   "cell_type": "code",
   "execution_count": 2,
   "metadata": {
    "collapsed": true
   },
   "outputs": [],
   "source": [
    "def calculate_entropy(distribution_values):\n",
    "    \"\"\" calculate the entropy\n",
    "    \n",
    "    params:\n",
    "        distribution_values should be a 1-dim numpy array, summing to 1\n",
    "    \n",
    "    returns: the entropy value\n",
    "    \"\"\"\n",
    "    dist_values = distribution_values[distribution_values != 0]\n",
    "    return - np.sum(np.log2(dist_values) * dist_values)\n",
    "\n",
    "def calulate_mutual_information(distribution1, distribution2, joint_distribution):\n",
    "    return (calculate_entropy(distribution1) +\n",
    "            calculate_entropy(distribution2) -\n",
    "            calculate_entropy(joint_distribution))"
   ]
  },
  {
   "cell_type": "code",
   "execution_count": 3,
   "metadata": {},
   "outputs": [
    {
     "name": "stdout",
     "output_type": "stream",
     "text": [
      "[[ 0.09  0.21]\n",
      " [ 0.21  0.49]]\n",
      "[0, 1]\n"
     ]
    }
   ],
   "source": [
    "from functools import reduce\n",
    "\n",
    "def compute_joint(multi_index, marginal_distributions):\n",
    "    return reduce(lambda x, y: x*y, [marginal_distributions[combination] for\n",
    "            combination in zip(range(len(multi_index)), multi_index)])\n",
    "\n",
    "def compute_joint_from_marginals(marginal_distributions):\n",
    "    dimension_joint_distribution = [len(dist) for dist in marginal_distributions]\n",
    "    full_distribution_temp = np.zeros(dimension_joint_distribution)\n",
    "    full_distribution = np.zeros(dimension_joint_distribution)\n",
    "\n",
    "    it = np.nditer(full_distribution, flags=['multi_index'], op_flags=[['readwrite']])\n",
    "    while not it.finished:\n",
    "        full_distribution[it.multi_index]= compute_joint(it.multi_index, marginal_distributions)\n",
    "        it.iternext()\n",
    "\n",
    "    return full_distribution\n",
    "\n",
    "marginal_distributions2 = np.array([[0.3, 0.7], [0.3, 0.7]])\n",
    "print(compute_joint_from_marginals(marginal_distributions2))\n",
    "\n",
    "def xor(it):\n",
    "    \"\"\"apply xor to binary numbers x1 and x2\"\"\"\n",
    "    return 0 if it[0]==it[1] else 1\n",
    "\n",
    "def _and(it):\n",
    "    \"\"\"calculate the and of it\n",
    "    \n",
    "    params:\n",
    "        it: binary iterable of length 2\n",
    "        \n",
    "    returns: a binary number \n",
    "    \"\"\"\n",
    "    return 1 if it[0]==1 and it[1]==1 else 0\n",
    "    \n",
    "def subset_and(it, subsets):\n",
    "    entries = [np.all(np.array(it[subset])==1) for subset in subsets]\n",
    "    return [1 if entry else 0 for entry in entries]\n",
    "    \n",
    "def parity(it):\n",
    "    \"\"\"calculate the parity (sum(it)%2) of the iterable\n",
    "    \n",
    "    params:\n",
    "        it: a binary iterable\n",
    "        \n",
    "    returns: a binary number \n",
    "    \"\"\"\n",
    "    \n",
    "    return sum(it)%2\n",
    "    \n",
    "def double_xor(it):\n",
    "    \"\"\"apply xor to every pair in it and return the outcome\n",
    "    \n",
    "    params:\n",
    "        it: 1-d iterable with binary entries and len(it)%2==0\n",
    "    \"\"\"\n",
    "\n",
    "    return [xor(it[2*i:2*i+2]) for i in range(len(it)/2)]\n",
    "        \n",
    "print(double_xor((1,1,0,1)))\n",
    "\n",
    "\n"
   ]
  },
  {
   "cell_type": "code",
   "execution_count": null,
   "metadata": {
    "collapsed": true
   },
   "outputs": [],
   "source": []
  },
  {
   "cell_type": "code",
   "execution_count": 65,
   "metadata": {
    "collapsed": true
   },
   "outputs": [],
   "source": [
    "class JointProbabilityMatrixExtended(JointProbabilityMatrix):\n",
    "    \"\"\"this class extends the JointProbabilityMatrix by allowing different\n",
    "    variables to have different statespaces\"\"\"\n",
    "    def __init__(self, numvariables, max_num_states, joint_pdf):\n",
    "        self.numvariables = numvariables\n",
    "        self.max_num_states = max_num_states\n",
    "        self.joint_probabilities = joint_pdf \n",
    "        #super(JointProbabilityMatrix, self).__init__(num_variables, num_states, joint_pdf)\n",
    "    \n",
    "    #needed to access methods in parent class\n",
    "    def adjust_to_old_format(self):\n",
    "        \"\"\"ensure that every variable in joint has as many states and add states as needed\"\"\"\n",
    "        self.old_joint_probabilities = self.joint_probabilities\n",
    "        max_number_of_states = max(self.joint_probabilities.joint_probabilities.shape)\n",
    "        temp_joint_probabilities = np.zeros([max_number_of_states]*self.numvariables)\n",
    "        it = np.nditer(self.joint_probabilities.joint_probabilities, flags=['multi_index'])\n",
    "        while not it.finished:\n",
    "            temp_joint_probabilities[it.multi_index] = it.value\n",
    "            it.iternext()\n",
    "            \n",
    "        self.joint_probabilities.joint_probabilities = temp_joint_probabilities\n",
    "        self.numvalues = max_number_of_states\n",
    "    \n",
    "    #rewrite this to work on a nd-array instead!\n",
    "    def append_determinstic_function(self, func, num_variables, num_states):\n",
    "        \"\"\"append an extra variable to the distribution given by the \n",
    "        deterministic function func\n",
    "        \n",
    "        params:\n",
    "            func: a deterministic discrete function over the already defined variables\n",
    "            num_variables: the number of variables\n",
    "            num_states: iterable, the number of outcomes of the function\n",
    "        \"\"\"\n",
    "        old_shape = list(self.joint_probabilities.joint_probabilities.shape)\n",
    "        new_shape = old_shape + num_states\n",
    "        dummy_joint_probability = np.zeros(new_shape)\n",
    "        temp2_joint_probability = np.zeros(new_shape)\n",
    "            \n",
    "        it = np.nditer(dummy_joint_probability, flags=['multi_index'])\n",
    "        while not it.finished:\n",
    "            arguments = tuple(list(it.multi_index)[:-num_variables])\n",
    "            if np.all(np.array(func(arguments)) == np.array(it.multi_index[-num_variables:])):\n",
    "                temp2_joint_probability[it.multi_index] = self.joint_probabilities.joint_probabilities[arguments]\n",
    "                \n",
    "            it.iternext()\n",
    "            \n",
    "        self.joint_probabilities.joint_probabilities = temp2_joint_probability\n",
    "        self.numvariables = self.numvariables + num_variables \n",
    "                \n",
    "    "
   ]
  },
  {
   "cell_type": "markdown",
   "metadata": {},
   "source": [
    "First define some marginal distribution that are assumed to be independent "
   ]
  },
  {
   "cell_type": "code",
   "execution_count": 66,
   "metadata": {
    "collapsed": true
   },
   "outputs": [],
   "source": [
    "marginal_distributions = np.array([[0.5, 0.5], [0.5, 0.5], [0.5, 0.5], [0.5,  0.5]])"
   ]
  },
  {
   "cell_type": "markdown",
   "metadata": {},
   "source": [
    "Tryout whether the implementation works"
   ]
  },
  {
   "cell_type": "code",
   "execution_count": 67,
   "metadata": {},
   "outputs": [
    {
     "name": "stdout",
     "output_type": "stream",
     "text": [
      "True\n"
     ]
    }
   ],
   "source": [
    "pdf = JointProbabilityMatrix(4, 2, compute_joint_from_marginals(marginal_distributions))\n",
    "pdf_extended = JointProbabilityMatrixExtended(\n",
    "    4, 2, FullNestedArrayOfProbabilities(compute_joint_from_marginals(marginal_distributions))\n",
    ")\n",
    "pdf_extended.adjust_to_old_format()\n",
    "\n",
    "marginal_extended = pdf_extended.marginalize_distribution([0, 1])\n",
    "marginal = pdf.marginalize_distribution([0, 1])\n",
    "\n",
    "pdf_extended.append_determinstic_function(double_xor, num_variables=2, num_states=[2, 2])\n",
    "pdf_extended.adjust_to_old_format()\n",
    "marginal_extended = pdf_extended.marginalize_distribution([0, 1])\n",
    "\n",
    "print(\n",
    "    np.all(\n",
    "        marginal_extended.joint_probabilities.joint_probabilities==marginal.joint_probabilities.joint_probabilities\n",
    "    )\n",
    ")\n"
   ]
  },
  {
   "cell_type": "code",
   "execution_count": 68,
   "metadata": {},
   "outputs": [],
   "source": [
    "import itertools\n",
    "\n",
    "def calculate_mi_profile(joint_distribution, function_labels):\n",
    "    \"\"\"create a mutual information profile\n",
    "    \n",
    "    params:\n",
    "        joint_distribution: A JointProbabilityMatrix object from the jointpdf package.\n",
    "        The joint probabilities properties should be of both all the variables and the\n",
    "        function.\n",
    "        function_labels: The labels in the joint distribution which the function represents\n",
    "        \n",
    "    returns: a 1-d nd-array where every value represents the average normalized mutual information\n",
    "        between subsets of variables (of the size of the index) and the ouput variable. \n",
    "    \"\"\"\n",
    "\n",
    "    number_of_arguments = joint_distribution.numvariables-len(function_labels)\n",
    "    mi_values = np.zeros(number_of_arguments+1)\n",
    "    for number_of_variables in np.arange(1, number_of_arguments+1, 1):\n",
    "        combinations = itertools.combinations(range(number_of_arguments), \n",
    "                                              number_of_variables)\n",
    "        \n",
    "        mi_values[number_of_variables] = np.mean(\n",
    "            [joint_distribution.mutual_information(list(combination), function_labels) \n",
    "             for combination in combinations]\n",
    "        )\n",
    "\n",
    "        for comb in itertools.combinations(range(number_of_arguments), number_of_variables):\n",
    "            print(\"input variables {} function labels {} mi value {}\".format(\n",
    "                list(comb), \n",
    "                function_labels,\n",
    "                joint_distribution.mutual_information(list(comb), function_labels)\n",
    "            ))\n",
    "        \n",
    "    return mi_values\n",
    "                \n",
    "    "
   ]
  },
  {
   "cell_type": "code",
   "execution_count": null,
   "metadata": {
    "collapsed": true
   },
   "outputs": [],
   "source": []
  },
  {
   "cell_type": "markdown",
   "metadata": {},
   "source": [
    "Do some testing. I found out that xor for i.i.d variables has mutual information with the individual variables.\n",
    "This was a huge surprise so I tested it with multiple implementation and also using playground.ipnb. "
   ]
  },
  {
   "cell_type": "code",
   "execution_count": 69,
   "metadata": {},
   "outputs": [
    {
     "name": "stdout",
     "output_type": "stream",
     "text": [
      "input variables [0] function labels [4, 5] mi value 0.0\n",
      "input variables [1] function labels [4, 5] mi value 0.0\n",
      "input variables [2] function labels [4, 5] mi value 0.0\n",
      "input variables [3] function labels [4, 5] mi value 0.0\n",
      "input variables [0, 1] function labels [4, 5] mi value 1.0\n",
      "input variables [0, 2] function labels [4, 5] mi value 0.0\n",
      "input variables [0, 3] function labels [4, 5] mi value 0.0\n",
      "input variables [1, 2] function labels [4, 5] mi value 0.0\n",
      "input variables [1, 3] function labels [4, 5] mi value 0.0\n",
      "input variables [2, 3] function labels [4, 5] mi value 1.0\n",
      "input variables [0, 1, 2] function labels [4, 5] mi value 1.0\n",
      "input variables [0, 1, 3] function labels [4, 5] mi value 1.0\n",
      "input variables [0, 2, 3] function labels [4, 5] mi value 1.0\n",
      "input variables [1, 2, 3] function labels [4, 5] mi value 1.0\n",
      "input variables [0, 1, 2, 3] function labels [4, 5] mi value 2.0\n",
      "[ 0.          0.          0.33333333  1.          2.        ]\n",
      "now using the create function\n",
      "\n",
      "the function indices are [4, 5]\n",
      "input variables [0] function labels [4, 5] mi value 0.0\n",
      "input variables [1] function labels [4, 5] mi value 0.0\n",
      "input variables [2] function labels [4, 5] mi value 0.0\n",
      "input variables [3] function labels [4, 5] mi value 0.0\n",
      "input variables [0, 1] function labels [4, 5] mi value 1.0\n",
      "input variables [0, 2] function labels [4, 5] mi value 0.0\n",
      "input variables [0, 3] function labels [4, 5] mi value 0.0\n",
      "input variables [1, 2] function labels [4, 5] mi value 0.0\n",
      "input variables [1, 3] function labels [4, 5] mi value 0.0\n",
      "input variables [2, 3] function labels [4, 5] mi value 1.0\n",
      "input variables [0, 1, 2] function labels [4, 5] mi value 1.0\n",
      "input variables [0, 1, 3] function labels [4, 5] mi value 1.0\n",
      "input variables [0, 2, 3] function labels [4, 5] mi value 1.0\n",
      "input variables [1, 2, 3] function labels [4, 5] mi value 1.0\n",
      "input variables [0, 1, 2, 3] function labels [4, 5] mi value 2.0\n",
      "[ 0.          0.          0.33333333  1.          2.        ]\n"
     ]
    }
   ],
   "source": [
    "pdf_extended = JointProbabilityMatrixExtended(\n",
    "    4, 2, FullNestedArrayOfProbabilities(compute_joint_from_marginals(marginal_distributions))\n",
    ")\n",
    "\n",
    "pdf_extended.append_determinstic_function(double_xor, num_variables=2, num_states=[2, 2])\n",
    "pdf_extended.adjust_to_old_format()\n",
    "print(calculate_mi_profile(pdf_extended, [4, 5]))\n",
    "\n",
    "print(\"now using the create function\")\n",
    "print(\"\")\n",
    "\n",
    "pdf_extended2 = JointProbabilityMatrixExtended(\n",
    "    4, 2, FullNestedArrayOfProbabilities(compute_joint_from_marginals(marginal_distributions))\n",
    ")\n",
    "\n",
    "def create_mutual_information_profile(pdf, function, dim_output_function, num_states_output_function):\n",
    "    \"\"\"create mutual information profile values\n",
    "    \n",
    "    params:\n",
    "        pdf: An object of the JointProbabilityMatrixExtendedClass\n",
    "        function: a function object that takes an iterable of the same length\n",
    "        as the number of variables in the pdf_extended object\n",
    "        dim_output_function: the dimension (number of variables) the function outputs\n",
    "        num_states_output_function: a list, where every entry represents the amount of \n",
    "        states that variable has. The length should be equal to dim_output_function\n",
    "        \n",
    "    returns: An array representing the MI profile values for number of variables \n",
    "    starting at zero and going to the total amount of variables in the distribution\n",
    "    \"\"\"\n",
    "     \n",
    "    \n",
    "    pdf.append_determinstic_function(double_xor, dim_output_function, num_states_output_function)\n",
    "    pdf.adjust_to_old_format()\n",
    "    \n",
    "    function_indices = list(range(pdf.numvariables-dim_output_function, pdf.numvariables))\n",
    "    \n",
    "    print(\"the function indices are {}\".format(function_indices))\n",
    "    return calculate_mi_profile(pdf_extended, function_indices)\n",
    "\n",
    "print(create_mutual_information_profile(pdf_extended2, double_xor, 2, [2,2]))"
   ]
  },
  {
   "cell_type": "markdown",
   "metadata": {},
   "source": [
    "Just created the create_mutual_information_profile to automate some steps when creating an MI profile"
   ]
  },
  {
   "cell_type": "code",
   "execution_count": 56,
   "metadata": {},
   "outputs": [
    {
     "name": "stdout",
     "output_type": "stream",
     "text": [
      "6\n",
      "[[[[[[ 0.0625  0.    ]\n",
      "     [ 0.      0.    ]]\n",
      "\n",
      "    [[ 0.0625  0.    ]\n",
      "     [ 0.      0.    ]]]\n",
      "\n",
      "\n",
      "   [[[ 0.0625  0.    ]\n",
      "     [ 0.      0.    ]]\n",
      "\n",
      "    [[ 0.0625  0.    ]\n",
      "     [ 0.      0.    ]]]]\n",
      "\n",
      "\n",
      "\n",
      "  [[[[ 0.      0.    ]\n",
      "     [ 0.      0.0625]]\n",
      "\n",
      "    [[ 0.      0.    ]\n",
      "     [ 0.      0.0625]]]\n",
      "\n",
      "\n",
      "   [[[ 0.      0.    ]\n",
      "     [ 0.      0.0625]]\n",
      "\n",
      "    [[ 0.      0.    ]\n",
      "     [ 0.      0.0625]]]]]\n",
      "\n",
      "\n",
      "\n",
      "\n",
      " [[[[[ 0.      0.    ]\n",
      "     [ 0.      0.0625]]\n",
      "\n",
      "    [[ 0.      0.    ]\n",
      "     [ 0.      0.0625]]]\n",
      "\n",
      "\n",
      "   [[[ 0.      0.    ]\n",
      "     [ 0.      0.0625]]\n",
      "\n",
      "    [[ 0.      0.    ]\n",
      "     [ 0.      0.0625]]]]\n",
      "\n",
      "\n",
      "\n",
      "  [[[[ 0.0625  0.    ]\n",
      "     [ 0.      0.    ]]\n",
      "\n",
      "    [[ 0.0625  0.    ]\n",
      "     [ 0.      0.    ]]]\n",
      "\n",
      "\n",
      "   [[[ 0.0625  0.    ]\n",
      "     [ 0.      0.    ]]\n",
      "\n",
      "    [[ 0.0625  0.    ]\n",
      "     [ 0.      0.    ]]]]]]\n",
      "the function indices are:\n",
      "[4, 5]\n"
     ]
    },
    {
     "ename": "IndexError",
     "evalue": "tuple index out of range",
     "output_type": "error",
     "traceback": [
      "\u001b[0;31m---------------------------------------------------------------------------\u001b[0m",
      "\u001b[0;31mIndexError\u001b[0m                                Traceback (most recent call last)",
      "\u001b[0;32m<ipython-input-56-92180a63b20d>\u001b[0m in \u001b[0;36m<module>\u001b[0;34m()\u001b[0m\n\u001b[1;32m     67\u001b[0m \u001b[0;34m\u001b[0m\u001b[0m\n\u001b[1;32m     68\u001b[0m print(\"for xor the mi profile is {}\".format(\n\u001b[0;32m---> 69\u001b[0;31m     \u001b[0mcreate_mutual_information_profile\u001b[0m\u001b[0;34m(\u001b[0m\u001b[0mpdf_extended\u001b[0m\u001b[0;34m,\u001b[0m \u001b[0mdouble_xor\u001b[0m\u001b[0;34m,\u001b[0m \u001b[0mdouble_xor_output_dim\u001b[0m\u001b[0;34m,\u001b[0m \u001b[0mdouble_xor_num_states\u001b[0m\u001b[0;34m)\u001b[0m\u001b[0;34m\u001b[0m\u001b[0m\n\u001b[0m\u001b[1;32m     70\u001b[0m ))\n\u001b[1;32m     71\u001b[0m \u001b[0;34m\u001b[0m\u001b[0m\n",
      "\u001b[0;32m<ipython-input-56-92180a63b20d>\u001b[0m in \u001b[0;36mcreate_mutual_information_profile\u001b[0;34m(pdf_extended, function, dim_output_function, num_states_output_function)\u001b[0m\n\u001b[1;32m     34\u001b[0m \u001b[0;34m\u001b[0m\u001b[0m\n\u001b[1;32m     35\u001b[0m     \u001b[0;31m#create the mi profile\u001b[0m\u001b[0;34m\u001b[0m\u001b[0;34m\u001b[0m\u001b[0m\n\u001b[0;32m---> 36\u001b[0;31m     \u001b[0;32mreturn\u001b[0m \u001b[0mcalculate_mi_profile\u001b[0m\u001b[0;34m(\u001b[0m\u001b[0mpdf_extended\u001b[0m\u001b[0;34m,\u001b[0m \u001b[0mfunction_indices\u001b[0m\u001b[0;34m)\u001b[0m\u001b[0;34m\u001b[0m\u001b[0m\n\u001b[0m\u001b[1;32m     37\u001b[0m \u001b[0;34m\u001b[0m\u001b[0m\n\u001b[1;32m     38\u001b[0m \u001b[0;31m#so to calculate the mutual information profile of a function\u001b[0m\u001b[0;34m\u001b[0m\u001b[0;34m\u001b[0m\u001b[0m\n",
      "\u001b[0;32m<ipython-input-54-e1b6c7b8a899>\u001b[0m in \u001b[0;36mcalculate_mi_profile\u001b[0;34m(joint_distribution, function_labels)\u001b[0m\n\u001b[1;32m     28\u001b[0m             print(\"input variables {} function labels {} mi value {}\".format(\n\u001b[1;32m     29\u001b[0m                 \u001b[0mlist\u001b[0m\u001b[0;34m(\u001b[0m\u001b[0mcomb\u001b[0m\u001b[0;34m)\u001b[0m\u001b[0;34m,\u001b[0m\u001b[0;34m\u001b[0m\u001b[0m\n\u001b[0;32m---> 30\u001b[0;31m                 function_labels),\n\u001b[0m\u001b[1;32m     31\u001b[0m                 \u001b[0mjoint_distribution\u001b[0m\u001b[0;34m.\u001b[0m\u001b[0mmutual_information\u001b[0m\u001b[0;34m(\u001b[0m\u001b[0mlist\u001b[0m\u001b[0;34m(\u001b[0m\u001b[0mcomb\u001b[0m\u001b[0;34m)\u001b[0m\u001b[0;34m,\u001b[0m \u001b[0mfunction_labels\u001b[0m\u001b[0;34m)\u001b[0m\u001b[0;34m\u001b[0m\u001b[0m\n\u001b[1;32m     32\u001b[0m             )\n",
      "\u001b[0;31mIndexError\u001b[0m: tuple index out of range"
     ]
    }
   ],
   "source": [
    "\n",
    "#so to calculate the mutual information profile of a function\n",
    "#take the following steps\n",
    "\n",
    "#create a new pdf holding the joint pdf of the variables\n",
    "pdf_extended = JointProbabilityMatrixExtended(\n",
    "    2, 2, FullNestedArrayOfProbabilities(compute_joint_from_marginals(marginal_distributions[:2]))\n",
    ")\n",
    "\n",
    "    \n",
    "#state the amount of variables the function outputs\n",
    "#and the number of states of each variable\n",
    "\n",
    "#xor_output_dim = 1\n",
    "#xor_num_states = [2]\n",
    "\n",
    "#print(\"for xor the mi profile is {}\".format(\n",
    "#    create_mutual_information_profile(pdf_extended, xor, xor_output_dim, xor_num_states)\n",
    "#))\n",
    "\n",
    "#create a new pdf holding the joint pdf of the variables\n",
    "pdf_extended = JointProbabilityMatrixExtended(\n",
    "    4, 2, FullNestedArrayOfProbabilities(compute_joint_from_marginals(marginal_distributions))\n",
    ")\n",
    "    \n",
    "#state the amount of variables the function outputs\n",
    "#and the number of states of each variable\n",
    "\n",
    "double_xor_output_dim = 2\n",
    "double_xor_num_states = [2, 2]\n",
    "\n",
    "print(\"for xor the mi profile is {}\".format(\n",
    "    create_mutual_information_profile(pdf_extended, double_xor, double_xor_output_dim, double_xor_num_states)\n",
    "))\n",
    "\n",
    "pdf_extended = JointProbabilityMatrixExtended(\n",
    "    4, 2, FullNestedArrayOfProbabilities(compute_joint_from_marginals(marginal_distributions))\n",
    ")\n",
    "pdf_extended.append_determinstic_function(double_xor, \n",
    "                                              num_variables=2, \n",
    "                                              num_states=[2, 2])\n",
    "\n",
    "pdf_extended.adjust_to_old_format()\n",
    "\n",
    "print(pdf_extended.mutual_information([0,1,2,3], [4, 5]))\n"
   ]
  },
  {
   "cell_type": "code",
   "execution_count": null,
   "metadata": {},
   "outputs": [],
   "source": []
  },
  {
   "cell_type": "code",
   "execution_count": null,
   "metadata": {
    "collapsed": true
   },
   "outputs": [],
   "source": []
  },
  {
   "cell_type": "code",
   "execution_count": null,
   "metadata": {
    "collapsed": true
   },
   "outputs": [],
   "source": [
    "pdf_extended = JointProbabilityMatrixExtended(\n",
    "    2, 2, FullNestedArrayOfProbabilities(compute_joint_from_marginals(marginal_distributions))\n",
    ")\n",
    "\n",
    "#print(pdf_extended.joint_probabilities.joint_probabilities)\n",
    "#print(\"check mutual info {}\".format(pdf_extended.mutual_information([0], [1])))\n",
    "\n",
    "pdf_extended.append_determinstic_function(double_xor, num_variables=2, num_states=[2, 2])\n",
    "pdf_extended.adjust_to_old_format()\n",
    "\n",
    "#print(pdf_extended.joint_probabilities.joint_probabilities)\n",
    "#print(\"second check mutual information {}\".format(pdf_extended.mutual_information([0], [2])))\n",
    "\n",
    "#calulate_mutual_information(\n",
    "#    pdf_extended.marginalize_distribution([0]).joint_probabilities.joint_probabilities,\n",
    "#    pdf_extended.marginalize_distribution([2]).joint_probabilities.joint_probabilities,\n",
    "#    pdf_extended.marginalize_distribution([0,2]).joint_probabilities.joint_probabilities\n",
    "#)\n",
    "\n",
    "calculate_mi_profile(pdf_extended, [4, 5])"
   ]
  }
 ],
 "metadata": {
  "kernelspec": {
   "display_name": "Python 2",
   "language": "python",
   "name": "python2"
  },
  "language_info": {
   "codemirror_mode": {
    "name": "ipython",
    "version": 2
   },
   "file_extension": ".py",
   "mimetype": "text/x-python",
   "name": "python",
   "nbconvert_exporter": "python",
   "pygments_lexer": "ipython2",
   "version": "2.7.12"
  }
 },
 "nbformat": 4,
 "nbformat_minor": 1
}
