{
 "cells": [
  {
   "cell_type": "code",
   "execution_count": null,
   "metadata": {
    "collapsed": true
   },
   "outputs": [],
   "source": [
    "%load_ext autoreload\n",
    "%autoreload 2"
   ]
  },
  {
   "cell_type": "code",
   "execution_count": null,
   "metadata": {
    "collapsed": true
   },
   "outputs": [],
   "source": [
    "import json\n",
    "import numpy as np\n",
    "from scipy import stats\n",
    "\n",
    "import probability_distributions\n",
    "import maximum_nudges\n",
    "import evolutionary_algorithms as ea\n",
    "import maximum_nudges_evolutionary as ev_max_nudges"
   ]
  },
  {
   "cell_type": "code",
   "execution_count": null,
   "metadata": {
    "collapsed": true
   },
   "outputs": [],
   "source": [
    "NUDGE_SIZE = 0.01"
   ]
  },
  {
   "cell_type": "markdown",
   "metadata": {},
   "source": [
    "#### Generate the input distributions"
   ]
  },
  {
   "cell_type": "code",
   "execution_count": null,
   "metadata": {
    "collapsed": true
   },
   "outputs": [],
   "source": [
    "PATH = \"/home/derkjan/Documents/academics_UVA/master_thesis/code/\"\n",
    "INPUT_FOLDER = \"input_distributions/\"\n",
    "COND_OUTPUT_FOLDER = \"conditional_output_distributions/\"\n",
    "FOLDER_FORMAT_INPUT = \"{}var_{}states/\"\n",
    "FOLDER_FORMAT_CONDITIONAL = \"{}var_{}states/\"\n",
    "FILE_FORMAT_INPUT = \"dist_{}.npy\"\n",
    "FILE_FORMAT_COND_OUTPUT = \"cond_dist_{}.npy\"\n",
    "\n",
    "DIRICHLET_FOLDER_INPUT = \"dirichlet/\"\n",
    "ENTROPY_LOW_FOLDER_INPUT = \"entropy_0.5/\"\n",
    "ENTROPY_MEDIUM_FOLDER_INPUT = \"entropy_0.75/\"\n",
    "\n",
    "DIRICHLET_FOLDER_COND_OUTPUT = \"dirichlet/\"\n",
    "\n",
    "\n",
    "def generate_distributions(path_to_files, file_format, number_of_distributions):\n",
    "    for i in range(number_of_distributions):\n",
    "        file_name = path_to_files + file_format.format(i)\n",
    "        with open(file_name, 'rb') as f:\n",
    "            yield np.load(f)\n",
    "            \n",
    "def generate_distributions_smart(path_to_files, file_format, start_dist, end_dist):\n",
    "    for i in range(start_dist, end_dist, 1):\n",
    "        file_name = path_to_files + file_format.format(i)\n",
    "        #print(file_name)\n",
    "        with open(file_name, 'rb') as f:\n",
    "            yield np.load(f)\n",
    "\n",
    "def generate_input_and_conditional_output(input_type, parameters, cond_output_type=\"dirichlet\"):\n",
    "    \"\"\"\n",
    "\n",
    "    Parameters:\n",
    "    ----------\n",
    "    input_type: string in set {\"dirichlet\", \"entropy_0.5\", \"entropy_0.75\"}\n",
    "    parameters: dict\n",
    "    cond_output: \n",
    "    \n",
    "    Returns: a dict with keys:\n",
    "    -------\n",
    "    number_of_var: a number\n",
    "    number_of_states: a number\n",
    "    input_dist: nd-array\n",
    "    cond_output: nd-array\n",
    "    \n",
    "    \"\"\"\n",
    "    if input_type == \"dirichlet\":\n",
    "        input_dirichlet_path = PATH + INPUT_FOLDER + DIRICHLET_FOLDER_INPUT\n",
    "    elif input_type == \"entropy_0.75\":\n",
    "        input_dirichlet_path = PATH + INPUT_FOLDER + ENTROPY_MEDIUM_FOLDER_INPUT\n",
    "    elif input_type == \"entropy_0.5\":\n",
    "        input_dirichlet_path = PATH + INPUT_FOLDER + ENTROPY_LOW_FOLDER_INPUT\n",
    "    else:\n",
    "        raise ValueError(\"supply valid input distribution type\")\n",
    "\n",
    "    cond_output_dirichlet_path = PATH + COND_OUTPUT_FOLDER + DIRICHLET_FOLDER_COND_OUTPUT\n",
    "\n",
    "    min_inputs = parameters[\"min_number_inputs\"]\n",
    "    max_inputs = parameters[\"max_number_inputs\"]\n",
    "    number_of_states = parameters[\"number_of_states\"]\n",
    "    for number_of_var in range(min_inputs, max_inputs, 1):\n",
    "        path_to_input_files = (\n",
    "            input_dirichlet_path \n",
    "            + FOLDER_FORMAT_INPUT.format(number_of_var, number_of_states)\n",
    "        )\n",
    "        path_to_cond_output_files = (\n",
    "            cond_output_dirichlet_path \n",
    "            + FOLDER_FORMAT_CONDITIONAL.format(number_of_var, number_of_states)\n",
    "        )\n",
    "        input_generator = generate_distributions_smart(\n",
    "            path_to_input_files, FILE_FORMAT_INPUT,\n",
    "            parameters[\"start\"], parameters[\"end\"]\n",
    "        )\n",
    "        cond_output_generator = generate_distributions_smart(\n",
    "            path_to_cond_output_files, FILE_FORMAT_COND_OUTPUT,\n",
    "            parameters[\"start\"], parameters[\"end\"]\n",
    "        )\n",
    "        input_shape = [number_of_states]*number_of_var\n",
    "        cond_output_shape = [number_of_states]*(number_of_var+1)\n",
    "        for sample in range(parameters[\"start\"], parameters[\"end\"], 1):\n",
    "            input_dist = next(input_generator)\n",
    "            input_dist = np.reshape(input_dist, input_shape)\n",
    "            cond_output = next(cond_output_generator)\n",
    "            cond_output = np.reshape(cond_output, cond_output_shape)\n",
    "            yield {\n",
    "                \"number_of_vars\": number_of_var,\n",
    "                \"number_of_states\": parameters[\"number_of_states\"],\n",
    "                \"input_dist\": input_dist,\n",
    "                \"cond_output\": cond_output\n",
    "            }\n"
   ]
  },
  {
   "cell_type": "code",
   "execution_count": null,
   "metadata": {},
   "outputs": [],
   "source": [
    "parameters_distributions = {\n",
    "    \"max_number_inputs\": 7,\n",
    "    \"min_number_inputs\": 2,\n",
    "    \"number_of_states\": 5,\n",
    "    \"start\": 250,\n",
    "    \"end\":350,\n",
    "    \"number_of_distributions\": 100\n",
    "}\n",
    "\n",
    "generator = generate_input_and_conditional_output(\n",
    "    \"entropy_0.75\", parameters_distributions, cond_output_type=\"dirichlet\"\n",
    ")\n",
    "\n",
    "for dist_dict in generator:\n",
    "    print(stats.entropy(dist_dict[\"input_dist\"].flatten()))"
   ]
  },
  {
   "cell_type": "markdown",
   "metadata": {},
   "source": [
    "### Define evolutionary parameters and parameters for the distributions"
   ]
  },
  {
   "cell_type": "code",
   "execution_count": null,
   "metadata": {
    "collapsed": true
   },
   "outputs": [],
   "source": [
    "ev_max_nudges.TEST = False\n",
    "evolutionary_parameters = {\n",
    "    \"number_of_generations\": 200,\n",
    "    \"population_size\": 12,\n",
    "    \"number_of_children\": 24, \n",
    "    \"generational\": True,\n",
    "    \"parent_selection_mode\": \"rank_exponential\",\n",
    "    \"start_mutation_size\": NUDGE_SIZE/10,\n",
    "    \"change_mutation_size\": NUDGE_SIZE/(10*10),\n",
    "    \"mutations_per_update_step\": 10\n",
    "}\n",
    "\n",
    "parameters_distributions = {\n",
    "    \"max_number_inputs\": 7,\n",
    "    \"min_number_inputs\": 2,\n",
    "    \"number_of_states\": 5,\n",
    "    \"start\": 295,\n",
    "    \"end\":300,\n",
    "    \"number_of_distributions\": 5\n",
    "}\n"
   ]
  },
  {
   "cell_type": "code",
   "execution_count": null,
   "metadata": {},
   "outputs": [],
   "source": [
    "\n",
    "generator = generate_input_and_conditional_output(\n",
    "    \"entropy_0.75\", parameters_distributions, cond_output_type=\"dirichlet\"\n",
    ")\n",
    "\n",
    "\n",
    "RUN = True\n",
    "FILE_NAME = \"max_impact_synergistic_nudges_entropy0.75.json\"\n",
    "if RUN:\n",
    "    max_synergistic_impact_dict = {}\n",
    "    prev_number_of_vars = -1\n",
    "    for count, dist_dict in enumerate(generator):\n",
    "        number_of_vars = dist_dict[\"number_of_vars\"]\n",
    "        number_of_states = dist_dict[\"number_of_states\"]\n",
    "        old_input = np.copy(dist_dict[\"input_dist\"])\n",
    "        if number_of_vars != len(dist_dict[\"input_dist\"].shape):\n",
    "            print(\"WARNING in sample {} input dist has weird distribution\".format(count))\n",
    "        if number_of_vars != prev_number_of_vars:\n",
    "            prev_number_of_vars = number_of_vars \n",
    "            print(\"the number of vars {}\".format(number_of_vars))\n",
    "        #print(dist_dict[\"cond_output\"].shape)\n",
    "        max_synergistic_nudge = ev_max_nudges.find_synergistic_nudge_with_max_impact(\n",
    "            dist_dict[\"input_dist\"], dist_dict[\"cond_output\"], NUDGE_SIZE, \n",
    "            evolutionary_parameters\n",
    "        )\n",
    "        max_impact = max_synergistic_nudge.score\n",
    "        print(\"the max nudge impact {}\".format(max_impact))\n",
    "        \n",
    "        new_distribution = max_synergistic_nudge.new_distribution\n",
    "        l1_norm_to_old_distribution = np.sum(np.absolute(\n",
    "            old_input-max_synergistic_nudge.new_distribution\n",
    "        ))\n",
    "        if l1_norm_to_old_distribution < NUDGE_SIZE/2:\n",
    "            print(\"WARNING size of nudge {}\".format(l1_norm_to_old_distribution))\n",
    "        \n",
    "        if number_of_vars in max_synergistic_impact_dict:\n",
    "            max_synergistic_impact_dict[number_of_vars].append(max_impact)\n",
    "        else:\n",
    "            max_synergistic_impact_dict[number_of_vars] = [max_impact]\n",
    "\n",
    "        if (count+1)%5==0 and count != 0:\n",
    "            with open(FILE_NAME, 'w') as f:\n",
    "                json.dump(max_synergistic_impact_dict, f, indent=4)\n",
    "            \n",
    "    with open(FILE_NAME, 'w') as f:\n",
    "        json.dump(max_synergistic_impact_dict, f, indent=4)\n",
    "\n",
    "print(max_synergistic_impact_dict)\n"
   ]
  },
  {
   "cell_type": "code",
   "execution_count": null,
   "metadata": {
    "collapsed": true
   },
   "outputs": [],
   "source": []
  }
 ],
 "metadata": {
  "kernelspec": {
   "display_name": "Python 2",
   "language": "python",
   "name": "python2"
  },
  "language_info": {
   "codemirror_mode": {
    "name": "ipython",
    "version": 2
   },
   "file_extension": ".py",
   "mimetype": "text/x-python",
   "name": "python",
   "nbconvert_exporter": "python",
   "pygments_lexer": "ipython2",
   "version": "2.7.12"
  }
 },
 "nbformat": 4,
 "nbformat_minor": 2
}
