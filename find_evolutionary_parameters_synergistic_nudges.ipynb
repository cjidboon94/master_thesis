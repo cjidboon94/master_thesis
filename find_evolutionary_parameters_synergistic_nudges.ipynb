{
 "cells": [
  {
   "cell_type": "markdown",
   "metadata": {},
   "source": [
    "### Experiments to find the best evolutionary parameters to optimize the impact of synergistic nudges"
   ]
  },
  {
   "cell_type": "code",
   "execution_count": 28,
   "metadata": {},
   "outputs": [],
   "source": [
    "import json\n",
    "import numpy as np\n",
    "from scipy import stats\n",
    "\n",
    "import probability_distributions\n",
    "import maximum_nudges\n",
    "import evolutionary_algorithms as ea\n",
    "import maximum_synergistic_nudge_evolutionary as synergistic_nudge_ev\n",
    "import get_data"
   ]
  },
  {
   "cell_type": "code",
   "execution_count": 33,
   "metadata": {},
   "outputs": [],
   "source": [
    "NUDGE_SIZE = 0.01\n",
    "PATH_TO_DISTRIBUTIONS = \"/home/joboti/azumi_derkjan/master_thesis/code/\""
   ]
  },
  {
   "cell_type": "markdown",
   "metadata": {},
   "source": [
    "#### Define the input and output distributions for synergistic nudges"
   ]
  },
  {
   "cell_type": "code",
   "execution_count": 34,
   "metadata": {},
   "outputs": [],
   "source": [
    "PERCENTAGE_MAX_ENTROPY_SIZE = 75\n",
    "NUMBER_OF_VARS = 4\n",
    "NUMBER_OF_STATES = 3\n",
    "FILENAME_FORMAT_INPUT = \"input_dist_{}.npy\"\n",
    "FILENAME_FORMAT_OUTPUT = \"cond_output_dist_{}.npy\"\n",
    "DIST_START = 100\n",
    "DIST_END = 120\n",
    "\n",
    "distribution_numbers = list(range(DIST_START, DIST_END, 1))\n",
    "path_to_limited_entropy_system_dists = (\n",
    "    PATH_TO_DISTRIBUTIONS + \"system_distributions/\" \n",
    "    + \"limited_entropy/\"\n",
    ")\n",
    "input_dists = get_data.get_system_distributions_limited_entropy(\n",
    "    path_to_limited_entropy_system_dists, PERCENTAGE_MAX_ENTROPY_SIZE,\n",
    "    NUMBER_OF_VARS, NUMBER_OF_STATES, FILENAME_FORMAT_INPUT, \n",
    "    distribution_numbers\n",
    ")\n",
    "input_dists = [input_dist for input_dist in input_dists]\n",
    "output_dists = get_data.get_system_distributions_limited_entropy(\n",
    "    path_to_limited_entropy_system_dists, PERCENTAGE_MAX_ENTROPY_SIZE,\n",
    "    NUMBER_OF_VARS, NUMBER_OF_STATES, FILENAME_FORMAT_OUTPUT, \n",
    "    distribution_numbers\n",
    ")\n",
    "output_dists = [output_dist for output_dist in output_dists]"
   ]
  },
  {
   "cell_type": "markdown",
   "metadata": {},
   "source": [
    "#### Define the evolutionary parameters"
   ]
  },
  {
   "cell_type": "code",
   "execution_count": 45,
   "metadata": {},
   "outputs": [],
   "source": [
    "evolutionary_parameters = {\n",
    "    \"number_of_generations\": 150,\n",
    "    \"population_size\": 10,\n",
    "    \"number_of_children\": 20, \n",
    "    \"generational\": True,\n",
    "    \"parent_selection_mode\": \"rank_exponential\",\n",
    "    \"start_mutation_size\": 0.01/25,\n",
    "    \"change_mutation_size\": 0.01/(25*10),\n",
    "    \"mutations_per_update_step\": 15\n",
    "}\n",
    "\n"
   ]
  },
  {
   "cell_type": "code",
   "execution_count": 46,
   "metadata": {},
   "outputs": [
    {
     "name": "stdout",
     "output_type": "stream",
     "text": [
      "the max nudge impact -0.0061103394637\n",
      "the max nudge impact -0.00799831021129\n",
      "the max nudge impact -0.00593301722579\n",
      "the max nudge impact -0.00776066975344\n",
      "the max nudge impact -0.00668405291854\n",
      "the max nudge impact -0.00747068725045\n",
      "the max nudge impact -0.00693620862032\n",
      "the max nudge impact -0.00720075015693\n",
      "the max nudge impact -0.00746057378017\n",
      "the max nudge impact -0.0071732080644\n",
      "the max nudge impact -0.00700421984984\n",
      "the max nudge impact -0.00599980231516\n",
      "the max nudge impact -0.00766275674237\n",
      "the max nudge impact -0.00748942198807\n",
      "the max nudge impact -0.00701606697454\n",
      "the max nudge impact -0.00559104804457\n",
      "the max nudge impact -0.00662449999576\n",
      "the max nudge impact -0.00713642617693\n",
      "WARNING size of nudge 0.00980752346033\n",
      "the max nudge impact -0.0072608635652\n",
      "the max nudge impact -0.00646461536262\n",
      "-0.006948876923\n",
      "0.000641859912949\n"
     ]
    }
   ],
   "source": [
    "impacts = []\n",
    "backup_filename = \"find_params_synergistic_{}var_{}states_{}entropy_dists{}_{}.json\".format(\n",
    "    NUMBER_OF_VARS, NUMBER_OF_STATES, PERCENTAGE_MAX_ENTROPY_SIZE, DIST_START, DIST_END \n",
    ")\n",
    "for input_dist, cond_output in zip(input_dists, output_dists):\n",
    "    max_synergistic_nudge = synergistic_nudge_ev.find_synergistic_nudge_with_max_impact(\n",
    "        input_dist, cond_output, NUDGE_SIZE, evolutionary_parameters\n",
    "    )\n",
    "    impact = max_synergistic_nudge.score\n",
    "    new_distribution = max_synergistic_nudge.new_distribution\n",
    "    l1_norm_to_old_distribution = np.sum(np.absolute(\n",
    "        input_dist-max_synergistic_nudge.new_distribution\n",
    "    ))\n",
    "    if abs(l1_norm_to_old_distribution-NUDGE_SIZE) > 10**(-4):\n",
    "        print(\"WARNING size of nudge {}\".format(l1_norm_to_old_distribution))\n",
    "\n",
    "    print(\"the max nudge impact {}\".format(impact))\n",
    "    impacts.append(impact)\n",
    "    with open(backup_filename, 'w') as f:\n",
    "        json.dump(impacts, f, indent=4)\n",
    "\n",
    "print(np.mean(impacts))\n",
    "print(np.std(impacts))\n",
    "    "
   ]
  },
  {
   "cell_type": "code",
   "execution_count": null,
   "metadata": {},
   "outputs": [],
   "source": []
  }
 ],
 "metadata": {
  "kernelspec": {
   "display_name": "Python 2",
   "language": "python",
   "name": "python2"
  },
  "language_info": {
   "codemirror_mode": {
    "name": "ipython",
    "version": 2
   },
   "file_extension": ".py",
   "mimetype": "text/x-python",
   "name": "python",
   "nbconvert_exporter": "python",
   "pygments_lexer": "ipython2",
   "version": "2.7.12"
  }
 },
 "nbformat": 4,
 "nbformat_minor": 2
}
