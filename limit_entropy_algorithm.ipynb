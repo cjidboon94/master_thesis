{
 "cells": [
  {
   "cell_type": "code",
   "execution_count": 1,
   "metadata": {
    "collapsed": true
   },
   "outputs": [],
   "source": [
    "import numpy as np\n",
    "from scipy import stats"
   ]
  },
  {
   "cell_type": "code",
   "execution_count": 6,
   "metadata": {
    "collapsed": true
   },
   "outputs": [],
   "source": [
    "TEST = False\n",
    "\n",
    "def produce_dist_with_entropy_exactly(entropy_size_goal, number_of_states, max_change):\n",
    "    dist = np.random.dirichlet([1]*number_of_states)\n",
    "    entropy_dist = stats.entropy(dist, base=2)\n",
    "    while entropy_dist > entropy_size_goal:\n",
    "        state1, state2 = np.random.choice(number_of_states, 2, replace=False)\n",
    "        if dist[state1] < dist[state2]:\n",
    "            bound = min(max_change, dist[state1])\n",
    "            mutation = np.random.uniform(0, bound, 1)\n",
    "            dist[state1] -= mutation\n",
    "            dist[state2] += mutation\n",
    "        else:\n",
    "            bound = min(max_change, dist[state2])\n",
    "            mutation = np.random.uniform(0, bound, 1)\n",
    "            dist[state1] += mutation\n",
    "            dist[state2] -= mutation\n",
    "            \n",
    "        entropy_dist = stats.entropy(dist, base=2)\n",
    "            \n",
    "    return dist\n",
    "\n",
    "def get_dist_percentage_max_entropy_exactly(dist_shape, percentage_max_entropy, max_change):\n",
    "    number_of_states = reduce(lambda x,y: x*y, dist_shape)\n",
    "    goal_entropy = np.log2(number_of_states)*percentage_max_entropy\n",
    "    print(goal_entropy)\n",
    "    dist = produce_dist_with_entropy_exactly(goal_entropy, number_of_states, max_change)\n",
    "    return np.reshape(dist, dist_shape)\n",
    "\n",
    "    "
   ]
  },
  {
   "cell_type": "code",
   "execution_count": 8,
   "metadata": {},
   "outputs": [
    {
     "name": "stdout",
     "output_type": "stream",
     "text": [
      "6.33985000288\n",
      "1.0\n",
      "6.33911355886\n"
     ]
    }
   ],
   "source": [
    "dist = get_dist_percentage_max_entropy_exactly([3]*5, 0.8, 10**(-3))\n",
    "print(np.sum(dist))\n",
    "print(stats.entropy(dist.flatten(), base=2))"
   ]
  },
  {
   "cell_type": "code",
   "execution_count": 10,
   "metadata": {},
   "outputs": [
    {
     "name": "stdout",
     "output_type": "stream",
     "text": [
      "6.33985000288\n",
      "1.0\n",
      "6.33952842987\n"
     ]
    }
   ],
   "source": [
    "import limited_entropy_distributions\n",
    "\n",
    "print(np.log2(3**5) * 0.8)\n",
    "dist = limited_entropy_distributions.get_dist_percentage_max_entropy_exactly([3]*5, 0.8, 10**(-3))\n",
    "print(np.sum(dist))\n",
    "print(stats.entropy(dist.flatten(), base=2))"
   ]
  },
  {
   "cell_type": "code",
   "execution_count": 32,
   "metadata": {},
   "outputs": [
    {
     "name": "stdout",
     "output_type": "stream",
     "text": [
      "tjhe sum of dist 1.0\n",
      "tjhe sum of dist 1.0\n",
      "tjhe sum of dist 0.999999999989\n",
      "1.0\n",
      "[  1.11621330e-02   0.00000000e+00   5.37679479e-02   1.87743931e-04\n",
      "   1.14765833e-07   7.88756768e-03   0.00000000e+00   1.79040742e-02\n",
      "   1.00078029e-01   0.00000000e+00   6.41272114e-02   0.00000000e+00\n",
      "   4.38164077e-02   1.38850894e-01   5.52963981e-02   8.38716303e-02\n",
      "   0.00000000e+00   3.90896039e-02   0.00000000e+00   1.15596415e-01\n",
      "   1.99303745e-02   6.75933874e-02   7.09760831e-02   0.00000000e+00\n",
      "   7.97392547e-02   3.01247287e-02   0.00000000e+00]\n"
     ]
    }
   ],
   "source": [
    "print(\"tjhe sum of dist {}\".format(np.sum(dist.flatten())))\n",
    "dist = dist.flatten()\n",
    "print(\"tjhe sum of dist {}\".format(np.sum(dist)))\n",
    "#print(dist)\n",
    "dist[dist<10**(-10)] = 0\n",
    "print(\"tjhe sum of dist {}\".format(np.sum(dist)))\n",
    "dist = dist / np.sum(dist)\n",
    "print(np.sum(dist.flatten()))\n",
    "print(dist.flatten())"
   ]
  },
  {
   "cell_type": "code",
   "execution_count": null,
   "metadata": {
    "collapsed": true
   },
   "outputs": [],
   "source": []
  },
  {
   "cell_type": "code",
   "execution_count": null,
   "metadata": {
    "collapsed": true
   },
   "outputs": [],
   "source": []
  }
 ],
 "metadata": {
  "kernelspec": {
   "display_name": "Python 2",
   "language": "python",
   "name": "python2"
  },
  "language_info": {
   "codemirror_mode": {
    "name": "ipython",
    "version": 2
   },
   "file_extension": ".py",
   "mimetype": "text/x-python",
   "name": "python",
   "nbconvert_exporter": "python",
   "pygments_lexer": "ipython2",
   "version": "2.7.12"
  }
 },
 "nbformat": 4,
 "nbformat_minor": 2
}
