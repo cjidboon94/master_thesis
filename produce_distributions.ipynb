{
 "cells": [
  {
   "cell_type": "code",
   "execution_count": 1,
   "metadata": {
    "collapsed": true
   },
   "outputs": [],
   "source": [
    "%load_ext autoreload\n",
    "%autoreload 2"
   ]
  },
  {
   "cell_type": "code",
   "execution_count": 2,
   "metadata": {
    "collapsed": true
   },
   "outputs": [],
   "source": [
    "import numpy as np\n",
    "from scipy import stats\n",
    "\n",
    "import probability_distributions\n",
    "import maximum_nudges\n",
    "import evolutionary_algorithms as ea\n",
    "import maximum_nudges_evolutionary as ev_max_nudges"
   ]
  },
  {
   "cell_type": "markdown",
   "metadata": {},
   "source": [
    "#### Way to produce a single example of input and conditional output distributions"
   ]
  },
  {
   "cell_type": "code",
   "execution_count": 4,
   "metadata": {
    "collapsed": true
   },
   "outputs": [],
   "source": [
    "#distribution parameters\n",
    "input_variables = 4\n",
    "number_of_states = 5\n",
    "nudge_size = 0.01\n",
    "\n",
    "#generate both input and conditional output with Dirichlet weights\n",
    "distribution_shape = [number_of_states]*input_variables\n",
    "total_number_of_states = reduce(lambda x,y: x*y, distribution_shape)\n",
    "input_dist = np.random.dirichlet([1]*total_number_of_states)\n",
    "input_dist = np.reshape(input_dist, distribution_shape)\n",
    "cond_shape = [number_of_states]*(input_variables+1)\n",
    "cond_output = [\n",
    "    probability_distributions.compute_joint_uniform_random((number_of_states,))\n",
    "    for i in range(number_of_states**(input_variables))\n",
    "]\n",
    "cond_output = np.array(cond_output)\n",
    "cond_output = np.reshape(cond_output, cond_shape)"
   ]
  },
  {
   "cell_type": "markdown",
   "metadata": {},
   "source": [
    "#### Generate generic distribution using a Dirichlet distribution"
   ]
  },
  {
   "cell_type": "code",
   "execution_count": 5,
   "metadata": {
    "collapsed": true
   },
   "outputs": [],
   "source": [
    "NUMBER_OF_STATES = 5\n",
    "TOTAL_NUMBER_OF_VAR = 6\n",
    "NUMBER_OF_SAMPLES = 1000\n",
    "\n",
    "PATH = \"/home/derkjan/Documents/academics_UVA/master_thesis/code/\"\n",
    "INPUT_FOLDER = \"input_distributions/\"\n",
    "COND_OUTPUT_FOLDER = \"conditional_output_distributions/\"\n",
    "\n",
    "SPECIFIC_FOLDER_INPUT = \"dirichlet\"\n",
    "FOLDER_FORMAT_INPUT = \"{}var_{}states\"\n",
    "SPECIFIC_FOLDER_COND_OUTPUT = \"dirichlet\"\n",
    "FOLDER_FORMAT_CONDITIONAL = \"{}var_{}states\"\n",
    "\n",
    "full_path_input = PATH + INPUT_FOLDER + SPECIFIC_FOLDER_INPUT\n",
    "full_path_cond_output = PATH + COND_OUTPUT_FOLDER + SPECIFIC_FOLDER_COND_OUTPUT\n",
    "RUN = False\n",
    "\n",
    "if RUN:\n",
    "    for number_of_variables in range(1, TOTAL_NUMBER_OF_VAR+1, 1):\n",
    "        shape = [NUMBER_OF_STATES] * number_of_variables\n",
    "        print(\"shape {}\".format(shape))\n",
    "        for sample_number in range(NUMBER_OF_SAMPLES):\n",
    "            if sample_number%5 == 0 and sample_number != 0:\n",
    "                print(sample_number)\n",
    "\n",
    "            #calculate the input distribution\n",
    "            distribution_shape = [NUMBER_OF_STATES]*number_of_variables\n",
    "            total_number_of_states = reduce(lambda x,y: x*y, shape)\n",
    "            input_dist = np.random.dirichlet([1]*total_number_of_states)\n",
    "            input_dist = np.reshape(input_dist, shape)\n",
    "\n",
    "            #save input distribution\n",
    "            folder_name = FOLDER_FORMAT_INPUT.format(number_of_variables, NUMBER_OF_STATES)\n",
    "            file_name = \"dist_{}.npy\".format(sample_number)\n",
    "            #print(full_path_input + '/' + folder_name + '/' + file_name)\n",
    "            with open(full_path_input + '/' + folder_name + '/' + file_name, 'wb') as f:\n",
    "                np.save(f, input_dist)\n",
    "\n",
    "            \n",
    "            #calculate the conditional distribution\n",
    "            cond_shape = [NUMBER_OF_STATES] * (number_of_variables+1)\n",
    "            cond_output = [\n",
    "                probability_distributions.compute_joint_uniform_random((NUMBER_OF_STATES,))\n",
    "                for i in range(NUMBER_OF_STATES**(number_of_variables))\n",
    "            ]\n",
    "            cond_output = np.array(cond_output)\n",
    "            cond_output = np.reshape(cond_output, cond_shape)\n",
    "\n",
    "            #save conditional output distribution\n",
    "            folder_name = FOLDER_FORMAT_CONDITIONAL.format(number_of_variables, NUMBER_OF_STATES)\n",
    "            file_name = \"cond_dist_{}.npy\".format(sample_number)\n",
    "            with open(full_path_cond_output + '/' + folder_name + '/' + file_name, 'wb') as f:\n",
    "                np.save(f, cond_output)"
   ]
  },
  {
   "cell_type": "markdown",
   "metadata": {},
   "source": [
    "#### Generate distributions with limited entropy"
   ]
  },
  {
   "cell_type": "code",
   "execution_count": null,
   "metadata": {
    "collapsed": true
   },
   "outputs": [],
   "source": [
    "NUMBER_OF_STATES = 5\n",
    "TOTAL_NUMBER_OF_VAR = 6\n",
    "NUMBER_OF_SAMPLES = 1000\n",
    "PATH = \"/home/derkjan/Documents/academics_UVA/master_thesis/code/input_distributions/\"\n",
    "PERCENTAGE_MAX_ENTROPY = 0.75\n",
    "SPECIFIC_FOLDER = \"entropy_0.75\"\n",
    "FOLDER_FORMAT = \"{}var_{}states\"\n",
    "full_path = PATH + SPECIFIC_FOLDER\n",
    "\n",
    "RUN = False\n",
    "if RUN:\n",
    "    for number_of_variables in range(1, TOTAL_NUMBER_OF_VAR+1, 1):\n",
    "        shape = [NUMBER_OF_STATES] * number_of_variables\n",
    "        print(\"shape {}\".format(shape))\n",
    "        max_entropy = np.log2(NUMBER_OF_STATES**number_of_variables) \n",
    "        goal_entropy = max_entropy * PERCENTAGE_MAX_ENTROPY\n",
    "        for sample_number in range(NUMBER_OF_SAMPLES):\n",
    "            if sample_number%5 == 0 and sample_number != 0:\n",
    "                print(sample_number)\n",
    "\n",
    "            dist = ea.produce_distribution_with_entropy(shape, PERCENTAGE_MAX_ENTROPY)\n",
    "            folder_name = FOLDER_FORMAT.format(number_of_variables, NUMBER_OF_STATES)\n",
    "            file_name = \"dist_{}.npy\".format(sample_number)\n",
    "            #print(full_path + '/' + folder_name + '/' + file_name)\n",
    "            entropy_size = stats.entropy(dist, base=2)\n",
    "            if abs(entropy_size-goal_entropy) > 0.01*goal_entropy:\n",
    "                print(\"WARNING: entropy size is {} while it should be {}, percentage difference {}\".format(\n",
    "                    entropy_size, goal_entropy, (entropy_size-goal_entropy)/goal_entropy  \n",
    "                ))\n",
    "\n",
    "            with open(full_path + '/' + folder_name + '/' + file_name, 'wb') as f:\n",
    "                np.save(f, dist)\n",
    "\n",
    "    # shape = [5]*6\n",
    "    # dist = ea.produce_distribution_with_entropy(shape, 0.75)\n",
    "    # print(stats.entropy(dist, base=2))\n",
    "    # with open('/home/derkjan/Documents/academics_UVA/master_thesis/code/input_distributions/entropy_0.75/6var_5states/dist_0.npy', 'wb') as f:\n",
    "    #     np.save(f, dist)\n",
    "\n",
    "    # with open('/home/derkjan/Documents/academics_UVA/master_thesis/code/input_distributions/entropy_0.75/6var_5states/dist_0.npy', 'rb') as f:\n",
    "    #     new_dist = np.load(f)\n",
    "    #     print(stats.entropy(dist, base=2))\n",
    "\n",
    "    # print(np.allclose(new_dist, dist))"
   ]
  },
  {
   "cell_type": "code",
   "execution_count": null,
   "metadata": {
    "collapsed": true
   },
   "outputs": [],
   "source": [
    "file_path = ('/home/derkjan/Documents/academics_UVA/master_thesis/code/input_distributions/' +\n",
    "            'entropy_0.75/6var_5states/dist_14.npy')\n",
    "\n",
    "with open(file_path, 'rb') as f:\n",
    "    new_dist = np.load(f)\n",
    "    print(stats.entropy(new_dist, base=2))\n",
    "\n",
    "#print(stats.entropy(dist, base=2))\n",
    "#print(dist[1000:2000])"
   ]
  }
 ],
 "metadata": {
  "kernelspec": {
   "display_name": "Python 2",
   "language": "python",
   "name": "python2"
  },
  "language_info": {
   "codemirror_mode": {
    "name": "ipython",
    "version": 2
   },
   "file_extension": ".py",
   "mimetype": "text/x-python",
   "name": "python",
   "nbconvert_exporter": "python",
   "pygments_lexer": "ipython2",
   "version": "2.7.12"
  }
 },
 "nbformat": 4,
 "nbformat_minor": 2
}
