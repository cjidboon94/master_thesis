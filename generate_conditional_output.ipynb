{
 "cells": [
  {
   "cell_type": "code",
   "execution_count": null,
   "metadata": {
    "collapsed": true
   },
   "outputs": [],
   "source": [
    "%load_ext autoreload\n",
    "%autoreload 2"
   ]
  },
  {
   "cell_type": "markdown",
   "metadata": {},
   "source": [
    "### Description\n",
    "\n",
    "Generate a conditional output distribution according to some constraints"
   ]
  },
  {
   "cell_type": "code",
   "execution_count": null,
   "metadata": {
    "collapsed": true
   },
   "outputs": [],
   "source": [
    "import numpy as np\n",
    "import function_generation\n",
    "import probability_distributions"
   ]
  },
  {
   "cell_type": "code",
   "execution_count": null,
   "metadata": {
    "collapsed": true
   },
   "outputs": [],
   "source": [
    "#distribution parameters\n",
    "input_variables = 4\n",
    "number_of_states = 5\n",
    "nudge_size = 0.01\n",
    "\n",
    "#generate both input and conditional output with Dirichlet weights\n",
    "distribution_shape = [number_of_states]*input_variables\n",
    "total_number_of_states = reduce(lambda x,y: x*y, distribution_shape)\n",
    "input_dist = np.random.dirichlet([1]*total_number_of_states)\n",
    "input_dist = np.reshape(input_dist, distribution_shape)\n",
    "cond_shape = [number_of_states]*(input_variables+1)\n",
    "cond_output = [\n",
    "    probability_distributions.compute_joint_uniform_random((number_of_states,))\n",
    "    for i in range(number_of_states**(input_variables))\n",
    "]\n",
    "cond_output = np.array(cond_output)\n",
    "cond_output = np.reshape(cond_output, cond_shape)\n"
   ]
  },
  {
   "cell_type": "code",
   "execution_count": null,
   "metadata": {
    "collapsed": true
   },
   "outputs": [],
   "source": [
    "PATH = \"/home/derkjan/Documents/academics_UVA/master_thesis/code/\"\n",
    "INPUT_FOLDER = \"input_distributions/\"\n",
    "COND_OUTPUT_FOLDER = \"conditional_output_distributions/\"\n",
    "FOLDER_FORMAT_INPUT = \"{}var_{}states/\"\n",
    "FOLDER_FORMAT_CONDITIONAL = \"{}var_{}states/\"\n",
    "FILE_FORMAT_INPUT = \"dist_{}.npy\"\n",
    "FILE_FORMAT_COND_OUTPUT = \"cond_dist_{}.npy\"\n",
    "\n",
    "DIRICHLET_FOLDER_INPUT = \"dirichlet/\"\n",
    "ENTROPY_LOW_FOLDER_INPUT = \"entropy_0.5/\"\n",
    "ENTROPY_MEDIUM_FOLDER_INPUT = \"entropy_0.75/\"\n",
    "\n",
    "DIRICHLET_FOLDER_COND_OUTPUT = \"dirichlet/\"\n",
    "\n",
    "\n",
    "def generate_distributions(path_to_files, file_format, number_of_distributions):\n",
    "    for i in range(number_of_distributions):\n",
    "        file_name = path_to_files + file_format.format(i)\n",
    "        with open(file_name, 'rb') as f:\n",
    "            yield np.load(f)\n",
    "\n",
    "def get_input_dist_entropy_75(number_of_dists, number_of_var):\n",
    "    number_of_states = 5\n",
    "    path_to_input_files = (\n",
    "        PATH + INPUT_FOLDER + ENTROPY_MEDIUM_FOLDER_INPUT\n",
    "        + FOLDER_FORMAT_INPUT.format(number_of_var, number_of_states)\n",
    "    )\n",
    "    input_generator = generate_distributions(\n",
    "        path_to_input_files, FILE_FORMAT_INPUT, \n",
    "        number_of_dists\n",
    "    )\n",
    "    input_shape = [number_of_states]*number_of_var\n",
    "    input_dists = []\n",
    "    for sample in range(number_of_dists):\n",
    "        input_dist = next(input_generator)\n",
    "        input_dists.append(np.reshape(input_dist, input_shape))\n",
    "        \n",
    "    return input_dists\n"
   ]
  },
  {
   "cell_type": "code",
   "execution_count": null,
   "metadata": {},
   "outputs": [],
   "source": [
    "number_of_vars = 4\n",
    "number_of_input_dists = 100\n",
    "input_dists = input_dists = get_input_dist_entropy_75(\n",
    "    number_of_input_dists, number_of_vars\n",
    ")\n",
    "individual = function_generation.ConditionalOutput(cond_output)\n",
    "individual.evaluate(input_dists=input_dists, goal_distance=0)\n",
    "individual.score"
   ]
  },
  {
   "cell_type": "code",
   "execution_count": null,
   "metadata": {},
   "outputs": [],
   "source": [
    "evolutionary_parameters = {\n",
    "    \"number_of_generations\": 100,\n",
    "    \"population_size\": 10,\n",
    "    \"number_of_children\": 20, \n",
    "    \"generational\": True,\n",
    "    \"mutation_size\": 0.05,\n",
    "    \"parent_selection_mode\": \"rank_exponential\",\n",
    "    \"number_of_input_distributions\": 200\n",
    "}\n",
    "number_of_vars = 4\n",
    "number_of_input_dists = 100\n",
    "input_dists = input_dists = get_input_dist_entropy_75(\n",
    "    number_of_input_dists, number_of_vars\n",
    ")\n",
    "input_shape = 4 * [5]\n",
    "number_of_states_output = 5\n",
    "goal_distance = 1\n",
    "\n",
    "max_cond_output = function_generation.get_cond_output_with_max_distance(\n",
    "    input_shape, number_of_states_output, goal_distance, \n",
    "    evolutionary_parameters, input_dists\n",
    ")"
   ]
  },
  {
   "cell_type": "code",
   "execution_count": null,
   "metadata": {
    "collapsed": true
   },
   "outputs": [],
   "source": [
    "\n",
    "mutated_distribution = function_generation.mutate_conditional_distribution_uniform(\n",
    "    np.copy(cond_output), 0.01\n",
    ")"
   ]
  },
  {
   "cell_type": "code",
   "execution_count": null,
   "metadata": {},
   "outputs": [],
   "source": [
    "#local nudge optimization\n",
    "number_of_generations = 250 \n",
    "population_size = 10\n",
    "number_of_children = 30 \n",
    "generational = True\n",
    "mutation_size = 0.15\n",
    "parent_selection_mode = \"rank_exponential\"\n",
    "#parent_selection_mode = None\n",
    "number_of_input_distributions = 200\n",
    "goal_distance = 0\n",
    "\n",
    "number_of_states = 5\n",
    "number_of_input_variables = 4 \n",
    "\n",
    "#create the initial population\n",
    "conditional_outputs = function_generation.create_condional_distributions(\n",
    "    population_size, number_of_states, number_of_input_variables\n",
    ")\n",
    "\n",
    "for conditional_output in conditional_outputs:\n",
    "    conditional_output.evaluate(goal_distance, input_dists)\n",
    "print(\"initial distance condtional output {}\".format(\n",
    "    function_generation.sort_individuals(conditional_outputs)[-1].score\n",
    "))"
   ]
  },
  {
   "cell_type": "code",
   "execution_count": null,
   "metadata": {},
   "outputs": [],
   "source": [
    "\n",
    "\n",
    "#start the optimization process\n",
    "find_conditional_output = function_generation.FindConditionalOutput(\n",
    "    conditional_outputs, goal_distance, number_of_generations,\n",
    "    number_of_children, parent_selection_mode\n",
    ")\n",
    "print([i.score for i in find_conditional_output.individuals])\n",
    "#find_conditional_output.evolve(generational, mutation_size, None,\n",
    "#                               number_of_input_distributions)\n",
    "find_conditional_output.evolve(generational, mutation_size, input_dists, None)\n",
    "\n",
    "print(\"distance after evolution {}\".format(\n",
    "    function_generation.sort_individuals(find_conditional_output.individuals)[-1].score\n",
    "))\n",
    "\n",
    "\n"
   ]
  },
  {
   "cell_type": "code",
   "execution_count": null,
   "metadata": {
    "collapsed": true
   },
   "outputs": [],
   "source": [
    "find_conditional_output.individuals[-1].cond_output"
   ]
  },
  {
   "cell_type": "code",
   "execution_count": null,
   "metadata": {
    "collapsed": true
   },
   "outputs": [],
   "source": []
  }
 ],
 "metadata": {
  "kernelspec": {
   "display_name": "Python 2",
   "language": "python",
   "name": "python2"
  },
  "language_info": {
   "codemirror_mode": {
    "name": "ipython",
    "version": 2
   },
   "file_extension": ".py",
   "mimetype": "text/x-python",
   "name": "python",
   "nbconvert_exporter": "python",
   "pygments_lexer": "ipython2",
   "version": "2.7.12"
  }
 },
 "nbformat": 4,
 "nbformat_minor": 2
}
