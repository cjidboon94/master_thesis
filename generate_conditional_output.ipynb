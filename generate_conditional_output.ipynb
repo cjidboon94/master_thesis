{
 "cells": [
  {
   "cell_type": "code",
   "execution_count": null,
   "metadata": {},
   "outputs": [],
   "source": [
    "%load_ext autoreload\n",
    "%autoreload 2"
   ]
  },
  {
   "cell_type": "markdown",
   "metadata": {},
   "source": [
    "### Description\n",
    "\n",
    "Generate a conditional output distribution according to some constraints"
   ]
  },
  {
   "cell_type": "code",
   "execution_count": null,
   "metadata": {
    "collapsed": true
   },
   "outputs": [],
   "source": [
    "import numpy as np\n",
    "import function_generation\n",
    "import probability_distributions"
   ]
  },
  {
   "cell_type": "code",
   "execution_count": null,
   "metadata": {
    "collapsed": true
   },
   "outputs": [],
   "source": [
    "#distribution parameters\n",
    "input_variables = 4\n",
    "number_of_states = 5\n",
    "nudge_size = 0.01\n",
    "\n",
    "#generate both input and conditional output with Dirichlet weights\n",
    "distribution_shape = [number_of_states]*input_variables\n",
    "total_number_of_states = reduce(lambda x,y: x*y, distribution_shape)\n",
    "input_dist = np.random.dirichlet([1]*total_number_of_states)\n",
    "input_dist = np.reshape(input_dist, distribution_shape)\n",
    "cond_shape = [number_of_states]*(input_variables+1)\n",
    "cond_output = [\n",
    "    probability_distributions.compute_joint_uniform_random((number_of_states,))\n",
    "    for i in range(number_of_states**(input_variables))\n",
    "]\n",
    "cond_output = np.array(cond_output)\n",
    "cond_output = np.reshape(cond_output, cond_shape)\n"
   ]
  },
  {
   "cell_type": "code",
   "execution_count": null,
   "metadata": {
    "collapsed": true
   },
   "outputs": [],
   "source": [
    "PATH = \"/home/derkjan/Documents/academics_UVA/master_thesis/code/\"\n",
    "INPUT_FOLDER = \"input_distributions/\"\n",
    "COND_OUTPUT_FOLDER = \"conditional_output_distributions/\"\n",
    "FOLDER_FORMAT_INPUT = \"{}var_{}states/\"\n",
    "FOLDER_FORMAT_CONDITIONAL = \"{}var_{}states/\"\n",
    "FILE_FORMAT_INPUT = \"dist_{}.npy\"\n",
    "FILE_FORMAT_COND_OUTPUT = \"cond_dist_{}.npy\"\n",
    "\n",
    "DIRICHLET_FOLDER_INPUT = \"dirichlet/\"\n",
    "ENTROPY_LOW_FOLDER_INPUT = \"entropy_0.5/\"\n",
    "ENTROPY_MEDIUM_FOLDER_INPUT = \"entropy_0.75/\"\n",
    "\n",
    "DIRICHLET_FOLDER_COND_OUTPUT = \"dirichlet/\"\n",
    "\n",
    "\n",
    "def generate_distributions(path_to_files, file_format, number_of_distributions):\n",
    "    for i in range(number_of_distributions):\n",
    "        file_name = path_to_files + file_format.format(i)\n",
    "        with open(file_name, 'rb') as f:\n",
    "            yield np.load(f)\n",
    "\n",
    "def generate_distributions_smart(path_to_files, file_format, start_dist, end_dist):\n",
    "    for i in range(start_dist, end_dist, 1):\n",
    "        file_name = path_to_files + file_format.format(i)\n",
    "        #print(file_name)\n",
    "        with open(file_name, 'rb') as f:\n",
    "            yield np.load(f)\n",
    "            \n",
    "def get_input_dist_entropy_75(number_of_dists, number_of_var, start, end):\n",
    "    number_of_states = 5\n",
    "    path_to_input_files = (\n",
    "        PATH + INPUT_FOLDER + ENTROPY_MEDIUM_FOLDER_INPUT\n",
    "        + FOLDER_FORMAT_INPUT.format(number_of_var, number_of_states)\n",
    "    )\n",
    "    input_generator = generate_distributions_smart(\n",
    "        path_to_input_files, FILE_FORMAT_INPUT, \n",
    "        start, end\n",
    "    )\n",
    "    input_shape = [number_of_states]*number_of_var\n",
    "    input_dists = []\n",
    "    for sample in range(number_of_dists):\n",
    "        input_dist = next(input_generator)\n",
    "        input_dists.append(np.reshape(input_dist, input_shape))\n",
    "        \n",
    "    return input_dists\n"
   ]
  },
  {
   "cell_type": "code",
   "execution_count": null,
   "metadata": {},
   "outputs": [],
   "source": [
    "number_of_vars = 4\n",
    "number_of_input_dists = 100\n",
    "input_dists = get_input_dist_entropy_75(\n",
    "    number_of_input_dists, number_of_vars, 150, 250\n",
    ")\n",
    "individual = function_generation.ConditionalOutput(cond_output, start_mutation_size=0.01, change_mutation_size=0.001)\n",
    "individual.evaluate(input_dists=input_dists, goal_distance=0)\n",
    "individual.score"
   ]
  },
  {
   "cell_type": "code",
   "execution_count": null,
   "metadata": {},
   "outputs": [],
   "source": [
    "evolutionary_parameters = {\n",
    "    \"number_of_generations\": 25,\n",
    "    \"population_size\": 10,\n",
    "    \"number_of_children\": 20, \n",
    "    \"generational\": True,\n",
    "    \"mutation_size\": 2.5,\n",
    "    \"change_mutation_size\": 0.5,\n",
    "    \"parent_selection_mode\": \"rank_exponential\",\n",
    "    \"number_of_input_distributions\": 200\n",
    "}\n",
    "start_dist = 200\n",
    "end_dist = 400\n",
    "number_of_vars = 1\n",
    "number_of_input_dists = 200\n",
    "input_dists = get_input_dist_entropy_75(\n",
    "    number_of_input_dists, number_of_vars, start_dist, end_dist\n",
    ")\n",
    "input_shape = number_of_vars * [5]\n",
    "number_of_states_output = 5\n",
    "goal_distance = 0.3\n",
    "\n",
    "max_cond_output = function_generation.get_cond_output_with_max_distance(\n",
    "    input_shape, number_of_states_output, goal_distance, \n",
    "    evolutionary_parameters, input_dists\n",
    ")\n"
   ]
  },
  {
   "cell_type": "code",
   "execution_count": null,
   "metadata": {},
   "outputs": [],
   "source": [
    "print(max_cond_output.mutation_size)\n",
    "print(max_cond_output.cond_output)\n"
   ]
  },
  {
   "cell_type": "code",
   "execution_count": null,
   "metadata": {
    "collapsed": true
   },
   "outputs": [],
   "source": [
    "\n",
    "mutated_distribution = function_generation.mutate_conditional_distribution_uniform(\n",
    "    np.copy(cond_output), 0.01\n",
    ")"
   ]
  },
  {
   "cell_type": "code",
   "execution_count": null,
   "metadata": {
    "collapsed": true
   },
   "outputs": [],
   "source": []
  }
 ],
 "metadata": {
  "kernelspec": {
   "display_name": "Python 2",
   "language": "python",
   "name": "python2"
  },
  "language_info": {
   "codemirror_mode": {
    "name": "ipython",
    "version": 2
   },
   "file_extension": ".py",
   "mimetype": "text/x-python",
   "name": "python",
   "nbconvert_exporter": "python",
   "pygments_lexer": "ipython2",
   "version": "2.7.12"
  }
 },
 "nbformat": 4,
 "nbformat_minor": 2
}
