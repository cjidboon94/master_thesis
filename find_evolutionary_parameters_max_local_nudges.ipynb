{
 "cells": [
  {
   "cell_type": "markdown",
   "metadata": {},
   "source": [
    "### Experiments to find the best evolutionary parameters to optimize the impact of local nudges"
   ]
  },
  {
   "cell_type": "code",
   "execution_count": null,
   "metadata": {},
   "outputs": [],
   "source": [
    "import json\n",
    "import numpy as np\n",
    "from scipy import stats\n",
    "\n",
    "import probability_distributions\n",
    "import maximum_nudges\n",
    "import evolutionary_algorithms as ea\n",
    "import maximum_nudges_evolutionary\n",
    "import get_data\n",
    "import nudge_non_causal"
   ]
  },
  {
   "cell_type": "code",
   "execution_count": null,
   "metadata": {},
   "outputs": [],
   "source": [
    "NUDGE_SIZE = 0.01\n",
    "PATH_TO_DISTRIBUTIONS = \"/home/joboti/azumi_derkjan/master_thesis/code/\""
   ]
  },
  {
   "cell_type": "markdown",
   "metadata": {},
   "source": [
    "#### Define the input and output distributions for local nudges"
   ]
  },
  {
   "cell_type": "code",
   "execution_count": null,
   "metadata": {},
   "outputs": [],
   "source": [
    "PERCENTAGE_MAX_ENTROPY_SIZE = 75\n",
    "NUMBER_OF_VARS = 4\n",
    "NUMBER_OF_STATES = 3\n",
    "FILENAME_FORMAT_INPUT = \"input_dist_{}.npy\"\n",
    "FILENAME_FORMAT_OUTPUT = \"cond_output_dist_{}.npy\"\n",
    "DIST_START = 100\n",
    "DIST_END = 103\n",
    "\n",
    "distribution_numbers = list(range(DIST_START, DIST_END, 1))\n",
    "path_to_limited_entropy_system_dists = (\n",
    "    PATH_TO_DISTRIBUTIONS + \"system_distributions/\" \n",
    "    + \"limited_entropy/\"\n",
    ")\n",
    "input_dists = get_data.get_system_distributions_limited_entropy(\n",
    "    path_to_limited_entropy_system_dists, PERCENTAGE_MAX_ENTROPY_SIZE,\n",
    "    NUMBER_OF_VARS, NUMBER_OF_STATES, FILENAME_FORMAT_INPUT, \n",
    "    distribution_numbers\n",
    ")\n",
    "input_dists = [input_dist for input_dist in input_dists]\n",
    "output_dists = get_data.get_system_distributions_limited_entropy(\n",
    "    path_to_limited_entropy_system_dists, PERCENTAGE_MAX_ENTROPY_SIZE,\n",
    "    NUMBER_OF_VARS, NUMBER_OF_STATES, FILENAME_FORMAT_OUTPUT, \n",
    "    distribution_numbers\n",
    ")\n",
    "output_dists = [output_dist for output_dist in output_dists]"
   ]
  },
  {
   "cell_type": "markdown",
   "metadata": {},
   "source": [
    "#### Define the evolutionary parameters"
   ]
  },
  {
   "cell_type": "code",
   "execution_count": null,
   "metadata": {},
   "outputs": [],
   "source": [
    "evolutionary_params = {\n",
    "    \"number_of_generations\": 50,\n",
    "    \"population_size\": 20,\n",
    "    \"number_of_children\": 150,\n",
    "    \"generational\": False,\n",
    "    \"parent_selection_mode\": \"rank_exponential\",\n",
    "    \"mutation_size_weights\": 0.8,\n",
    "    \"change_mutation_size_weights\": 0.5,\n",
    "    \"start_mutation_size\": 0.005,\n",
    "    \"change_mutation_size\": 0.5\n",
    "}\n"
   ]
  },
  {
   "cell_type": "code",
   "execution_count": null,
   "metadata": {},
   "outputs": [],
   "source": [
    "maximum_nudges_evolutionary.TEST = False\n",
    "impacts = []\n",
    "backup_filename = \"find_params_local_nudge_{}var_{}states_{}entropy_dists{}_{}.json\".format(\n",
    "    NUMBER_OF_VARS, NUMBER_OF_STATES, PERCENTAGE_MAX_ENTROPY_SIZE, DIST_START, DIST_END \n",
    ")\n",
    "for input_dist, cond_output in zip(input_dists, output_dists):\n",
    "    max_local_nudge = maximum_nudges_evolutionary.find_maximum_local_nudge(\n",
    "        input_dist, cond_output, NUDGE_SIZE, evolutionary_params\n",
    "    )\n",
    "    impact = max_local_nudge.score\n",
    "    individual_nudges = max_local_nudge.individual_nudges\n",
    "    nudge_vectors = [\n",
    "        weight*nudge.genes \n",
    "        for nudge, weight in zip(individual_nudges, max_local_nudge.weights)\n",
    "    ]\n",
    "    new_dist = nudge_non_causal.nudge_local(\n",
    "        input_dist, list(range(NUMBER_OF_VARS-1)), NUDGE_SIZE, nudge_vectors \n",
    "    )\n",
    "    l1_norm_to_old_distribution = np.sum(np.absolute(input_dist-new_dist))\n",
    "    if abs(l1_norm_to_old_distribution-NUDGE_SIZE) > 10**(-5):\n",
    "        print(\"WARNING size of nudge {}\".format(l1_norm_to_old_distribution))\n",
    "\n",
    "    print(\"the max nudge impact {}\".format(impact))\n",
    "    impacts.append(impact)\n",
    "    with open(backup_filename, 'w') as f:\n",
    "        json.dump(impacts, f, indent=4)\n",
    "\n",
    "print(np.mean(impacts))\n",
    "print(np.std(impacts))\n",
    "    "
   ]
  },
  {
   "cell_type": "code",
   "execution_count": null,
   "metadata": {},
   "outputs": [],
   "source": []
  }
 ],
 "metadata": {
  "kernelspec": {
   "display_name": "Python 2",
   "language": "python",
   "name": "python2"
  },
  "language_info": {
   "codemirror_mode": {
    "name": "ipython",
    "version": 2
   },
   "file_extension": ".py",
   "mimetype": "text/x-python",
   "name": "python",
   "nbconvert_exporter": "python",
   "pygments_lexer": "ipython2",
   "version": "2.7.12"
  }
 },
 "nbformat": 4,
 "nbformat_minor": 2
}
