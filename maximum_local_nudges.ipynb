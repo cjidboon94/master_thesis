{
 "cells": [
  {
   "cell_type": "code",
   "execution_count": null,
   "metadata": {
    "collapsed": true
   },
   "outputs": [],
   "source": [
    "%load_ext autoreload\n",
    "%autoreload 2"
   ]
  },
  {
   "cell_type": "code",
   "execution_count": null,
   "metadata": {},
   "outputs": [],
   "source": [
    "import numpy as np\n",
    "from scipy import stats\n",
    "\n",
    "import probability_distributions\n",
    "import maximum_nudges\n",
    "import evolutionary_algorithms as ea\n",
    "import maximum_nudges_evolutionary as ev_max_nudges\n",
    "import nudge_non_causal"
   ]
  },
  {
   "cell_type": "code",
   "execution_count": null,
   "metadata": {
    "collapsed": true
   },
   "outputs": [],
   "source": [
    "#distribution parameters\n",
    "input_variables = 2\n",
    "number_of_states = 5\n",
    "nudge_size = 0.01\n",
    "\n",
    "#generate both input and conditional output with Dirichlet weights\n",
    "distribution_shape = [number_of_states]*input_variables\n",
    "total_number_of_states = reduce(lambda x,y: x*y, distribution_shape)\n",
    "input_dist = np.random.dirichlet([1]*total_number_of_states)\n",
    "input_dist = np.reshape(input_dist, distribution_shape)\n",
    "cond_shape = [number_of_states]*(input_variables+1)\n",
    "cond_output = [\n",
    "    probability_distributions.compute_joint_uniform_random((number_of_states,))\n",
    "    for i in range(number_of_states**(input_variables))\n",
    "]\n",
    "cond_output = np.array(cond_output)\n",
    "cond_output = np.reshape(cond_output, cond_shape)"
   ]
  },
  {
   "cell_type": "code",
   "execution_count": null,
   "metadata": {},
   "outputs": [],
   "source": [
    "#local nudge optimization\n",
    "number_of_generations = 500 \n",
    "population_size = 20\n",
    "number_of_children = 10 \n",
    "generational = False\n",
    "mutation_size = nudge_size/4\n",
    "#parent_selection_mode = \"rank_exponential\"\n",
    "parent_selection_mode = None\n",
    "mutation_size_weights = 0.025\n",
    "change_mutation_size_weights = 0.2\n",
    "start_mutation_size = 0.05\n",
    "change_mutation_size = 0.2\n",
    "nudged_vars_to_states = {\n",
    "    nudged_var:number_of_states for nudged_var in range(input_variables)\n",
    "}\n",
    "print(nudged_vars_to_states)"
   ]
  },
  {
   "cell_type": "code",
   "execution_count": null,
   "metadata": {},
   "outputs": [],
   "source": [
    "\n",
    "#create the initial population\n",
    "local_nudges = []\n",
    "for _ in range(population_size):\n",
    "    new_local_nudge = ev_max_nudges.LocalNudge.create_local_nudge(\n",
    "        nudged_vars_to_states, nudge_size, mutation_size_weights,\n",
    "        start_mutation_size, change_mutation_size, change_mutation_size_weights, \n",
    "        timestamp=0\n",
    "    )\n",
    "    local_nudges.append(new_local_nudge)\n",
    "\n",
    "for local_nudge in local_nudges:\n",
    "    local_nudge.evaluate(input_dist, cond_output)\n",
    "print(\"initial impact local nudge {}\".format(\n",
    "    ea.sort_individuals(local_nudges)[0].score\n",
    "))\n",
    "\n",
    "#start the optimization process\n",
    "find_max_local_nudge = ev_max_nudges.FindMaximumLocalNudge(\n",
    "    input_dist, cond_output, nudge_size, \n",
    "    generational, number_of_children, parent_selection_mode\n",
    ")\n",
    "max_local_nudge_individual = find_max_local_nudge.get_max_nudge(\n",
    "    local_nudges, number_of_generations\n",
    ")\n",
    "print(\"the found max impact for a local nudge {}\".format(\n",
    "    max_local_nudge_individual.score\n",
    "))\n"
   ]
  },
  {
   "cell_type": "markdown",
   "metadata": {
    "collapsed": true
   },
   "source": [
    "### Define evolutionary parameters local nudge "
   ]
  },
  {
   "cell_type": "code",
   "execution_count": null,
   "metadata": {},
   "outputs": [],
   "source": [
    "local_evolutionary_params = {\n",
    "    \"number_of_generations\": 250,\n",
    "    \"population_size\": 20,\n",
    "    \"number_of_children\": 40, \n",
    "    \"generational\": True,\n",
    "    \"parent_selection_mode\": \"rank_exponential\",\n",
    "    \"mutation_size_weights\": 0.2,\n",
    "    \"change_mutation_size_weights\": 0.3,\n",
    "    \"start_mutation_size\": 0.025,\n",
    "    \"change_mutation_size\": 0.3\n",
    "}"
   ]
  },
  {
   "cell_type": "code",
   "execution_count": null,
   "metadata": {},
   "outputs": [],
   "source": [
    "max_local_nudge = ev_max_nudges.find_maximum_local_nudge(\n",
    "    input_dist, cond_output, nudge_size, \n",
    "    local_evolutionary_params, verbose=True\n",
    ")\n",
    "print(max_local_nudge.score)\n",
    "print(max_local_nudge.weights)\n"
   ]
  },
  {
   "cell_type": "code",
   "execution_count": null,
   "metadata": {},
   "outputs": [],
   "source": [
    "individual_nudges = max_local_nudge.individual_nudges\n",
    "\n",
    "nudge_vectors = [\n",
    "    weight*nudge.genes \n",
    "    for nudge, weight in zip(individual_nudges, max_local_nudge.weights)\n",
    "]\n",
    "new_dist = nudge_non_causal.nudge_local(\n",
    "    input_dist, [0, 1], 0.01, nudge_vectors \n",
    ")\n",
    "print(np.sum(np.absolute(input_dist-new_dist)))\n",
    "print(nudge_non_causal.find_nudge_impact(\n",
    "    input_dist, new_dist, cond_output,\n",
    "    measure=\"absolute\"\n",
    "))"
   ]
  },
  {
   "cell_type": "code",
   "execution_count": null,
   "metadata": {},
   "outputs": [],
   "source": [
    "individual_nudges[0].genes\n",
    "individual_nudges[1].genes"
   ]
  },
  {
   "cell_type": "code",
   "execution_count": null,
   "metadata": {
    "collapsed": true
   },
   "outputs": [],
   "source": []
  }
 ],
 "metadata": {
  "kernelspec": {
   "display_name": "Python 2",
   "language": "python",
   "name": "python2"
  },
  "language_info": {
   "codemirror_mode": {
    "name": "ipython",
    "version": 2
   },
   "file_extension": ".py",
   "mimetype": "text/x-python",
   "name": "python",
   "nbconvert_exporter": "python",
   "pygments_lexer": "ipython2",
   "version": "2.7.12"
  }
 },
 "nbformat": 4,
 "nbformat_minor": 2
}
