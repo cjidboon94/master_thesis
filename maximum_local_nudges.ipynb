{
 "cells": [
  {
   "cell_type": "code",
   "execution_count": 1,
   "metadata": {
    "collapsed": true
   },
   "outputs": [],
   "source": [
    "%load_ext autoreload\n",
    "%autoreload 2"
   ]
  },
  {
   "cell_type": "code",
   "execution_count": 2,
   "metadata": {
    "collapsed": true
   },
   "outputs": [],
   "source": [
    "import numpy as np\n",
    "from scipy import stats\n",
    "\n",
    "import probability_distributions\n",
    "import maximum_nudges\n",
    "import evolutionary_algorithms as ea\n",
    "import maximum_nudges_evolutionary as ev_max_nudges"
   ]
  },
  {
   "cell_type": "code",
   "execution_count": 15,
   "metadata": {
    "collapsed": true
   },
   "outputs": [],
   "source": [
    "#distribution parameters\n",
    "input_variables = 2\n",
    "number_of_states = 5\n",
    "nudge_size = 0.01\n",
    "\n",
    "#generate both input and conditional output with Dirichlet weights\n",
    "distribution_shape = [number_of_states]*input_variables\n",
    "total_number_of_states = reduce(lambda x,y: x*y, distribution_shape)\n",
    "input_dist = np.random.dirichlet([1]*total_number_of_states)\n",
    "input_dist = np.reshape(input_dist, distribution_shape)\n",
    "cond_shape = [number_of_states]*(input_variables+1)\n",
    "cond_output = [\n",
    "    probability_distributions.compute_joint_uniform_random((number_of_states,))\n",
    "    for i in range(number_of_states**(input_variables))\n",
    "]\n",
    "cond_output = np.array(cond_output)\n",
    "cond_output = np.reshape(cond_output, cond_shape)"
   ]
  },
  {
   "cell_type": "code",
   "execution_count": 16,
   "metadata": {
    "collapsed": true
   },
   "outputs": [],
   "source": [
    "#local nudge optimization\n",
    "number_of_generations = 500 \n",
    "population_size = 20\n",
    "number_of_children = 10 \n",
    "generational = False\n",
    "mutation_size = nudge_size/4\n",
    "#parent_selection_mode = \"rank_exponential\"\n",
    "parent_selection_mode = None\n",
    "mutation_size_weights = 0.025\n",
    "start_mutation_size = nudge_size/10\n",
    "change_mutation_size = start_mutation_size/10\n",
    "nudged_vars_to_states = {\n",
    "    nudged_var:number_of_states for nudged_var in range(input_variables)\n",
    "}"
   ]
  },
  {
   "cell_type": "code",
   "execution_count": 17,
   "metadata": {},
   "outputs": [
    {
     "name": "stdout",
     "output_type": "stream",
     "text": [
      "initial impact local nudge -0.00285320381319\n",
      "the found max impact for a local nudge -0.00451595005821\n"
     ]
    }
   ],
   "source": [
    "#create the initial population\n",
    "local_nudges = []\n",
    "for _ in range(population_size):\n",
    "    new_local_nudge = ev_max_nudges.LocalNudge.create_local_nudge(\n",
    "        nudged_vars_to_states, nudge_size, mutation_size_weights,\n",
    "        start_mutation_size, change_mutation_size, timestamp=0\n",
    "    )\n",
    "    local_nudges.append(new_local_nudge)\n",
    "\n",
    "for local_nudge in local_nudges:\n",
    "    local_nudge.evaluate(input_dist, cond_output)\n",
    "print(\"initial impact local nudge {}\".format(\n",
    "    ea.sort_individuals(local_nudges)[0].score\n",
    "))\n",
    "\n",
    "#start the optimization process\n",
    "find_max_local_nudge = ev_max_nudges.FindMaximumLocalNudge(\n",
    "    input_dist, cond_output, nudge_size, \n",
    "    generational, number_of_children, parent_selection_mode\n",
    ")\n",
    "max_local_nudge_individual = find_max_local_nudge.get_max_nudge(\n",
    "    local_nudges, number_of_generations\n",
    ")\n",
    "print(\"the found max impact for a local nudge {}\".format(\n",
    "    max_local_nudge_individual.score\n",
    "))\n"
   ]
  },
  {
   "cell_type": "code",
   "execution_count": null,
   "metadata": {
    "collapsed": true
   },
   "outputs": [],
   "source": []
  }
 ],
 "metadata": {
  "kernelspec": {
   "display_name": "Python 2",
   "language": "python",
   "name": "python2"
  },
  "language_info": {
   "codemirror_mode": {
    "name": "ipython",
    "version": 2
   },
   "file_extension": ".py",
   "mimetype": "text/x-python",
   "name": "python",
   "nbconvert_exporter": "python",
   "pygments_lexer": "ipython2",
   "version": "2.7.12"
  }
 },
 "nbformat": 4,
 "nbformat_minor": 2
}
