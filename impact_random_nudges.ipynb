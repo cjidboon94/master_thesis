{
 "cells": [
  {
   "cell_type": "markdown",
   "metadata": {},
   "source": [
    "### Introduction\n",
    "\n",
    "This notebook aims to find the impact of random nudges"
   ]
  },
  {
   "cell_type": "code",
   "execution_count": 1,
   "metadata": {},
   "outputs": [],
   "source": [
    "%load_ext autoreload\n",
    "%autoreload 2"
   ]
  },
  {
   "cell_type": "code",
   "execution_count": 2,
   "metadata": {},
   "outputs": [],
   "source": [
    "import json\n",
    "\n",
    "import numpy as np\n",
    "from scipy import stats\n",
    "\n",
    "import probability_distributions\n",
    "import maximum_nudges\n",
    "import evolutionary_algorithms as ea\n",
    "import maximum_synergistic_nudge_evolutionary as synergistic_nudge_ev\n",
    "import maximum_nudges_evolutionary as ev_max_nudges\n",
    "import nudge_non_causal\n",
    "import get_data"
   ]
  },
  {
   "cell_type": "markdown",
   "metadata": {},
   "source": [
    "### Notebook level constants"
   ]
  },
  {
   "cell_type": "code",
   "execution_count": 3,
   "metadata": {},
   "outputs": [],
   "source": [
    "NUDGE_SIZE = 0.01\n",
    "PATH_TO_DISTRIBUTIONS = \"/home/joboti/azumi_derkjan/master_thesis/code/\""
   ]
  },
  {
   "cell_type": "markdown",
   "metadata": {},
   "source": [
    "### Find the random impact of a nudge given the nudge type, the input and conditional output, and nudge size\n",
    "\n"
   ]
  },
  {
   "cell_type": "code",
   "execution_count": 6,
   "metadata": {},
   "outputs": [
    {
     "ename": "IndentationError",
     "evalue": "unindent does not match any outer indentation level (<ipython-input-6-151290a454a3>, line 33)",
     "output_type": "error",
     "traceback": [
      "\u001b[0;36m  File \u001b[0;32m\"<ipython-input-6-151290a454a3>\"\u001b[0;36m, line \u001b[0;32m33\u001b[0m\n\u001b[0;31m    nudge.synergistic_mutate(self.new_distribution, abs(self.mutation_size))\u001b[0m\n\u001b[0m                                                                            ^\u001b[0m\n\u001b[0;31mIndentationError\u001b[0m\u001b[0;31m:\u001b[0m unindent does not match any outer indentation level\n"
     ]
    }
   ],
   "source": [
    "def get_random_nudge_impacts(input_dists, cond_output_dists, nudge_size, nudge_type, \n",
    "                             backup_filename, parameters):\n",
    "    \"\"\"\n",
    "    Find the maximum impact of the nudges\n",
    "    \n",
    "    Parameters:\n",
    "    ----------\n",
    "    input_dists: list of nd-arrays representing probability distributions\n",
    "    cond_output_dists: list of nd-arrays \n",
    "        Representing output distributions (the last axis) conditioned on the input \n",
    "        distributions\n",
    "    nudge_size: positive float\n",
    "    nudge_type: string\n",
    "        One of the following: {\"individual\", \"local\", \"synergistic\", \"global\"}\n",
    "    filename_to_save: string, \n",
    "        Should be a valid path\n",
    "    parameters: a dict,\n",
    "        The parameters used to find the maximum nudge\n",
    "    \n",
    "    \"\"\"\n",
    "    impacts = []\n",
    "    for input_dist, cond_output in zip(input_dists, cond_output_dists):\n",
    "        print(\"count {}\".format(len(impacts)))\n",
    "        if nudge_type == \"individual\":\n",
    "            new_dist = nudge_non_causal.nudge_individual_without_conditional(input_dist, nudge_size)\n",
    "        elif nudge_type == \"local\":\n",
    "            new_dist = nudge_non_causal.nudge_local(\n",
    "                input_dist, nudged_vars=parameters[\"nudged_vars\"], nudge_size=nudge_size,\n",
    "                without_conditional=True\n",
    "            )\n",
    "        elif nudge_type == \"synergistic\":\n",
    "            new_dist = np.copy(input_dist)\n",
    "            for _ in range(parameters[\"max_number_of_mutations\"]):\n",
    "                nudge_non_causal.synergistic_mutate(\n",
    "                    new_dist, parameters[\"mutation_size\"]\n",
    "                )\n",
    "                new_nudge_size = np.sum(abs(new_dist-input_dist))\n",
    "                adjustment_factor = nudge_size/new_nudge_size\n",
    "                if adjustment_factor <= 1:\n",
    "                    break\n",
    "            \n",
    "            new_dist = input_dist + (new_dist-input_dist)*adjustment_factor\n",
    "        elif nudge_type == \"global\":\n",
    "            new_dist = nudge_non_causal.nudge_global(input_dist, nudge_size, without_conditional=True)\n",
    "        else:\n",
    "            raise ValueError(\"provide a valid nudge type\")\n",
    "\n",
    "        l1_norm_to_old_distribution = np.sum(np.absolute(input_dist-new_dist))\n",
    "        if abs(l1_norm_to_old_distribution-NUDGE_SIZE) > 10**(-7):\n",
    "            print(\"WARNING size of nudge {}\".format(l1_norm_to_old_distribution))\n",
    "\n",
    "        impact = nudge_non_causal.find_nudge_impact(input_dist, new_dist, cond_output)\n",
    "        print(\"the nudge impact {}\".format(impact))\n",
    "        impacts.append(impact)\n",
    "        with open(backup_filename, 'w') as f:\n",
    "            json.dump(impacts, f, indent=4)\n",
    "        \n",
    "    return impacts\n"
   ]
  },
  {
   "cell_type": "markdown",
   "metadata": {},
   "source": [
    "### Generate the data and run the experiments"
   ]
  },
  {
   "cell_type": "markdown",
   "metadata": {},
   "source": [
    "#### First for system distributions with limited entropy"
   ]
  },
  {
   "cell_type": "code",
   "execution_count": null,
   "metadata": {},
   "outputs": [],
   "source": [
    "PERCENTAGE_MAX_ENTROPY_SIZE = 90\n",
    "NUMBER_OF_VARS = 3\n",
    "NUMBER_OF_STATES = 3\n",
    "FILENAME_FORMAT_INPUT = \"input_dist_{}.npy\"\n",
    "FILENAME_FORMAT_OUTPUT = \"cond_output_dist_{}.npy\"\n",
    "DIST_START = 100\n",
    "DIST_END = 200\n",
    "NUDGE_TYPE = \"synergistic\"\n",
    "\n",
    "distribution_numbers = list(range(DIST_START, DIST_END, 1))\n",
    "if NUDGE_TYPE == \"global\" or NUDGE_TYPE ==\"individual\": \n",
    "    parameters = None\n",
    "elif NUDGE_TYPE == \"local\":\n",
    "    pass\n",
    "elif NUDGE_TYPE == \"synergistic\":\n",
    "    parameter_folder = \"synergistic_nudge_parameters/\"\n",
    "    parameter_file_name = \"entropy_percentage{}_{}vars_{}states_dist_{}_{}.json\".format(\n",
    "        PERCENTAGE_MAX_ENTROPY_SIZE, NUMBER_OF_VARS, NUMBER_OF_STATES, DIST_START, DIST_END\n",
    "    )\n",
    "    parameter_file = parameter_folder + parameter_file_name     \n",
    "    with open(parameter_file) as f:\n",
    "        parameters = json.load(f)\n",
    "\n",
    "backup_filename = (\"data_experiments/\" + \n",
    "    \"backup_random_impacts_{}var_{}states_{}entropy_{}_nudge_dists{}-{}.json\".format(\n",
    "        NUMBER_OF_VARS, NUMBER_OF_STATES, PERCENTAGE_MAX_ENTROPY_SIZE, NUDGE_TYPE, DIST_START, DIST_END \n",
    "    )\n",
    ")\n",
    "path_to_limited_entropy_system_dists = (\n",
    "    PATH_TO_DISTRIBUTIONS + \"system_distributions/\" \n",
    "    + \"limited_entropy/\"\n",
    ")\n",
    "\n",
    "input_dists = get_data.get_system_distributions_limited_entropy(\n",
    "    path_to_limited_entropy_system_dists, PERCENTAGE_MAX_ENTROPY_SIZE,\n",
    "    NUMBER_OF_VARS, NUMBER_OF_STATES, FILENAME_FORMAT_INPUT, \n",
    "    distribution_numbers\n",
    ")\n",
    "output_dists = get_data.get_system_distributions_limited_entropy(\n",
    "    path_to_limited_entropy_system_dists, PERCENTAGE_MAX_ENTROPY_SIZE,\n",
    "    NUMBER_OF_VARS, NUMBER_OF_STATES, FILENAME_FORMAT_OUTPUT, \n",
    "    distribution_numbers\n",
    ")\n",
    "\n",
    "impacts =  #find random nudge impacts\n",
    "\n",
    "print(impacts)\n",
    "filename_to_save_impacts =  \"random_impacts_{}var_{}states_{}entropy_{}_nudge_dists{}-{}.json\".format(\n",
    "    NUMBER_OF_VARS, NUMBER_OF_STATES, PERCENTAGE_MAX_ENTROPY_SIZE, NUDGE_TYPE, DIST_START, DIST_END \n",
    ")\n",
    "with open(\"data_experiments/\" + filename_to_save_impacts, 'w') as f:\n",
    "    json.dump(impacts, f)\n"
   ]
  }
 ],
 "metadata": {
  "kernelspec": {
   "display_name": "Python 2",
   "language": "python",
   "name": "python2"
  },
  "language_info": {
   "codemirror_mode": {
    "name": "ipython",
    "version": 2
   },
   "file_extension": ".py",
   "mimetype": "text/x-python",
   "name": "python",
   "nbconvert_exporter": "python",
   "pygments_lexer": "ipython2",
   "version": "2.7.12"
  }
 },
 "nbformat": 4,
 "nbformat_minor": 2
}
