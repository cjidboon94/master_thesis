{
 "cells": [
  {
   "cell_type": "markdown",
   "metadata": {},
   "source": [
    "### Find the maximum impacts for individual, local, synergistic and global nudges"
   ]
  },
  {
   "cell_type": "code",
   "execution_count": null,
   "metadata": {
    "collapsed": true
   },
   "outputs": [],
   "source": [
    "%load_ext autoreload\n",
    "%autoreload 2"
   ]
  },
  {
   "cell_type": "code",
   "execution_count": null,
   "metadata": {
    "collapsed": true
   },
   "outputs": [],
   "source": [
    "import numpy as np\n",
    "from scipy import stats\n",
    "\n",
    "import probability_distributions\n",
    "import maximum_nudges\n",
    "import evolutionary_algorithms as ea\n",
    "import maximum_nudges_evolutionary as ev_max_nudges"
   ]
  },
  {
   "cell_type": "markdown",
   "metadata": {},
   "source": [
    "#### First generate a generic input distribution"
   ]
  },
  {
   "cell_type": "code",
   "execution_count": null,
   "metadata": {
    "collapsed": true
   },
   "outputs": [],
   "source": [
    "#distribution parameters\n",
    "input_variables = 2\n",
    "number_of_states = 5\n",
    "nudge_size = 0.01\n",
    "\n",
    "#generate both input and conditional output with Dirichlet weights\n",
    "distribution_shape = [number_of_states]*input_variables\n",
    "total_number_of_states = reduce(lambda x,y: x*y, distribution_shape)\n",
    "input_dist = np.random.dirichlet([1]*total_number_of_states)\n",
    "input_dist = np.reshape(input_dist, distribution_shape)\n",
    "cond_shape = [number_of_states]*(input_variables+1)\n",
    "cond_output = [\n",
    "    probability_distributions.compute_joint_uniform_random((number_of_states,))\n",
    "    for i in range(number_of_states**(input_variables))\n",
    "]\n",
    "cond_output = np.array(cond_output)\n",
    "cond_output = np.reshape(cond_output, cond_shape)\n"
   ]
  },
  {
   "cell_type": "markdown",
   "metadata": {},
   "source": [
    "#### load the generated input and conditional output distribution"
   ]
  },
  {
   "cell_type": "code",
   "execution_count": null,
   "metadata": {
    "collapsed": true
   },
   "outputs": [],
   "source": [
    "PATH = \"/home/derkjan/Documents/academics_UVA/master_thesis/code/\"\n",
    "INPUT_FOLDER = \"input_distributions/\"\n",
    "COND_OUTPUT_FOLDER = \"conditional_output_distributions/\"\n",
    "FOLDER_FORMAT_INPUT = \"{}var_{}states/\"\n",
    "FOLDER_FORMAT_CONDITIONAL = \"{}var_{}states/\"\n",
    "FILE_FORMAT_INPUT = \"dist_{}.npy\"\n",
    "FILE_FORMAT_COND_OUTPUT = \"cond_dist_{}.npy\"\n",
    "\n",
    "DIRICHLET_FOLDER_INPUT = \"dirichlet/\"\n",
    "ENTROPY_LOW_FOLDER_INPUT = \"entropy_0.5/\"\n",
    "ENTROPY_MEDIUM_FOLDER_INPUT = \"entropy_0.75/\"\n",
    "\n",
    "DIRICHLET_FOLDER_COND_OUTPUT = \"dirichlet/\"\n",
    "\n",
    "\n",
    "def generate_distributions(path_to_files, file_format, number_of_distributions):\n",
    "    for i in range(number_of_distributions):\n",
    "        file_name = path_to_files + file_format.format(i)\n",
    "        with open(file_name, 'rb') as f:\n",
    "            yield np.load(f)\n",
    "            \n",
    "def generate_input_and_conditional_output(input_type, parameters, cond_output_type=\"dirichlet\"):\n",
    "    \"\"\"\n",
    "    \n",
    "    Parameters:\n",
    "    ----------\n",
    "    input_type: string in set {\"dirichlet\", \"entropy_0.5\", \"entropy_0.75\"}\n",
    "    parameters: dict\n",
    "    cond_output: \n",
    "    \n",
    "    Returns: a dict with keys:\n",
    "    -------\n",
    "    number_of_var: a number\n",
    "    number_of_states: a number\n",
    "    input_dist: nd-array\n",
    "    cond_output: nd-array\n",
    "    \n",
    "    \"\"\"\n",
    "    if input_type == \"dirichlet\":\n",
    "        input_dirichlet_path = PATH + INPUT_FOLDER + DIRICHLET_FOLDER_INPUT\n",
    "    elif input_type == \"entropy_0.75\":\n",
    "        input_dirichlet_path = PATH + INPUT_FOLDER + ENTROPY_MEDIUM_FOLDER_INPUT\n",
    "    elif input_type == \"entropy_0.5\":\n",
    "        input_dirichlet_path = PATH + INPUT_FOLDER + ENTROPY_LOW_FOLDER_INPUT\n",
    "    else:\n",
    "        raise ValueError(\"supply valid input distribution type\")\n",
    "\n",
    "    cond_output_dirichlet_path = PATH + COND_OUTPUT_FOLDER + DIRICHLET_FOLDER_COND_OUTPUT\n",
    "\n",
    "    min_inputs = parameters[\"min_number_inputs\"]\n",
    "    max_inputs = parameters[\"max_number_inputs\"]\n",
    "    number_of_states = parameters[\"number_of_states\"]\n",
    "    for number_of_var in range(min_inputs, max_inputs, 1):\n",
    "        path_to_input_files = (\n",
    "            input_dirichlet_path \n",
    "            + FOLDER_FORMAT_INPUT.format(number_of_var, number_of_states)\n",
    "        )\n",
    "        path_to_cond_output_files = (\n",
    "            cond_output_dirichlet_path \n",
    "            + FOLDER_FORMAT_CONDITIONAL.format(number_of_var, number_of_states)\n",
    "        )\n",
    "        input_generator = generate_distributions(\n",
    "            path_to_input_files, FILE_FORMAT_INPUT, \n",
    "            parameters[\"number_of_distributions\"]\n",
    "        )\n",
    "        cond_output_generator = generate_distributions(\n",
    "            path_to_cond_output_files, FILE_FORMAT_COND_OUTPUT, \n",
    "            parameters[\"number_of_distributions\"]\n",
    "        )\n",
    "        input_shape = [number_of_states]*number_of_var\n",
    "        cond_output_shape = [number_of_states]*(number_of_var+1)\n",
    "        for sample in range(parameters[\"number_of_distributions\"]):\n",
    "            input_dist = next(input_generator)\n",
    "            input_dist = np.reshape(input_dist, input_shape)\n",
    "            cond_output = next(cond_output_generator)\n",
    "            cond_output = np.reshape(cond_output, cond_output_shape)\n",
    "            yield {\n",
    "                \"number_of_var\": number_of_var,\n",
    "                \"number_of_states\": parameters[\"number_of_states\"],\n",
    "                \"input_dist\": input_dist,\n",
    "                \"cond_output\": cond_output\n",
    "            }\n",
    "            "
   ]
  },
  {
   "cell_type": "code",
   "execution_count": null,
   "metadata": {},
   "outputs": [],
   "source": [
    "parameters_distributions = {\n",
    "    \"max_number_inputs\": 6,\n",
    "    \"min_number_inputs\": 1,\n",
    "    \"number_of_states\": 5,\n",
    "    \"number_of_distributions\": 100\n",
    "}\n",
    "\n",
    "generator = generate_input_and_conditional_output(\n",
    "    'dirichlet', parameters_distributions, cond_output_type=\"dirichlet\"\n",
    ")\n",
    "\n",
    "for dist_dict in generator:\n",
    "    a = dist_dict"
   ]
  },
  {
   "cell_type": "markdown",
   "metadata": {},
   "source": [
    "#### Define the parameters for the evolutionary algorithm to optimize the impact of a local nudge"
   ]
  },
  {
   "cell_type": "code",
   "execution_count": null,
   "metadata": {
    "collapsed": true
   },
   "outputs": [],
   "source": [
    "#local nudge optimization\n",
    "number_of_generations = 400 \n",
    "population_size = 15\n",
    "number_of_children = 30 \n",
    "generational = True \n",
    "mutation_size = nudge_size/4\n",
    "parent_selection_mode = \"rank_exponential\"\n",
    "#parent_selection_mode = None\n",
    "mutation_size_weights = 0.025\n",
    "start_mutation_size = nudge_size/10\n",
    "change_mutation_size = start_mutation_size/10\n",
    "nudged_vars_to_states = {\n",
    "    nudged_var:number_of_states for nudged_var in range(input_variables)\n",
    "}\n"
   ]
  },
  {
   "cell_type": "code",
   "execution_count": null,
   "metadata": {},
   "outputs": [],
   "source": [
    "\n",
    "\n",
    "#create the initial population\n",
    "local_nudges = []\n",
    "for _ in range(population_size):\n",
    "    new_local_nudge = ev_max_nudges.LocalNudge.create_local_nudge(\n",
    "        nudged_vars_to_states, nudge_size, mutation_size_weights,\n",
    "        start_mutation_size, change_mutation_size, timestamp=0\n",
    "    )\n",
    "    local_nudges.append(new_local_nudge)\n",
    "\n",
    "for local_nudge in local_nudges:\n",
    "    local_nudge.evaluate(input_dist, cond_output)\n",
    "print(\"initial impact local nudge {}\".format(\n",
    "    ea.sort_individuals(local_nudges)[0].score\n",
    "))\n",
    "\n",
    "#start the optimization process\n",
    "find_max_local_nudge = ev_max_nudges.FindMaximumLocalNudge(\n",
    "    input_dist, cond_output, nudge_size, \n",
    "    generational, number_of_children, parent_selection_mode\n",
    ")\n",
    "max_local_nudge_individual = find_max_local_nudge.get_max_nudge(\n",
    "    local_nudges, number_of_generations\n",
    ")\n",
    "print(\"the found max impact for a local nudge {}\".format(\n",
    "    max_local_nudge_individual.score\n",
    "))\n"
   ]
  },
  {
   "cell_type": "code",
   "execution_count": null,
   "metadata": {
    "collapsed": true
   },
   "outputs": [],
   "source": [
    "def find_optimum_local_nudge(input_dist, cond_output, number_of_input_variables, \n",
    "                             number_of_states, nudge_size, parameters):\n",
    "    \"\"\"optimize local nudge\n",
    "    \n",
    "    Parameters:\n",
    "    ----------\n",
    "    input_dist:nd-array\n",
    "    cond_output: nd-array, one axis more than input_dist\n",
    "    \n",
    "    \"\"\"\n",
    "    local_nudges = []\n",
    "    for _ in range(parameters[\"population_size\"]):\n",
    "        new_local_nudge = ev_max_nudges.LocalNudge.create_local_nudge(\n",
    "            parameters[\"nudged_vars_to_states\"], nudge_size, \n",
    "            parameters[\"mutation_size_weights\"], parameters[\"start_mutation_size\"],\n",
    "            parameters[\"change_mutation_size\"], timestamp=0\n",
    "        )\n",
    "        local_nudges.append(new_local_nudge)\n",
    "\n",
    "    for local_nudge in local_nudges:\n",
    "        local_nudge.evaluate(input_dist, cond_output)\n",
    "\n",
    "    initial_impact = ea.sort_individuals(local_nudges)[0].score\n",
    "\n",
    "    #start the optimization process\n",
    "    find_max_local_nudge = ev_max_nudges.FindMaximumLocalNudge(\n",
    "        input_dist, cond_output, nudge_size, \n",
    "        parameters[\"generational\"], parameters[\"number_of_children\"], \n",
    "        parameters[\"parent_selection_mode\"]\n",
    "    )\n",
    "    max_local_nudge_individual = find_max_local_nudge.get_max_nudge(\n",
    "        local_nudges, parameters[\"number_of_generations\"]\n",
    "    )\n",
    "    max_impact = max_local_nudge_individual.score \n",
    "    print(\"local nudge: initial impact {} max impact {}\".format(initial_impact, max_impact))\n",
    "    return max_impact\n",
    "\n",
    "\n",
    "\n"
   ]
  },
  {
   "cell_type": "code",
   "execution_count": null,
   "metadata": {},
   "outputs": [],
   "source": [
    "print(input_dist.shape)\n",
    "print(cond_output.shape)\n",
    "\n",
    "ev_max_nudges.TEST = True\n",
    "\n",
    "parameters = {\n",
    "    \"number_of_generations\": 1000,\n",
    "    \"population_size\": 25,\n",
    "    \"number_of_children\": 55,\n",
    "    \"generational\": True,\n",
    "    \"mutation_size\": nudge_size/4,\n",
    "    \"parent_selection_mode\": None,\n",
    "    \"mutation_size_weights\": 0.025,\n",
    "    \"start_mutation_size\": nudge_size/10,\n",
    "    \"nudged_vars_to_states\": {\n",
    "        nudged_var:5 for nudged_var in range(2)\n",
    "    }\n",
    "}\n",
    "parameters[\"change_mutation_size\"] = parameters[\"start_mutation_size\"]/7\n",
    "\n",
    "max_impact = find_optimum_local_nudge(\n",
    "    input_dist, cond_output, 2, 5, nudge_size=0.01, parameters=parameters\n",
    ")\n"
   ]
  },
  {
   "cell_type": "code",
   "execution_count": null,
   "metadata": {},
   "outputs": [],
   "source": [
    "#local nudge optimization\n",
    "number_of_input_variables = 4\n",
    "number_of_states = 5\n",
    "nudge_size = 0.01\n",
    "\n",
    "parameters = {\n",
    "    \"number_of_generations\": 300, \n",
    "    \"population_size\": 15,\n",
    "    \"number_of_children\": 30, \n",
    "    \"generational\": True,\n",
    "    \"mutation_size\": nudge_size/4,\n",
    "    \"parent_selection_mode\": \"rank_exponential\",\n",
    "    \"mutation_size_weights\": 0.025,\n",
    "    \"start_mutation_size\": nudge_size/10,\n",
    "    \"nudged_vars_to_states\": {\n",
    "        nudged_var:number_of_states for nudged_var in range(number_of_input_variables)\n",
    "    }\n",
    "}\n",
    "parameters[\"change_mutation_size\"] = parameters[\"start_mutation_size\"]/10\n",
    "\n",
    "parameters_distributions = {\n",
    "    \"max_number_inputs\": 6,\n",
    "    \"min_number_inputs\": 2,\n",
    "    \"number_of_states\": 5,\n",
    "    \"number_of_distributions\": 10\n",
    "}\n",
    "\n",
    "generator = generate_input_and_conditional_output(\n",
    "    'dirichlet', parameters_distributions, cond_output_type=\"dirichlet\"\n",
    ")\n",
    "\n",
    "for dist_dict in generator:\n",
    "    print(dist_dict[\"input_dist\"].shape)\n",
    "    print(dist_dict[\"cond_output\"].shape)\n",
    "    parameters[\"nudged_vars_to_states\"] = {\n",
    "        nudged_var:dist_dict[\"number_of_states\"] for nudged_var in range(dist_dict[\"number_of_var\"])\n",
    "    }\n",
    "    max_impact = find_optimum_local_nudge(\n",
    "        dist_dict[\"input_dist\"], dist_dict[\"cond_output\"], \n",
    "        dist_dict[\"number_of_var\"], dist_dict[\"number_of_states\"],\n",
    "        nudge_size=0.01, parameters=parameters\n",
    "    )\n",
    "\n"
   ]
  },
  {
   "cell_type": "code",
   "execution_count": null,
   "metadata": {
    "collapsed": true
   },
   "outputs": [],
   "source": [
    "\n",
    "\n"
   ]
  },
  {
   "cell_type": "code",
   "execution_count": null,
   "metadata": {
    "collapsed": true
   },
   "outputs": [],
   "source": [
    "for distribution in input_generator:\n",
    "    print(stats.entropy(distribution))\n",
    "    \n",
    "for cond_dist in cond_output_generator:\n",
    "    print(np.reshape(cond_dist, [5,5,5,5,5, 5]).shape)"
   ]
  },
  {
   "cell_type": "code",
   "execution_count": null,
   "metadata": {
    "collapsed": true
   },
   "outputs": [],
   "source": []
  },
  {
   "cell_type": "markdown",
   "metadata": {},
   "source": [
    "#### Find the maximum individual impact evolutionary"
   ]
  },
  {
   "cell_type": "code",
   "execution_count": null,
   "metadata": {
    "collapsed": true
   },
   "outputs": [],
   "source": []
  },
  {
   "cell_type": "markdown",
   "metadata": {},
   "source": [
    "#### Find the maximum impact of an individual nudge exactly"
   ]
  },
  {
   "cell_type": "code",
   "execution_count": null,
   "metadata": {
    "collapsed": true
   },
   "outputs": [],
   "source": [
    "#still write some code to do the optimization for every variable\n",
    "new_input_dist = np.copy(input_dist)\n",
    "max_impacts = []\n",
    "for i in range(len(new_input_dist.shape)):\n",
    "    new_input_dist = np.swapaxes(new_input_dist, i, \n",
    "                                 len(new_input_dist.shape)-1)\n",
    "    max_impact = maximum_nudges.find_maximum_local_nudge(\n",
    "        new_input_dist, cond_output, nudge_size/2\n",
    "    )\n",
    "    max_impacts.append(max_impact)\n",
    "    new_input_dist = np.swapaxes(new_input_dist, i, \n",
    "                                 len(new_input_dist.shape)-1)\n",
    "    \n",
    "print(\"the actual maximum individual nudge {}\".format(max(max_impacts)))"
   ]
  },
  {
   "cell_type": "code",
   "execution_count": null,
   "metadata": {
    "collapsed": true
   },
   "outputs": [],
   "source": []
  }
 ],
 "metadata": {
  "kernelspec": {
   "display_name": "Python 2",
   "language": "python",
   "name": "python2"
  },
  "language_info": {
   "codemirror_mode": {
    "name": "ipython",
    "version": 2
   },
   "file_extension": ".py",
   "mimetype": "text/x-python",
   "name": "python",
   "nbconvert_exporter": "python",
   "pygments_lexer": "ipython2",
   "version": "2.7.12"
  }
 },
 "nbformat": 4,
 "nbformat_minor": 2
}
