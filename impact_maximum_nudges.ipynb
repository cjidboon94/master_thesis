{
 "cells": [
  {
   "cell_type": "markdown",
   "metadata": {},
   "source": [
    "### Find the maximum impacts for individual, local, synergistic and global nudges"
   ]
  },
  {
   "cell_type": "code",
   "execution_count": null,
   "metadata": {},
   "outputs": [],
   "source": [
    "%load_ext autoreload\n",
    "%autoreload 2"
   ]
  },
  {
   "cell_type": "code",
   "execution_count": null,
   "metadata": {
    "collapsed": true
   },
   "outputs": [],
   "source": [
    "import numpy as np\n",
    "from scipy import stats\n",
    "\n",
    "import probability_distributions\n",
    "import maximum_nudges\n",
    "import evolutionary_algorithms as ea\n",
    "import maximum_nudges_evolutionary as ev_max_nudges"
   ]
  },
  {
   "cell_type": "markdown",
   "metadata": {},
   "source": [
    "#### First generate a generic input distribution"
   ]
  },
  {
   "cell_type": "code",
   "execution_count": null,
   "metadata": {},
   "outputs": [],
   "source": [
    "#distribution parameters\n",
    "input_variables = 4\n",
    "number_of_states = 5\n",
    "nudge_size = 0.01\n",
    "\n",
    "#generate both input and conditional output with Dirichlet weights\n",
    "distribution_shape = [number_of_states]*input_variables\n",
    "total_number_of_states = reduce(lambda x,y: x*y, distribution_shape)\n",
    "input_dist = np.random.dirichlet([1]*total_number_of_states)\n",
    "input_dist = np.reshape(input_dist, distribution_shape)\n",
    "cond_shape = [number_of_states]*(input_variables+1)\n",
    "cond_output = [\n",
    "    probability_distributions.compute_joint_uniform_random((number_of_states,))\n",
    "    for i in range(number_of_states**(input_variables))\n",
    "]\n",
    "cond_output = np.array(cond_output)\n",
    "cond_output = np.reshape(cond_output, cond_shape)\n"
   ]
  },
  {
   "cell_type": "markdown",
   "metadata": {},
   "source": [
    "#### Generate a generic input distribution with limited entropy"
   ]
  },
  {
   "cell_type": "code",
   "execution_count": null,
   "metadata": {},
   "outputs": [],
   "source": [
    "shape = [5]*6\n",
    "dist = ea.produce_distribution_with_entropy(shape, 0.7)\n"
   ]
  },
  {
   "cell_type": "code",
   "execution_count": null,
   "metadata": {},
   "outputs": [],
   "source": [
    "print(stats.entropy(dist, base=2))\n",
    "#print(dist[1000:2000])"
   ]
  },
  {
   "cell_type": "markdown",
   "metadata": {},
   "source": [
    "#### Define the parameters for the evolutionary algorithm to optimize the impact of a local nudge"
   ]
  },
  {
   "cell_type": "code",
   "execution_count": null,
   "metadata": {
    "collapsed": true
   },
   "outputs": [],
   "source": [
    "#local nudge optimization\n",
    "number_of_generations = 200 \n",
    "population_size = 10\n",
    "number_of_children = 20 \n",
    "generational = True \n",
    "mutation_size = nudge_size/4\n",
    "parent_selection_mode = \"rank_exponential\"\n",
    "#parent_selection_mode = None\n",
    "mutation_size_weights = 0.03\n",
    "start_mutation_size = nudge_size/10\n",
    "change_mutation_size = start_mutation_size/10\n",
    "nudged_vars_to_states = {\n",
    "    nudged_var:number_of_states for nudged_var in range(input_variables)\n",
    "}\n"
   ]
  },
  {
   "cell_type": "code",
   "execution_count": null,
   "metadata": {},
   "outputs": [],
   "source": [
    "ev_max_nudges.TEST = False\n",
    "\n",
    "#create the initial population\n",
    "local_nudges = []\n",
    "for _ in range(population_size):\n",
    "    new_local_nudge = ev_max_nudges.LocalNudge.create_local_nudge(\n",
    "        nudged_vars_to_states, nudge_size, mutation_size_weights,\n",
    "        start_mutation_size, change_mutation_size, timestamp=0\n",
    "    )\n",
    "    local_nudges.append(new_local_nudge)\n",
    "\n",
    "for local_nudge in local_nudges:\n",
    "    local_nudge.evaluate(input_dist, cond_output)\n",
    "print(\"initial impact local nudge {}\".format(\n",
    "    ea.sort_individuals(local_nudges)[0].score\n",
    "))\n",
    "\n",
    "#start the optimization process\n",
    "find_max_local_nudge = ev_max_nudges.FindMaximumLocalNudge(\n",
    "    input_dist, cond_output, nudge_size, \n",
    "    generational, number_of_children, parent_selection_mode\n",
    ")\n",
    "max_local_nudge_individual = find_max_local_nudge.get_max_nudge(\n",
    "    local_nudges, number_of_generations\n",
    ")\n",
    "print(\"the found max impact for a local nudge {}\".format(\n",
    "    max_local_nudge_individual.score\n",
    "))\n"
   ]
  },
  {
   "cell_type": "markdown",
   "metadata": {},
   "source": [
    "#### Find the maximum individual impact evolutionary"
   ]
  },
  {
   "cell_type": "code",
   "execution_count": null,
   "metadata": {
    "collapsed": true
   },
   "outputs": [],
   "source": []
  },
  {
   "cell_type": "markdown",
   "metadata": {},
   "source": [
    "#### Find the maximum impact of an individual nudge exactly"
   ]
  },
  {
   "cell_type": "code",
   "execution_count": null,
   "metadata": {},
   "outputs": [],
   "source": [
    "#still write some code to do the optimization for every variable\n",
    "new_input_dist = np.copy(input_dist)\n",
    "max_impacts = []\n",
    "for i in range(len(new_input_dist.shape)):\n",
    "    new_input_dist = np.swapaxes(new_input_dist, i, \n",
    "                                 len(new_input_dist.shape)-1)\n",
    "    max_impact = maximum_nudges.find_maximum_local_nudge(\n",
    "        new_input_dist, cond_output, nudge_size/2\n",
    "    )\n",
    "    max_impacts.append(max_impact)\n",
    "    new_input_dist = np.swapaxes(new_input_dist, i, \n",
    "                                 len(new_input_dist.shape)-1)\n",
    "    \n",
    "print(\"the actual maximum individual nudge {}\".format(max(max_impacts)))"
   ]
  },
  {
   "cell_type": "code",
   "execution_count": null,
   "metadata": {
    "collapsed": true
   },
   "outputs": [],
   "source": []
  }
 ],
 "metadata": {
  "kernelspec": {
   "display_name": "Python 2",
   "language": "python",
   "name": "python2"
  },
  "language_info": {
   "codemirror_mode": {
    "name": "ipython",
    "version": 2
   },
   "file_extension": ".py",
   "mimetype": "text/x-python",
   "name": "python",
   "nbconvert_exporter": "python",
   "pygments_lexer": "ipython2",
   "version": "2.7.12"
  }
 },
 "nbformat": 4,
 "nbformat_minor": 2
}
