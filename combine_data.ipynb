{
 "cells": [
  {
   "cell_type": "markdown",
   "metadata": {},
   "source": [
    "### Combine the data from several files"
   ]
  },
  {
   "cell_type": "code",
   "execution_count": null,
   "metadata": {
    "collapsed": true
   },
   "outputs": [],
   "source": [
    "import json\n",
    "import numpy as np"
   ]
  },
  {
   "cell_type": "code",
   "execution_count": null,
   "metadata": {
    "collapsed": true
   },
   "outputs": [],
   "source": [
    "PATH = \"data_experiments/\"\n",
    "FILE_NAME_START = \"max_impact_local_nudges\"\n",
    "dirichlet_files = [\"_dirichlet\", \"2_dirichlet\", \"3_dirichlet\", \"7_dirichlet\"]\n",
    "entropy_75_files = [\"4_entropy0.75\", \"5_entropy0.75\", \"6_entropy0.75\", \"8_entropy0.75\"]\n",
    "FILE_NAME_END = \".json\""
   ]
  },
  {
   "cell_type": "code",
   "execution_count": null,
   "metadata": {},
   "outputs": [],
   "source": [
    "dirichlet_dicts = []\n",
    "for file_name in dirichlet_files:\n",
    "    with open(PATH+FILE_NAME_START+file_name+FILE_NAME_END, 'r') as f:\n",
    "        dirichlet_dicts.append(json.load(f))\n",
    "        \n",
    "entropy_75_dicts = []\n",
    "for file_name in entropy_75_files:\n",
    "    with open(PATH+FILE_NAME_START+file_name+FILE_NAME_END, 'r') as f:\n",
    "        entropy_75_dicts.append(json.load(f))\n"
   ]
  },
  {
   "cell_type": "code",
   "execution_count": null,
   "metadata": {
    "collapsed": true
   },
   "outputs": [],
   "source": [
    "new_dirichlet_dicts = []\n",
    "for dirichlet_dict in dirichlet_dicts:\n",
    "    new_dict = {float(key):values for key, values in dirichlet_dict.items()}\n",
    "    new_dirichlet_dicts.append(new_dict)\n",
    "\n",
    "new_entropy_75_dicts = []\n",
    "for entropy_75_dict in entropy_75_dicts:\n",
    "    new_dict = {float(key):values for key, values in entropy_75_dict.items()}\n",
    "    new_entropy_75_dicts.append(new_dict)\n",
    "\n"
   ]
  },
  {
   "cell_type": "markdown",
   "metadata": {},
   "source": [
    "### First inspect the dirichlet input distributions"
   ]
  },
  {
   "cell_type": "code",
   "execution_count": null,
   "metadata": {},
   "outputs": [],
   "source": [
    "number_of_inputs_to_average_impacts = {}\n",
    "for i in range(2, 6, 1):\n",
    "    average_impacts = []\n",
    "    for count, dirichlet_dict in enumerate(new_dirichlet_dicts):\n",
    "        try:\n",
    "            average_impacts.append(np.mean(dirichlet_dict[i]))\n",
    "        except KeyError:\n",
    "            print(\"the {} file has variable {} missing\".format(i, count))\n",
    "            \n",
    "    number_of_inputs_to_average_impacts[i] = average_impacts\n",
    "    \n",
    "print(number_of_inputs_to_average_impacts)"
   ]
  },
  {
   "cell_type": "code",
   "execution_count": null,
   "metadata": {},
   "outputs": [],
   "source": [
    "average_maximum_scores = {}\n",
    "for i in range(2, 6, 1):\n",
    "    impacts = []\n",
    "    for count, dirichlet_dict in enumerate(new_dirichlet_dicts):\n",
    "        try:\n",
    "            impacts.append(dirichlet_dict[i])\n",
    "        except KeyError:\n",
    "            print(\"the {} file has variable {} missing\".format(i, count))\n",
    "            \n",
    "    max_impacts = [min(scores) for scores in list(zip(*impacts))]\n",
    "    average_maximum_scores[i] = np.mean(max_impacts)\n",
    "    \n",
    "print(average_maximum_scores)"
   ]
  },
  {
   "cell_type": "markdown",
   "metadata": {},
   "source": [
    "### Inspect the entropy input distributions"
   ]
  },
  {
   "cell_type": "code",
   "execution_count": null,
   "metadata": {},
   "outputs": [],
   "source": [
    "inputs_to_average_impacts_entropy = {}\n",
    "for i in range(2, 6, 1):\n",
    "    average_impacts = []\n",
    "    for count, entropy75_dict in enumerate(new_entropy_75_dicts):\n",
    "        try:\n",
    "            average_impacts.append(np.mean(entropy75_dict[i]))\n",
    "        except KeyError:\n",
    "            print(\"the {} file has variable {} missing\".format(i, count))\n",
    "            \n",
    "    inputs_to_average_impacts_entropy[i] = average_impacts\n",
    "    \n",
    "print(inputs_to_average_impacts_entropy)"
   ]
  },
  {
   "cell_type": "code",
   "execution_count": null,
   "metadata": {},
   "outputs": [],
   "source": [
    "average_maximum_scores_entropy = {}\n",
    "for i in range(2, 6, 1):\n",
    "    impacts = []\n",
    "    for count, entropy75_dict in enumerate(new_entropy_75_dicts):\n",
    "        try:\n",
    "            impacts.append(entropy75_dict[i])\n",
    "        except KeyError:\n",
    "            print(\"the {} file has variable {} missing\".format(i, count))\n",
    "            \n",
    "    max_impacts = [min(scores) for scores in list(zip(*impacts))]\n",
    "    average_maximum_scores_entropy[i] = np.mean(max_impacts)\n",
    "    \n",
    "print(average_maximum_scores_entropy)"
   ]
  },
  {
   "cell_type": "code",
   "execution_count": null,
   "metadata": {
    "collapsed": true
   },
   "outputs": [],
   "source": []
  },
  {
   "cell_type": "code",
   "execution_count": null,
   "metadata": {
    "collapsed": true
   },
   "outputs": [],
   "source": []
  }
 ],
 "metadata": {
  "kernelspec": {
   "display_name": "Python 2",
   "language": "python",
   "name": "python2"
  },
  "language_info": {
   "codemirror_mode": {
    "name": "ipython",
    "version": 2
   },
   "file_extension": ".py",
   "mimetype": "text/x-python",
   "name": "python",
   "nbconvert_exporter": "python",
   "pygments_lexer": "ipython2",
   "version": "2.7.12"
  }
 },
 "nbformat": 4,
 "nbformat_minor": 2
}
