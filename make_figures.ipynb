{
 "cells": [
  {
   "cell_type": "code",
   "execution_count": null,
   "metadata": {
    "collapsed": true
   },
   "outputs": [],
   "source": [
    "import json\n",
    "import numpy as np\n",
    "import matplotlib.pyplot as plt\n",
    "import simulate\n",
    "import plotting"
   ]
  },
  {
   "cell_type": "code",
   "execution_count": null,
   "metadata": {
    "collapsed": true
   },
   "outputs": [],
   "source": [
    "def plot_mean_and_confidence(plot_range, mean, mean_label, confidence_interval, \n",
    "                             confidence_interval_title):\n",
    "    \"\"\"\n",
    "    Plot the mean and some kind of confidence interval (standard deviation or\n",
    "    mean-squared-error)\n",
    "    \n",
    "    Parameters:\n",
    "    ----------\n",
    "    plot_range: iterable\n",
    "    mean: an iterable\n",
    "        the mean of the values at that point\n",
    "    confidence_interval: an iterable\n",
    "        Representing the  interval of confidence in that point. \n",
    "        The iterable should have length plot_range.\n",
    "    confidence_interval_title: a string\n",
    "    \n",
    "    \"\"\"\n",
    "    \n",
    "    lower_bound = np.array(mean)-np.array(confidence_interval)\n",
    "    upper_bound = np.array(mean)+np.array(confidence_interval)\n",
    "    plt.plot(plot_range, mean, label=mean_label)\n",
    "    plt.fill_between(plot_range, lower_bound, upper_bound, \n",
    "                     label='{}'.format(confidence_interval_title),\n",
    "                     alpha=0.2)\n",
    "\n",
    "def plot_results(*args, **kwargs):\n",
    "    \"\"\"plot results from simulations\n",
    "    \n",
    "    Parameters:\n",
    "        args: 1 or more dicts. The dicts should have for the keys numerical\n",
    "            input values and for the values iterables of numbers.\n",
    "        kwargs: at least the arguments xlabel, ylabel, title\n",
    "        \n",
    "    \"\"\"\n",
    "    for argument in args:\n",
    "        data, meta_dict = argument\n",
    "        variable_range, mean, std, batches_std = (\n",
    "            find_mean_std_mse(data, 10)\n",
    "        )\n",
    "        \n",
    "        if kwargs['std_of_batches']: \n",
    "            plot_mean_and_confidence(variable_range, mean, meta_dict['mean_label'], \n",
    "                                     batches_std, \"batches stdev\")\n",
    "        else:\n",
    "            plot_mean_and_confidence(variable_range, mean, meta_dict['mean_label'], \n",
    "                                     std, \"stdev\")\n",
    "    \n",
    "    plt.xlabel(kwargs['xlabel'])\n",
    "    plt.ylabel(kwargs['ylabel'])\n",
    "    plt.legend()\n",
    "    plt.title(kwargs['title'])\n",
    "    plt.show()\n"
   ]
  },
  {
   "cell_type": "markdown",
   "metadata": {},
   "source": [
    "### First load the data"
   ]
  },
  {
   "cell_type": "markdown",
   "metadata": {},
   "source": [
    "#### Relation MI and nudge impact for 1 input and 1 output "
   ]
  },
  {
   "cell_type": "code",
   "execution_count": null,
   "metadata": {
    "collapsed": true
   },
   "outputs": [],
   "source": [
    "FILE_PATH = \"relation_MI_nudge_impact_1input.json\"\n",
    "with open(FILE_PATH, 'r') as f:\n",
    "    data_dict = json.load(f)"
   ]
  },
  {
   "cell_type": "code",
   "execution_count": null,
   "metadata": {},
   "outputs": [],
   "source": [
    "plot_range, mean, std, batches_std = simulate.find_mean_std_mse(\n",
    "    data_dict, batch_size = 1\n",
    ")\n",
    "plot_range = [float(item) for item in plot_range]\n",
    "#print(mean)\n",
    "#print(std)"
   ]
  },
  {
   "cell_type": "code",
   "execution_count": null,
   "metadata": {},
   "outputs": [],
   "source": [
    "plotting.plot_mean_and_confidence(plot_range, mean, std, \n",
    "                                  \"confidence_interval_title\", \"xlabel\", \"ylabel\", \"title\")"
   ]
  },
  {
   "cell_type": "markdown",
   "metadata": {},
   "source": [
    "#### Maximum impact for individual, local, and global nudges for increasing number of variables"
   ]
  },
  {
   "cell_type": "code",
   "execution_count": null,
   "metadata": {},
   "outputs": [],
   "source": [
    "with open(\"max_impact_individual_nudges_dirichlet_first100samples.json\", 'r') as f:\n",
    "    max_individual_impact_dict = json.load(f)\n",
    "\n",
    "with open(\"max_impact_local_nudges_dirichlet.json\", 'r') as f:\n",
    "    max_local_impact_dict = json.load(f)\n",
    "\n",
    "with open(\"max_impact_global_nudges_dirichlet_first200samples.json\", 'r') as f:\n",
    "    max_global_impact_dict = json.load(f)"
   ]
  },
  {
   "cell_type": "code",
   "execution_count": null,
   "metadata": {},
   "outputs": [],
   "source": [
    "plot_range_individual, mean_individual, std_individual, batches_std_individual = simulate.find_mean_std_mse(\n",
    "    max_individual_impact_dict, batch_size = 1\n",
    ")\n",
    "plot_range_individual = [float(item) for item in plot_range_individual]\n",
    "\n",
    "plot_range_local, mean_local, std_local, batches_std_local = simulate.find_mean_std_mse(\n",
    "    max_local_impact_dict, batch_size = 1\n",
    ")\n",
    "mean_local = np.array(mean_local)*-1 \n",
    "mean_local = list(mean_local)\n",
    "plot_range_local = [float(item) for item in plot_range_local]\n",
    "\n",
    "plot_range_global, mean_global, std_global, batches_std_global = simulate.find_mean_std_mse(\n",
    "    max_global_impact_dict, batch_size = 20\n",
    ")\n",
    "plot_range_global = [float(item) for item in plot_range_global]\n",
    "\n",
    "print(mean_local)\n"
   ]
  },
  {
   "cell_type": "code",
   "execution_count": null,
   "metadata": {},
   "outputs": [],
   "source": [
    "plot_range_local.insert(0, 1)\n",
    "mean_local.insert(0, mean_individual[0])\n",
    "std_local.insert(0, std_individual[0])\n",
    "batches_std_local.insert(0, batches_std_individual[0])\n",
    "plot_range_global.insert(0, 1)\n",
    "mean_global.insert(0, mean_individual[0])\n",
    "std_global.insert(0, std_individual[0])\n",
    "batches_std_global.insert(0, batches_std_individual[0])\n",
    "\n",
    "plot_mean_and_confidence(plot_range_individual, mean_individual, \"individual impact\", \n",
    "                         std_individual, \"std indiv\")\n",
    "\n",
    "plot_mean_and_confidence(plot_range_local, mean_local, \"impact local\", \n",
    "                         std_local, \"std local\")\n",
    "\n",
    "plot_mean_and_confidence(plot_range_global, mean_global, \"global impact\", \n",
    "                         std_global, \"std global\")\n",
    "\n",
    "\n",
    "plt.xlabel('number of variables')\n",
    "plt.ylabel('impact')\n",
    "plt.legend()\n",
    "plt.title('maximum impact nudges')\n",
    "plt.show()\n",
    "\n"
   ]
  },
  {
   "cell_type": "code",
   "execution_count": null,
   "metadata": {
    "collapsed": true
   },
   "outputs": [],
   "source": []
  }
 ],
 "metadata": {
  "kernelspec": {
   "display_name": "Python 2",
   "language": "python",
   "name": "python2"
  },
  "language_info": {
   "codemirror_mode": {
    "name": "ipython",
    "version": 2
   },
   "file_extension": ".py",
   "mimetype": "text/x-python",
   "name": "python",
   "nbconvert_exporter": "python",
   "pygments_lexer": "ipython2",
   "version": "2.7.12"
  }
 },
 "nbformat": 4,
 "nbformat_minor": 2
}
