{
 "cells": [
  {
   "cell_type": "markdown",
   "metadata": {},
   "source": [
    "### Purpose\n",
    "\n",
    "This notebook's purpose is to calculate the nudge impact of the distributions generated in the different experiments "
   ]
  },
  {
   "cell_type": "code",
   "execution_count": null,
   "metadata": {
    "collapsed": true
   },
   "outputs": [],
   "source": [
    "import numpy as np\n",
    "import max_nudges\n",
    "import matplotlib.pyplot as plt"
   ]
  },
  {
   "cell_type": "markdown",
   "metadata": {},
   "source": [
    "### Ising model\n",
    "\n",
    "The results for the ising model using Glauber dynammics"
   ]
  },
  {
   "cell_type": "code",
   "execution_count": null,
   "metadata": {
    "collapsed": true
   },
   "outputs": [],
   "source": [
    "filepath = \"/home/derkjan/Documents/academics_UVA/master_thesis_code/master_thesis/\"\n",
    "\n",
    "#settings for Ising using glauber dynamics\n",
    "distributions_ising_glauber = \"ising_distributions\"\n",
    "marginal_format_ising_glauber = \"{}/marginal{}_neighbors{}_network_size{}_network_degree{}_temp{:.2f}.npy\"\n",
    "conditional_format_ising_glauber = \"{}/conditional{}_neighbors{}_network_size{}_network_degree{}_temp{:.2f}.npy\"\n",
    "number_of_distributions_ising = 30\n",
    "max_number_of_neighbors_ising = 9\n",
    "number_of_nodes_ising = 100\n",
    "network_degree_ising = 2\n",
    "temperature_ising = 2.5\n",
    "\n",
    "\n",
    "#settings for SIRS models\n",
    "distributions_SIRS = \"SIRS_distributions\"\n",
    "marginal_format_SIRS = \"{}/marginal{}_neighbors{}_network_size{}_network_degree{}_mode_{}.npy\"\n",
    "conditional_format_SIRS = \"{}/conditional{}_neighbors{}_network_size{}_network_degree{}_mode_{}.npy\"\n",
    "number_of_distributions_SIRS = 100\n",
    "max_number_of_neighbors_SIRS = 7\n",
    "number_of_nodes_SIRS = 100\n",
    "network_degree_SIRS = 2\n",
    "mode_SIRS = \"powerlaw\"\n"
   ]
  },
  {
   "cell_type": "code",
   "execution_count": null,
   "metadata": {
    "collapsed": true
   },
   "outputs": [],
   "source": [
    "distributions_folder = filepath + distributions_SIRS\n",
    "filename_marginal_format = marginal_format_SIRS\n",
    "filename_conditional_format = conditional_format_SIRS\n",
    "number_of_distributions = number_of_distributions_SIRS\n",
    "max_number_of_neighbors = max_number_of_neighbors_SIRS\n",
    "number_of_nodes = number_of_nodes_SIRS\n",
    "network_degree = network_degree_SIRS\n",
    "temperature = temperature_ising\n",
    "mode = mode_SIRS\n",
    "nudge_size = 0.01\n"
   ]
  },
  {
   "cell_type": "code",
   "execution_count": null,
   "metadata": {},
   "outputs": [],
   "source": [
    "distributions = []\n",
    "for count in range(number_of_distributions):\n",
    "    neighbors_to_distributions = {}\n",
    "    for number_of_neighbors in range(1, max_number_of_neighbors):\n",
    "        filename_marginal = filename_marginal_format.format(\n",
    "            distributions_folder, count, number_of_neighbors, number_of_nodes, network_degree, mode\n",
    "        )\n",
    "        filename_conditional = filename_conditional_format.format(\n",
    "            distributions_folder, count, number_of_neighbors, number_of_nodes, network_degree, mode\n",
    "        )\n",
    "        try:\n",
    "            marginal = np.load(filename_marginal)\n",
    "            conditional = np.load(filename_conditional)\n",
    "            neighbors_to_distributions[number_of_neighbors] = {\n",
    "                \"marginal\": marginal,\n",
    "                \"conditional\": conditional\n",
    "            }\n",
    "        except IOError:\n",
    "            print(\"file not found distribution number {}, number of neighbors {}\".format(\n",
    "                count, number_of_neighbors\n",
    "            ))\n",
    "    distributions.append(neighbors_to_distributions)"
   ]
  },
  {
   "cell_type": "code",
   "execution_count": null,
   "metadata": {
    "collapsed": true
   },
   "outputs": [],
   "source": [
    "number_of_neighbors_to_distributions = {}\n",
    "for distribution in distributions:\n",
    "    for number_of_neighbors, dist_dict in distribution.items():\n",
    "        if number_of_neighbors in number_of_neighbors_to_distributions:\n",
    "            number_of_neighbors_to_distributions[number_of_neighbors].append(dist_dict)\n",
    "        else:\n",
    "            number_of_neighbors_to_distributions[number_of_neighbors] = [dist_dict]\n",
    "        \n",
    "#print(number_of_neighbors_to_distributions[2])\n",
    "        "
   ]
  },
  {
   "cell_type": "markdown",
   "metadata": {},
   "source": [
    "### parameters nudge optimization"
   ]
  },
  {
   "cell_type": "code",
   "execution_count": null,
   "metadata": {
    "collapsed": true
   },
   "outputs": [],
   "source": [
    "nudge_size = 0.01\n",
    "evolutionary_parameters = {\n",
    "    \"number_of_generations\": 100,\n",
    "    \"population_size\": 10,\n",
    "    \"number_of_children\": 20,\n",
    "    \"generational\": False,\n",
    "    \"mutation_size\": nudge_size / 10,\n",
    "    \"parent_selection_mode\": \"rank_exponential\",\n",
    "    \"start_mutation_size\": nudge_size / 20,\n",
    "    \"change_mutation_size\": nudge_size / (25 * 10),\n",
    "    \"mutations_per_update_step\": 30\n",
    "}\n"
   ]
  },
  {
   "cell_type": "code",
   "execution_count": null,
   "metadata": {},
   "outputs": [],
   "source": [
    "nudge_type_to_impacts = {\"individual\":{}, \"global\":{}, \"synergistic\": {}}\n",
    "number_of_neighbors_to_impacts = {}\n",
    "for count, distributions in number_of_neighbors_to_distributions.items():\n",
    "    print(count)\n",
    "    individual_impacts = []\n",
    "    synergistic_impacts = []\n",
    "    global_impacts = []\n",
    "    for dist_dict in distributions:\n",
    "        try:\n",
    "            individual_impact = max_nudges.max_nudge_impact(\n",
    "                dist_dict[\"marginal\"], dist_dict[\"conditional\"], nudge_size, \n",
    "                \"individual\", None\n",
    "            )\n",
    "            individual_impacts.append(individual_impact)\n",
    "        except:\n",
    "            print(\"some problem occured\")\n",
    "\n",
    "#         if count >= 2:\n",
    "#             synergistic_impact = max_nudges.max_nudge_impact(\n",
    "#                 dist_dict[\"marginal\"], dist_dict[\"conditional\"], nudge_size, \n",
    "#                 \"synergistic\", evolutionary_parameters\n",
    "#             ) \n",
    "#             synergistic_impacts.append(synergistic_impact)\n",
    "\n",
    "        global_impact = max_nudges.max_nudge_impact(\n",
    "            dist_dict[\"marginal\"], dist_dict[\"conditional\"], nudge_size, \n",
    "            \"global\", None\n",
    "        ) \n",
    "        global_impacts.append(global_impact)\n",
    "    \n",
    "    nudge_type_to_impacts[\"individual\"][count] = individual_impacts\n",
    "#     nudge_type_to_impacts[\"synergistic\"][count] = synergistic_impacts\n",
    "    nudge_type_to_impacts[\"global\"][count] = global_impacts\n",
    "    \n",
    "\n",
    "\n",
    "#max_nudges.max_nudge_impact(\n",
    "#    dist_dict[\"marginal\"], dist_dict[\"conditional\"], nudge_size, \n",
    "#    \"synergistic\", evolutionary_parameters\n",
    "#) \n"
   ]
  },
  {
   "cell_type": "code",
   "execution_count": null,
   "metadata": {},
   "outputs": [],
   "source": [
    "# nudge_type_to_impacts[\"synergistic\"].pop(1)\n",
    "print({k:np.mean(v) for k,v in nudge_type_to_impacts[\"individual\"].items()})\n",
    "# print({k:np.mean(v) for k,v in nudge_type_to_impacts[\"synergistic\"].items()})\n",
    "print({k:np.mean(v) for k,v in nudge_type_to_impacts[\"global\"].items()})"
   ]
  },
  {
   "cell_type": "code",
   "execution_count": null,
   "metadata": {},
   "outputs": [],
   "source": [
    "# nudge_types = [\"individual\", \"synergistic\", \"global\"]\n",
    "nudge_types = [\"individual\", \"global\"]\n",
    "for nudge_type in nudge_types:\n",
    "    #add confidence intervals based on percentiles\n",
    "    lower_bound, median, upper_bound = [], [], []\n",
    "    for variable_number, impacts in nudge_type_to_impacts[nudge_type].items():\n",
    "        lower_bound.append(np.percentile(impacts, 2.5))\n",
    "        median.append(np.median(impacts)) \n",
    "        upper_bound.append(np.percentile(impacts, 97.5))\n",
    "        \n",
    "    plot_range = [i-1 for i in list(nudge_type_to_impacts[nudge_type].keys())]\n",
    "    plt.plot(plot_range, median, label=nudge_type)\n",
    "    plt.fill_between(plot_range, lower_bound, upper_bound, \n",
    "                     label='{}'.format(\"95%\"), alpha=0.2)\n",
    "    \n",
    "plt.legend()    \n",
    "plt.show()"
   ]
  },
  {
   "cell_type": "code",
   "execution_count": null,
   "metadata": {
    "collapsed": true
   },
   "outputs": [],
   "source": []
  }
 ],
 "metadata": {
  "kernelspec": {
   "display_name": "Python 2",
   "language": "python",
   "name": "python2"
  },
  "language_info": {
   "codemirror_mode": {
    "name": "ipython",
    "version": 2
   },
   "file_extension": ".py",
   "mimetype": "text/x-python",
   "name": "python",
   "nbconvert_exporter": "python",
   "pygments_lexer": "ipython2",
   "version": "2.7.12"
  }
 },
 "nbformat": 4,
 "nbformat_minor": 2
}
