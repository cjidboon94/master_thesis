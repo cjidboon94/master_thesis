{
 "cells": [
  {
   "cell_type": "code",
   "execution_count": 1,
   "metadata": {},
   "outputs": [],
   "source": [
    "import numpy as np\n",
    "from scipy.stats import entropy\n",
    "\n",
    "from jointpdf.jointpdf import JointProbabilityMatrix\n",
    "from jointpdf.jointpdf import FullNestedArrayOfProbabilities\n",
    "from probability_distributions import JointProbabilityMatrixExtended\n",
    "import probability_distributions\n",
    "from probability_distributions import ProbabilityArray"
   ]
  },
  {
   "cell_type": "code",
   "execution_count": 2,
   "metadata": {},
   "outputs": [
    {
     "name": "stdout",
     "output_type": "stream",
     "text": [
      "[ 0.3   0.39  0.31  0.1 ]\n",
      "[ 0.3   0.4   0.31  0.09]\n",
      "[ 0.31  0.39  0.3   0.1 ]\n",
      "[ 0.29  0.41  0.3   0.1 ]\n",
      "[ 0.29  0.41  0.3   0.1 ]\n"
     ]
    }
   ],
   "source": [
    "def nudge(distribution, nudge_size):\n",
    "    \"\"\"\n",
    "    Perform a nudge on the distribution. For now the nudge\n",
    "    is performed on two randomly selected states\n",
    "    \n",
    "    Parameters:\n",
    "    ----------\n",
    "    distribution: a 1-d numpy array\n",
    "    nudge_size:  a positive number\n",
    "        The size of the nudge\n",
    "    \n",
    "    Returns: the nudged distribution\n",
    "    \"\"\"\n",
    "    nudged_states = np.random.choice(distribution.shape[0],\n",
    "                                     size=2, \n",
    "                                     replace=False)\n",
    "    nudge_size = min(nudge_size, \n",
    "                     1-distribution[nudged_states[0]],\n",
    "                     distribution[nudged_states[1]])\n",
    "    \n",
    "    nudged_distribution = np.copy(distribution)\n",
    "    nudged_distribution[nudged_states[0]] += nudge_size\n",
    "    nudged_distribution[nudged_states[1]] -= nudge_size\n",
    "    return nudged_distribution\n",
    "\n",
    "def test_nudge1():\n",
    "    distribution = np.array([0.3, 0.4, 0.3, 0.1])\n",
    "    sum_nudged_distribution = np.zeros(distribution.shape)\n",
    "    for i in range(5):\n",
    "        print(nudge(distribution, 0.01))\n",
    "        \n",
    "def test_nudge2():\n",
    "    distribution = np.array([0.001, 0.001, 0.003, 0.995])\n",
    "    sum_nudged_distribution = np.zeros(distribution.shape)\n",
    "    for i in range(10):\n",
    "        assert np.all(nudge(distribution, 0.01) >= 0)\n",
    "        assert np.all(nudge(distribution, 0.01) <= 1)\n",
    "    \n",
    "test_nudge1()\n",
    "test_nudge2()\n",
    "        \n",
    "    "
   ]
  },
  {
   "cell_type": "code",
   "execution_count": 3,
   "metadata": {
    "collapsed": true
   },
   "outputs": [],
   "source": [
    "pdf = JointProbabilityMatrix(1, 6, 'random')\n",
    "#print(pdf.joint_probabilities.joint_probabilities)\n",
    "pdf.append_variables_with_target_mi(1, 0.8)\n"
   ]
  },
  {
   "cell_type": "code",
   "execution_count": 4,
   "metadata": {},
   "outputs": [
    {
     "name": "stdout",
     "output_type": "stream",
     "text": [
      "KL-divergence old and new function distribution: 0.000582751636219\n",
      "KL-divergence old and new function distribution: 1.02162626993e-05\n"
     ]
    }
   ],
   "source": [
    "NUDGE_SIZE = 0.01\n",
    "\n",
    "pdf = JointProbabilityMatrix(1, 6, 'random')\n",
    "#print(pdf.joint_probabilities.joint_probabilities)\n",
    "pdf.append_variables_with_target_mi(1, 0.1)\n",
    "#print(pdf.joint_probabilities.joint_probabilities)\n",
    "#print(pdf.mutual_information([0], [1]))\n",
    "\n",
    "joint_old = pdf.joint_probabilities.joint_probabilities\n",
    "probability_array_old = ProbabilityArray(joint_old)\n",
    "marginal_variable_old = probability_array_old.marginalize(set([0]))\n",
    "marginal_function_old = probability_array_old.marginalize(set([1]))\n",
    "conditional_joint_old, marginal_labels_old, conditional_labels_old = (\n",
    "    probability_array_old.find_conditional(set([1]), set([0]))\n",
    ")\n",
    "#print(marginal_variable_old)\n",
    "#print(np.allclose(\n",
    "#    probability_distributions.compute_joint(\n",
    "#        marginal_variable_old, conditional_joint_old, conditional_labels_old\n",
    "#    ),\n",
    "#    joint_old\n",
    "#))\n",
    "marginal_variable_nudged = nudge(marginal_variable_old, NUDGE_SIZE)\n",
    "joint_new = ProbabilityArray(probability_distributions.compute_joint(\n",
    "    marginal_variable_nudged, conditional_joint_old, conditional_labels_old\n",
    "))\n",
    "#This takes the KL-divergence between the new and old function variable\n",
    "marginal_function_new = joint_new.marginalize(set([1]))  \n",
    "\n",
    "kl_variable = entropy(marginal_variable_old, marginal_variable_nudged)\n",
    "kl_function = entropy(marginal_function_old, marginal_function_new) \n",
    "print(\"KL-divergence old and new function distribution: {}\".format(kl_variable))\n",
    "print(\"KL-divergence old and new function distribution: {}\".format(kl_function))\n",
    "\n",
    "\n"
   ]
  },
  {
   "cell_type": "code",
   "execution_count": 5,
   "metadata": {},
   "outputs": [
    {
     "data": {
      "text/plain": [
       "(0.00041394516664005655, 2.0356021032248012e-05)"
      ]
     },
     "execution_count": 5,
     "metadata": {},
     "output_type": "execute_result"
    }
   ],
   "source": [
    "def effect_of_nudge(number_of_states, mutual_information, nudge_size):\n",
    "    pdf = JointProbabilityMatrix(1, number_of_states, 'random')\n",
    "    pdf.append_variables_with_target_mi(1, mutual_information)\n",
    "    joint_old = pdf.joint_probabilities.joint_probabilities\n",
    "    probability_array_old = ProbabilityArray(joint_old)\n",
    "    marginal_variable_old = probability_array_old.marginalize(set([0]))\n",
    "    marginal_function_old = probability_array_old.marginalize(set([1]))\n",
    "    conditional_joint_old, marginal_labels_old, conditional_labels_old = (\n",
    "        probability_array_old.find_conditional(set([1]), set([0]))\n",
    "    )\n",
    "    marginal_variable_nudged = nudge(marginal_variable_old, NUDGE_SIZE)\n",
    "    joint_new = ProbabilityArray(probability_distributions.compute_joint(\n",
    "        marginal_variable_nudged, conditional_joint_old, conditional_labels_old\n",
    "    ))\n",
    "    marginal_function_new = joint_new.marginalize(set([1]))  \n",
    "    kl_variable = entropy(marginal_variable_old, marginal_variable_nudged)\n",
    "    kl_function = entropy(marginal_function_old, marginal_function_new) \n",
    "    return kl_variable, kl_function\n",
    "\n",
    "effect_of_nudge(4, 0.1, 0.01)"
   ]
  },
  {
   "cell_type": "code",
   "execution_count": 13,
   "metadata": {},
   "outputs": [
    {
     "name": "stdout",
     "output_type": "stream",
     "text": [
      "the mutual information size is 0.05\n",
      "the mutual information size is 0.1\n",
      "the mutual information size is 0.15\n",
      "the mutual information size is 0.2\n",
      "the mutual information size is 0.25\n",
      "the mutual information size is 0.3\n",
      "the mutual information size is 0.35\n",
      "the mutual information size is 0.4\n",
      "the mutual information size is 0.45\n",
      "the mutual information size is 0.5\n",
      "the mutual information size is 0.55\n",
      "the mutual information size is 0.6\n",
      "the mutual information size is 0.65\n",
      "the mutual information size is 0.7\n",
      "the mutual information size is 0.75\n",
      "the mutual information size is 0.8\n",
      "the mutual information size is 0.85\n",
      "the mutual information size is 0.9\n",
      "the mutual information size is 0.95\n",
      "{0.25: 5.7966754692180996e-05, 0.5: 0.00011428205737884133, 0.10000000000000001: 2.1336850830856365e-05, 0.20000000000000001: 4.2257068734944147e-05, 0.40000000000000002: 0.00010511201412329804, 0.15000000000000002: 3.3865339070814593e-05, 0.80000000000000004: 0.00016951478109272471, 0.29999999999999999: 7.2373738180670703e-05, 0.050000000000000003: 1.1741001193329332e-05, 0.90000000000000013: 0.00019885355927691458, 0.95000000000000007: 0.0002272772709557917, 0.65000000000000013: 0.00012772707192321329, 0.85000000000000009: 0.00023392036949476224, 0.45000000000000001: 0.00010428433054772715, 0.60000000000000009: 0.00012336099665904171, 0.75000000000000011: 0.00015969536379837029, 0.70000000000000007: 0.00014666946682441695, 0.35000000000000003: 8.4959104301778366e-05, 0.55000000000000004: 0.0001196016337054747}\n"
     ]
    }
   ],
   "source": [
    "#see whether and how mutual information and response to the nudge co-depend\n",
    "NUMBER_OF_STATES, NUDGE_SIZE = 6, 0.01\n",
    "mutual_information_sizes = np.arange(0.05, 1, 0.05)\n",
    "sample_size = 100\n",
    "average_effect_nudge = {}\n",
    "\n",
    "for mutual_information_size in mutual_information_sizes:\n",
    "    print(\"the mutual information size is {}\".format(mutual_information_size))\n",
    "    nudge_effects = []\n",
    "    for sample in range(sample_size):\n",
    "        nudge_effects.append(\n",
    "            effect_of_nudge(4, mutual_information_size, 0.01)[1]\n",
    "        )\n",
    "    average_effect_nudge[mutual_information_size] = np.mean(nudge_effects)\n",
    "    \n",
    "print(average_effect_nudge)"
   ]
  },
  {
   "cell_type": "code",
   "execution_count": 14,
   "metadata": {},
   "outputs": [
    {
     "name": "stdout",
     "output_type": "stream",
     "text": [
      "{0.25: 5.7966754692180996e-05, 0.5: 0.00011428205737884133, 0.10000000000000001: 2.1336850830856365e-05, 0.20000000000000001: 4.2257068734944147e-05, 0.40000000000000002: 0.00010511201412329804, 0.15000000000000002: 3.3865339070814593e-05, 0.80000000000000004: 0.00016951478109272471, 0.29999999999999999: 7.2373738180670703e-05, 0.050000000000000003: 1.1741001193329332e-05, 0.90000000000000013: 0.00019885355927691458, 0.95000000000000007: 0.0002272772709557917, 0.65000000000000013: 0.00012772707192321329, 0.85000000000000009: 0.00023392036949476224, 0.45000000000000001: 0.00010428433054772715, 0.60000000000000009: 0.00012336099665904171, 0.75000000000000011: 0.00015969536379837029, 0.70000000000000007: 0.00014666946682441695, 0.35000000000000003: 8.4959104301778366e-05, 0.55000000000000004: 0.0001196016337054747}\n",
      "OrderedDict([(0.050000000000000003, 1.1741001193329332e-05), (0.10000000000000001, 2.1336850830856365e-05), (0.15000000000000002, 3.3865339070814593e-05), (0.20000000000000001, 4.2257068734944147e-05), (0.25, 5.7966754692180996e-05), (0.29999999999999999, 7.2373738180670703e-05), (0.35000000000000003, 8.4959104301778366e-05), (0.40000000000000002, 0.00010511201412329804), (0.45000000000000001, 0.00010428433054772715), (0.5, 0.00011428205737884133), (0.55000000000000004, 0.0001196016337054747), (0.60000000000000009, 0.00012336099665904171), (0.65000000000000013, 0.00012772707192321329), (0.70000000000000007, 0.00014666946682441695), (0.75000000000000011, 0.00015969536379837029), (0.80000000000000004, 0.00016951478109272471), (0.85000000000000009, 0.00023392036949476224), (0.90000000000000013, 0.00019885355927691458), (0.95000000000000007, 0.0002272772709557917)])\n"
     ]
    },
    {
     "data": {
      "image/png": "[encoded data removed]",
      "text/plain": [
       "<matplotlib.figure.Figure at 0x7f9ca5a31110>"
      ]
     },
     "metadata": {},
     "output_type": "display_data"
    }
   ],
   "source": [
    "import matplotlib.pyplot as plt\n",
    "import collections\n",
    "\n",
    "print(average_effect_nudge)\n",
    "ord_dict_val = collections.OrderedDict(sorted(average_effect_nudge.items(), key= lambda x: x[0]))\n",
    "print(ord_dict_val)\n",
    "\n",
    "a = ord_dict_val.keys()\n",
    "b = ord_dict_val.values()\n",
    "\n",
    "plt.plot(a, b, label=\"line\")\n",
    "plt.xlabel(\"the mutual information\")\n",
    "plt.ylabel(\"the effect of the nudge\")\n",
    "plt.legend()\n",
    "plt.title(\"the effect of a nudge of variable on function\")\n",
    "plt.show()"
   ]
  },
  {
   "cell_type": "code",
   "execution_count": null,
   "metadata": {},
   "outputs": [],
   "source": [
    "import numpy as np\n",
    "\n",
    "probability_array_tryout = FullNestedArrayOfProbabilities(\n",
    "    np.array(\n",
    "      [\n",
    "        [\n",
    "          [\n",
    "            [0.2, 0.1]          \n",
    "          ],\n",
    "          [\n",
    "            [0.05, 0.05]\n",
    "          ]\n",
    "        ],\n",
    "        [\n",
    "          [\n",
    "            [0.3, 0.05] \n",
    "          ],\n",
    "          [\n",
    "            [0.15, 0.1] \n",
    "          ]\n",
    "        ],\n",
    "      ]\n",
    "    )\n",
    ")\n",
    "pdf_tryout = JointProbabilityMatrixExtended(4, 2, probability_array_tryout)\n",
    "\n",
    "print(\"the joint pdf\")\n",
    "print(pdf_tryout.dist())\n",
    "\n",
    "probability_dict = \n",
    "\n",
    "pdf_tryout.conditional_distribution([3], [0, 2])"
   ]
  },
  {
   "cell_type": "code",
   "execution_count": null,
   "metadata": {
    "collapsed": true
   },
   "outputs": [],
   "source": [
    "def conditional_distribution(self, selected_indices, conditional_indices):\n",
    "    \"\"\"create the conditional distribution for the selected_indices given \n",
    "    the conditional_indices for the joint_distribution\n",
    "    \n",
    "    Parameters:\n",
    "    ----------\n",
    "    joint_distribution: numpy array\n",
    "    selected_indices: list of integers\n",
    "    conditional_indices: list of integers\n",
    "    \n",
    "    Returns:\n",
    "    -------\n",
    "    \n",
    "    \"\"\"\n",
    "    joint_distribution = self.marginalize_distribution(selected_indices+conditional_indices)\n",
    "    marginal_conditional = self.marginalize_distribution(conditional_indices)\n",
    "    conditional_distribution = np.copy(joint_distribution) \n",
    "    it = np.iter(joint_distribution, flags='multi_index')\n",
    "    while not it.finished:\n",
    "        conditional_arguments = tuple([it.multi_index[i] for i in conditional_indices])\n",
    "        conditional_distribution[it.multi_index] = (\n",
    "            conditional_distribution[it.multi_index] /\n",
    "            marginal_conditional[conditional_arguments]\n",
    "        )\n",
    "        it.iternext()\n",
    "        \n",
    "    return conditional_distribution\n",
    "        "
   ]
  },
  {
   "cell_type": "code",
   "execution_count": null,
   "metadata": {
    "collapsed": true
   },
   "outputs": [],
   "source": [
    "import numpy as np \n",
    "\n",
    "a = np.array(\n",
    "    [\n",
    "        [1, 10],\n",
    "        [50, 100]\n",
    "    ]\n",
    ")\n",
    "\n",
    "b = np.array(\n",
    "    [\n",
    "        [\n",
    "            [10, 20],\n",
    "            [30, 40]\n",
    "        ],\n",
    "        [\n",
    "            [1, 2],\n",
    "            [3, 4]\n",
    "        ]\n",
    "    ]\n",
    ")\n",
    "\n",
    "a*b "
   ]
  },
  {
   "cell_type": "code",
   "execution_count": null,
   "metadata": {
    "collapsed": true
   },
   "outputs": [],
   "source": [
    "import numpy as np\n",
    "\n",
    "tryout = np.arange(2**10).reshape([2]*10)\n",
    "#print(tryout)\n",
    "a = [1, 3, 4, 5, 9]\n",
    "total_variables = 10\n",
    "b = np.moveaxis(tryout, a, range(total_variables-len(a), total_variables, 1))\n",
    "c = np.array([[1,10],[100,1000]])\n",
    "b = b*c\n",
    "#tryout = np.moveaxis(b, range(total_variables-len(a), total_variables, 1), a)\n",
    "print(tryout)\n",
    "\n",
    "\n",
    "#tryout = b*c\n",
    "#np.moveaxis(tryout, range(total_variables-len(a), total_variables, 1), a)\n"
   ]
  },
  {
   "cell_type": "code",
   "execution_count": null,
   "metadata": {
    "collapsed": true
   },
   "outputs": [],
   "source": [
    "len(set([0,1,2]))"
   ]
  },
  {
   "cell_type": "code",
   "execution_count": null,
   "metadata": {
    "collapsed": true
   },
   "outputs": [],
   "source": []
  }
 ],
 "metadata": {
  "kernelspec": {
   "display_name": "Python 2",
   "language": "python",
   "name": "python2"
  },
  "language_info": {
   "codemirror_mode": {
    "name": "ipython",
    "version": 2
   },
   "file_extension": ".py",
   "mimetype": "text/x-python",
   "name": "python",
   "nbconvert_exporter": "python",
   "pygments_lexer": "ipython2",
   "version": "2.7.12"
  }
 },
 "nbformat": 4,
 "nbformat_minor": 2
}
