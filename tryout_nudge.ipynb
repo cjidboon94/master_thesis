{
 "cells": [
  {
   "cell_type": "code",
   "execution_count": null,
   "metadata": {
    "collapsed": true
   },
   "outputs": [],
   "source": [
    "import numpy as np\n",
    "from scipy.stats import entropy\n",
    "import json\n",
    "import collections\n",
    "import itertools\n",
    "\n",
    "import powerlaw\n",
    "from jointpdf.jointpdf import JointProbabilityMatrix\n",
    "from jointpdf.jointpdf import FullNestedArrayOfProbabilities\n",
    "\n",
    "from probability_distributions import JointProbabilityMatrixExtended\n",
    "import probability_distributions\n",
    "from probability_distributions import ProbabilityArray\n",
    "from simulate import find_mean_std_mse\n",
    "import nudge"
   ]
  },
  {
   "cell_type": "code",
   "execution_count": null,
   "metadata": {
    "collapsed": true
   },
   "outputs": [],
   "source": [
    "pdf = JointProbabilityMatrix(2, 5, 'random')\n",
    "#pdf.append_variables_with_target_mi(1, 0.5)\n",
    "#pdf.append_synergistic_variables()"
   ]
  },
  {
   "cell_type": "code",
   "execution_count": null,
   "metadata": {
    "collapsed": true
   },
   "outputs": [],
   "source": [
    "NUDGE_SIZE = 0.01\n",
    "pdf = JointProbabilityMatrix(1, 6, 'random')\n",
    "#print(pdf.joint_probabilities.joint_probabilities)\n",
    "pdf.append_variables_with_target_mi(1, 0.1)\n",
    "#print(pdf.mutual_information([0], [1]))\n",
    "\n",
    "joint_old = pdf.joint_probabilities.joint_probabilities\n",
    "probability_array_old = ProbabilityArray(joint_old)\n",
    "marginal_variable_old = probability_array_old.marginalize(set([0]))\n",
    "marginal_function_old = probability_array_old.marginalize(set([1]))\n",
    "conditional_joint_old, marginal_labels_old, conditional_labels_old = (\n",
    "    probability_array_old.find_conditional(set([1]), set([0]))\n",
    ")\n",
    "marginal_variable_nudged, nudged_states = nudge.nudge(marginal_variable_old, NUDGE_SIZE)\n",
    "joint_new = ProbabilityArray(probability_distributions.compute_joint(\n",
    "    marginal_variable_nudged, conditional_joint_old, conditional_labels_old\n",
    "))\n",
    "\n",
    "#This takes the KL-divergence between the new and old function variable\n",
    "marginal_function_new = joint_new.marginalize(set([1]))  \n",
    "\n",
    "kl_variable = entropy(marginal_variable_old, marginal_variable_nudged)\n",
    "kl_function = entropy(marginal_function_old, marginal_function_new) \n",
    "print(\"KL-divergence old and new function distribution: {}\".format(kl_variable))\n",
    "print(\"KL-divergence old and new function distribution: {}\".format(kl_function))"
   ]
  },
  {
   "cell_type": "code",
   "execution_count": null,
   "metadata": {
    "collapsed": true
   },
   "outputs": [],
   "source": []
  }
 ],
 "metadata": {
  "kernelspec": {
   "display_name": "Python 2",
   "language": "python",
   "name": "python2"
  },
  "language_info": {
   "codemirror_mode": {
    "name": "ipython",
    "version": 2
   },
   "file_extension": ".py",
   "mimetype": "text/x-python",
   "name": "python",
   "nbconvert_exporter": "python",
   "pygments_lexer": "ipython2",
   "version": "2.7.12"
  }
 },
 "nbformat": 4,
 "nbformat_minor": 2
}
