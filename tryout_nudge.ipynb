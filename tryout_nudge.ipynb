{
 "cells": [
  {
   "cell_type": "code",
   "execution_count": 1,
   "metadata": {
    "collapsed": true
   },
   "outputs": [],
   "source": [
    "import numpy as np\n",
    "from scipy.stats import entropy\n",
    "import json\n",
    "import collections\n",
    "import itertools\n",
    "\n",
    "import powerlaw\n",
    "from jointpdf.jointpdf import JointProbabilityMatrix\n",
    "from jointpdf.jointpdf import FullNestedArrayOfProbabilities\n",
    "\n",
    "from probability_distributions import JointProbabilityMatrixExtended\n",
    "import probability_distributions\n",
    "from probability_distributions import ProbabilityArray\n",
    "from simulate import find_mean_std_mse\n",
    "import nudge"
   ]
  },
  {
   "cell_type": "code",
   "execution_count": 2,
   "metadata": {
    "collapsed": true
   },
   "outputs": [],
   "source": [
    "pdf = JointProbabilityMatrix(2, 5, 'random')\n",
    "#pdf.append_variables_with_target_mi(1, 0.5)\n",
    "#pdf.append_synergistic_variables()\n",
    "\n",
    "import numpy as np\n",
    "\n",
    "probability_array_tryout = FullNestedArrayOfProbabilities(\n",
    "    np.array(\n",
    "      [\n",
    "        [\n",
    "          [\n",
    "            [0.2, 0.1]          \n",
    "          ],\n",
    "          [\n",
    "            [0.05, 0.05]\n",
    "          ]\n",
    "        ],\n",
    "        [\n",
    "          [\n",
    "            [0.3, 0.05] \n",
    "          ],\n",
    "          [\n",
    "            [0.15, 0.1] \n",
    "          ]\n",
    "        ],\n",
    "      ]\n",
    "    )\n",
    ") "
   ]
  },
  {
   "cell_type": "code",
   "execution_count": 3,
   "metadata": {},
   "outputs": [
    {
     "name": "stdout",
     "output_type": "stream",
     "text": [
      "KL-divergence old and new function distribution: 0.000777099901024\n",
      "KL-divergence old and new function distribution: 1.93103500031e-05\n"
     ]
    }
   ],
   "source": [
    "NUDGE_SIZE = 0.01\n",
    "pdf = JointProbabilityMatrix(1, 6, 'random')\n",
    "#print(pdf.joint_probabilities.joint_probabilities)\n",
    "pdf.append_variables_with_target_mi(1, 0.1)\n",
    "#print(pdf.mutual_information([0], [1]))\n",
    "\n",
    "joint_old = pdf.joint_probabilities.joint_probabilities\n",
    "probability_array_old = ProbabilityArray(joint_old)\n",
    "marginal_variable_old = probability_array_old.marginalize(set([0]))\n",
    "marginal_function_old = probability_array_old.marginalize(set([1]))\n",
    "conditional_joint_old, marginal_labels_old, conditional_labels_old = (\n",
    "    probability_array_old.find_conditional(set([1]), set([0]))\n",
    ")\n",
    "marginal_variable_nudged, nudged_states = nudge.nudge(marginal_variable_old, NUDGE_SIZE)\n",
    "joint_new = ProbabilityArray(probability_distributions.compute_joint(\n",
    "    marginal_variable_nudged, conditional_joint_old, conditional_labels_old\n",
    "))\n",
    "\n",
    "#This takes the KL-divergence between the new and old function variable\n",
    "marginal_function_new = joint_new.marginalize(set([1]))  \n",
    "\n",
    "kl_variable = entropy(marginal_variable_old, marginal_variable_nudged)\n",
    "kl_function = entropy(marginal_function_old, marginal_function_new) \n",
    "print(\"KL-divergence old and new function distribution: {}\".format(kl_variable))\n",
    "print(\"KL-divergence old and new function distribution: {}\".format(kl_function))"
   ]
  },
  {
   "cell_type": "code",
   "execution_count": 4,
   "metadata": {
    "collapsed": true
   },
   "outputs": [],
   "source": [
    "#this method does ot work, the joint does not sum to 1!!!\n",
    "def update_joint_independent_marginals(joint, label_marginal, marginal, \n",
    "                                       update_states, other_marginal):\n",
    "    \"\"\"update a joint distribution only for certain states of a marginal\n",
    "    assuming the merginals are independent for those states\n",
    "    \n",
    "    Parameters:\n",
    "    ----------\n",
    "    joint: numpy array\n",
    "    label_marginal: integer\n",
    "    marginal: a numpy array\n",
    "    states: a numpy array\n",
    "    other_marginal: a numpy array\n",
    "    \n",
    "    Returns: The updated joint distribution\n",
    "\n",
    "    \"\"\"\n",
    "    updated_joint = np.copy(joint)\n",
    "    states_input_variables = [range(states) for states in joint.shape]\n",
    "    states_input_variables[label_marginal] = list(update_states)\n",
    "    \n",
    "    for state in itertools.product(*states_input_variables):\n",
    "        state_other_input_variables = tuple([index for count, index in enumerate(state)\n",
    "                                             if count != label_marginal])\n",
    "        updated_joint[state] = (other_marginal[state_other_input_variables] *\n",
    "                                marginal_variable_nudged[state[label_marginal]])\n",
    "\n",
    "    return updated_joint\n",
    "\n"
   ]
  },
  {
   "cell_type": "code",
   "execution_count": null,
   "metadata": {
    "collapsed": true
   },
   "outputs": [],
   "source": [
    "import numpy as np\n",
    "\n",
    "tryout = np.arange(2**10).reshape([2]*10)\n",
    "#print(tryout)\n",
    "a = [1, 3, 4, 5, 9]\n",
    "total_variables = 10\n",
    "b = np.moveaxis(tryout, a, range(total_variables-len(a), total_variables, 1))\n",
    "c = np.array([[1,10],[100,1000]])\n",
    "b = b*c\n",
    "#tryout = np.moveaxis(b, range(total_variables-len(a), total_variables, 1), a)\n",
    "print(tryout)\n",
    "\n",
    "\n",
    "#tryout = b*c\n",
    "#np.moveaxis(tryout, range(total_variables-len(a), total_variables, 1), a)\n"
   ]
  }
 ],
 "metadata": {
  "kernelspec": {
   "display_name": "Python 2",
   "language": "python",
   "name": "python2"
  },
  "language_info": {
   "codemirror_mode": {
    "name": "ipython",
    "version": 2
   },
   "file_extension": ".py",
   "mimetype": "text/x-python",
   "name": "python",
   "nbconvert_exporter": "python",
   "pygments_lexer": "ipython2",
   "version": "2.7.12"
  }
 },
 "nbformat": 4,
 "nbformat_minor": 2
}
