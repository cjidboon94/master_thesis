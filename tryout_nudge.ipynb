{
 "cells": [
  {
   "cell_type": "code",
   "execution_count": null,
   "metadata": {
    "collapsed": true
   },
   "outputs": [],
   "source": [
    "import numpy as np\n",
    "from scipy.stats import entropy\n",
    "\n",
    "from jointpdf.jointpdf import JointProbabilityMatrix\n",
    "from jointpdf.jointpdf import FullNestedArrayOfProbabilities\n",
    "from probability_distributions import JointProbabilityMatrixExtended\n",
    "import probability_distributions\n",
    "from probability_distributions import ProbabilityArray"
   ]
  },
  {
   "cell_type": "code",
   "execution_count": null,
   "metadata": {},
   "outputs": [],
   "source": [
    "def nudge(distribution, nudge_size):\n",
    "    \"\"\"\n",
    "    Perform a nudge on the distribution. For now the nudge\n",
    "    is performed on two randomly selected states\n",
    "    \n",
    "    Parameters:\n",
    "    ----------\n",
    "    distribution: a 1-d numpy array\n",
    "    nudge_size:  a positive number\n",
    "        The size of the nudge\n",
    "    \n",
    "    Returns: the nudged distribution\n",
    "    \"\"\"\n",
    "    nudged_states = np.random.choice(distribution.shape[0],\n",
    "                                     size=2, \n",
    "                                     replace=False)\n",
    "    nudge_size = min(nudge_size, \n",
    "                     1-distribution[nudged_states[0]],\n",
    "                     distribution[nudged_states[1]])\n",
    "    \n",
    "    nudged_distribution = np.copy(distribution)\n",
    "    nudged_distribution[nudged_states[0]] += nudge_size\n",
    "    nudged_distribution[nudged_states[1]] -= nudge_size\n",
    "    return nudged_distribution\n",
    "\n",
    "def test_nudge1():\n",
    "    distribution = np.array([0.3, 0.4, 0.3, 0.1])\n",
    "    sum_nudged_distribution = np.zeros(distribution.shape)\n",
    "    for i in range(5):\n",
    "        print(nudge(distribution, 0.01))\n",
    "        \n",
    "def test_nudge2():\n",
    "    distribution = np.array([0.001, 0.001, 0.003, 0.995])\n",
    "    sum_nudged_distribution = np.zeros(distribution.shape)\n",
    "    for i in range(10):\n",
    "        assert np.all(nudge(distribution, 0.01) >= 0)\n",
    "        assert np.all(nudge(distribution, 0.01) <= 1)\n",
    "    \n",
    "test_nudge1()\n",
    "test_nudge2()\n",
    "        \n",
    "    "
   ]
  },
  {
   "cell_type": "code",
   "execution_count": null,
   "metadata": {},
   "outputs": [],
   "source": [
    "NUDGE_SIZE = 0.01\n",
    "\n",
    "pdf = JointProbabilityMatrix(1, 5, 'random')\n",
    "print(pdf.joint_probabilities.joint_probabilities)\n",
    "pdf.append_variables_with_target_mi(1, 0.1)\n",
    "print(pdf.joint_probabilities.joint_probabilities)\n",
    "print(pdf.mutual_information([0], [1]))\n",
    "\n",
    "joint_old = pdf.joint_probabilities.joint_probabilities\n",
    "probability_array_old = ProbabilityArray(joint_old)\n",
    "marginal_variable_old = probability_array_old.marginalize(set([0]))\n",
    "marginal_function_old = probability_array_old.marginalize(set([1]))\n",
    "conditional_joint_old, marginal_labels_old, conditional_labels_old = (\n",
    "    probability_array_old.find_conditional(set([1]), set([0]))\n",
    ")\n",
    "print(marginal_variable_old)\n",
    "print(np.allclose(\n",
    "    probability_distributions.compute_joint(\n",
    "        marginal_variable_old, conditional_joint_old, conditional_labels_old\n",
    "    ),\n",
    "    joint_old\n",
    "))\n",
    "marginal_nudged = nudge(marginal_variable_old, NUDGE_SIZE)\n",
    "joint_new = ProbabilityArray(probability_distributions.compute_joint(\n",
    "    marginal_nudged, conditional_joint_old, conditional_labels_old\n",
    "))\n",
    "#This takes the KL-divergence between the new and old function variable\n",
    "marginal_function_new = joint_new.marginalize(set([1]))  \n",
    "print(entropy(marginal_function_old, marginal_function_new))\n",
    "\n",
    "\n"
   ]
  },
  {
   "cell_type": "code",
   "execution_count": null,
   "metadata": {
    "collapsed": true
   },
   "outputs": [],
   "source": [
    "import numpy as np\n",
    "\n",
    "probability_array_tryout = FullNestedArrayOfProbabilities(\n",
    "    np.array(\n",
    "      [\n",
    "        [\n",
    "          [\n",
    "            [0.2, 0.1]          \n",
    "          ],\n",
    "          [\n",
    "            [0.05, 0.05]\n",
    "          ]\n",
    "        ],\n",
    "        [\n",
    "          [\n",
    "            [0.3, 0.05] \n",
    "          ],\n",
    "          [\n",
    "            [0.15, 0.1] \n",
    "          ]\n",
    "        ],\n",
    "      ]\n",
    "    )\n",
    ")\n",
    "pdf_tryout = JointProbabilityMatrixExtended(4, 2, probability_array_tryout)\n",
    "\n",
    "print(\"the joint pdf\")\n",
    "print(pdf_tryout.dist())\n",
    "\n",
    "probability_dict = \n",
    "\n",
    "pdf_tryout.conditional_distribution([3], [0, 2])"
   ]
  },
  {
   "cell_type": "code",
   "execution_count": null,
   "metadata": {
    "collapsed": true
   },
   "outputs": [],
   "source": [
    "def conditional_distribution(self, selected_indices, conditional_indices):\n",
    "    \"\"\"create the conditional distribution for the selected_indices given \n",
    "    the conditional_indices for the joint_distribution\n",
    "    \n",
    "    Parameters:\n",
    "    ----------\n",
    "    joint_distribution: numpy array\n",
    "    selected_indices: list of integers\n",
    "    conditional_indices: list of integers\n",
    "    \n",
    "    Returns:\n",
    "    -------\n",
    "    \n",
    "    \"\"\"\n",
    "    joint_distribution = self.marginalize_distribution(selected_indices+conditional_indices)\n",
    "    marginal_conditional = self.marginalize_distribution(conditional_indices)\n",
    "    conditional_distribution = np.copy(joint_distribution) \n",
    "    it = np.iter(joint_distribution, flags='multi_index')\n",
    "    while not it.finished:\n",
    "        conditional_arguments = tuple([it.multi_index[i] for i in conditional_indices])\n",
    "        conditional_distribution[it.multi_index] = (\n",
    "            conditional_distribution[it.multi_index] /\n",
    "            marginal_conditional[conditional_arguments]\n",
    "        )\n",
    "        it.iternext()\n",
    "        \n",
    "    return conditional_distribution\n",
    "        "
   ]
  },
  {
   "cell_type": "code",
   "execution_count": null,
   "metadata": {
    "collapsed": true
   },
   "outputs": [],
   "source": [
    "import numpy as np \n",
    "\n",
    "a = np.array(\n",
    "    [\n",
    "        [1, 10],\n",
    "        [50, 100]\n",
    "    ]\n",
    ")\n",
    "\n",
    "b = np.array(\n",
    "    [\n",
    "        [\n",
    "            [10, 20],\n",
    "            [30, 40]\n",
    "        ],\n",
    "        [\n",
    "            [1, 2],\n",
    "            [3, 4]\n",
    "        ]\n",
    "    ]\n",
    ")\n",
    "\n",
    "a*b "
   ]
  },
  {
   "cell_type": "code",
   "execution_count": null,
   "metadata": {
    "collapsed": true
   },
   "outputs": [],
   "source": [
    "import numpy as np\n",
    "\n",
    "tryout = np.arange(2**10).reshape([2]*10)\n",
    "#print(tryout)\n",
    "a = [1, 3, 4, 5, 9]\n",
    "total_variables = 10\n",
    "b = np.moveaxis(tryout, a, range(total_variables-len(a), total_variables, 1))\n",
    "c = np.array([[1,10],[100,1000]])\n",
    "b = b*c\n",
    "#tryout = np.moveaxis(b, range(total_variables-len(a), total_variables, 1), a)\n",
    "print(tryout)\n",
    "\n",
    "\n",
    "#tryout = b*c\n",
    "#np.moveaxis(tryout, range(total_variables-len(a), total_variables, 1), a)\n"
   ]
  },
  {
   "cell_type": "code",
   "execution_count": null,
   "metadata": {
    "collapsed": true
   },
   "outputs": [],
   "source": [
    "len(set([0,1,2]))"
   ]
  },
  {
   "cell_type": "code",
   "execution_count": null,
   "metadata": {
    "collapsed": true
   },
   "outputs": [],
   "source": []
  }
 ],
 "metadata": {
  "kernelspec": {
   "display_name": "Python 2",
   "language": "python",
   "name": "python2"
  },
  "language_info": {
   "codemirror_mode": {
    "name": "ipython",
    "version": 2
   },
   "file_extension": ".py",
   "mimetype": "text/x-python",
   "name": "python",
   "nbconvert_exporter": "python",
   "pygments_lexer": "ipython2",
   "version": "2.7.12"
  }
 },
 "nbformat": 4,
 "nbformat_minor": 2
}
