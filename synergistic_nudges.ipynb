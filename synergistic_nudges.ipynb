{
 "cells": [
  {
   "cell_type": "code",
   "execution_count": null,
   "metadata": {
    "collapsed": true
   },
   "outputs": [],
   "source": [
    "%load_ext autoreload\n",
    "%autoreload 2"
   ]
  },
  {
   "cell_type": "code",
   "execution_count": 2,
   "metadata": {
    "collapsed": true
   },
   "outputs": [],
   "source": [
    "import numpy as np\n",
    "from scipy import stats\n",
    "\n",
    "import probability_distributions\n",
    "import maximum_nudges\n",
    "import evolutionary_algorithms as ea\n",
    "import maximum_synergistic_nudge_evolutionary as synergistic_nudge_ev"
   ]
  },
  {
   "cell_type": "code",
   "execution_count": 3,
   "metadata": {},
   "outputs": [],
   "source": [
    "#distribution parameters\n",
    "input_variables = 4\n",
    "number_of_states = 5\n",
    "nudge_size = 0.01\n",
    "\n",
    "#generate both input and conditional output with Dirichlet weights\n",
    "distribution_shape = [number_of_states]*input_variables\n",
    "total_number_of_states = reduce(lambda x,y: x*y, distribution_shape)\n",
    "input_dist = np.random.dirichlet([1]*total_number_of_states)\n",
    "input_dist = np.reshape(input_dist, distribution_shape)\n",
    "cond_shape = [number_of_states]*(input_variables+1)\n",
    "cond_output = [\n",
    "    probability_distributions.compute_joint_uniform_random((number_of_states,))\n",
    "    for i in range(number_of_states**(input_variables))\n",
    "]\n",
    "cond_output = np.array(cond_output)\n",
    "cond_output = np.reshape(cond_output, cond_shape)\n",
    "\n",
    "\n",
    "start_mutation_size = nudge_size/4,\n",
    "change_mutation_size = nudge_size/(4*10)\n",
    "mutations_per_update_step = 10\n",
    "synergetic_nudge = synergistic_nudge_ev.SynergisticNudge(input_dist, np.copy(input_dist), cond_output,\n",
    "                 nudge_size, mutations_per_update_step, start_mutation_size,\n",
    "                 change_mutation_size, timestamp=0)"
   ]
  },
  {
   "cell_type": "code",
   "execution_count": 5,
   "metadata": {},
   "outputs": [],
   "source": [
    "synergistic_nudge_ev.TEST = False\n",
    "input_distribution = np.copy(input_dist)\n",
    "conditional_output_distribution = np.copy(cond_output)\n",
    "nudge_size = 0.01\n",
    "evolutionary_parameters = {\n",
    "    \"number_of_generations\": 100,\n",
    "    \"population_size\": 10,\n",
    "    \"number_of_children\": 20, \n",
    "    \"generational\": True,\n",
    "    \"mutation_size\": nudge_size/4,\n",
    "    \"parent_selection_mode\": \"rank_exponential\",\n",
    "    \"start_mutation_size\": nudge_size/25,\n",
    "    \"change_mutation_size\": nudge_size/(25*10),\n",
    "    \"mutations_per_update_step\": 10\n",
    "}\n",
    "\n",
    "max_synergistic_nudge = synergistic_nudge_ev.find_synergistic_nudge_with_max_impact(\n",
    "    input_distribution, conditional_output_distribution, nudge_size, \n",
    "    evolutionary_parameters\n",
    ")\n"
   ]
  },
  {
   "cell_type": "code",
   "execution_count": null,
   "metadata": {
    "collapsed": true
   },
   "outputs": [],
   "source": [
    "NUDGE_SIZE = 0.01\n",
    "new_distribution = max_synergistic_nudge.new_distribution\n",
    "l1_norm_to_old_distribution = np.sum(np.absolute(input_dist-max_synergistic_nudge.new_distribution))\n",
    "print(l1_norm_to_old_distribution)\n",
    "actual_new_distribution = input_dist + (new_distribution-input_dist)*(NUDGE_SIZE/l1_norm_to_old_distribution)"
   ]
  },
  {
   "cell_type": "code",
   "execution_count": null,
   "metadata": {
    "collapsed": true
   },
   "outputs": [],
   "source": [
    "\n",
    "for i in range(len(new_distribution.shape)):\n",
    "    new_marginal = probability_distributions.ProbabilityArray(actual_new_distribution).marginalize(set([i]))\n",
    "    old_marginal = probability_distributions.ProbabilityArray(input_dist).marginalize(set([i]))\n",
    "    print(np.sum(np.absolute(new_marginal-old_marginal)))"
   ]
  },
  {
   "cell_type": "code",
   "execution_count": null,
   "metadata": {
    "collapsed": true
   },
   "outputs": [],
   "source": [
    "import nudge_non_causal\n",
    "print(\"according to the score {}\".format(max_synergistic_nudge.score))\n",
    "nudge_non_causal.find_nudge_impact(input_dist, actual_new_distribution, cond_output, measure=\"absolute\")"
   ]
  },
  {
   "cell_type": "code",
   "execution_count": null,
   "metadata": {
    "collapsed": true
   },
   "outputs": [],
   "source": []
  }
 ],
 "metadata": {
  "kernelspec": {
   "display_name": "Python 2",
   "language": "python",
   "name": "python2"
  },
  "language_info": {
   "codemirror_mode": {
    "name": "ipython",
    "version": 2
   },
   "file_extension": ".py",
   "mimetype": "text/x-python",
   "name": "python",
   "nbconvert_exporter": "python",
   "pygments_lexer": "ipython2",
   "version": "2.7.12"
  }
 },
 "nbformat": 4,
 "nbformat_minor": 2
}
