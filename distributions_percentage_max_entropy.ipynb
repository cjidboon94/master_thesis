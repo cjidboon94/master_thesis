{
 "cells": [
  {
   "cell_type": "markdown",
   "metadata": {},
   "source": [
    "### Introduction\n",
    "\n",
    "Play around with the settings to sample distributions with an entropy size that is set as a percentage of \n",
    "the maximum entropy."
   ]
  },
  {
   "cell_type": "code",
   "execution_count": null,
   "metadata": {
    "collapsed": true
   },
   "outputs": [],
   "source": [
    "import numpy as np\n",
    "from scipy import stats\n",
    "import limited_entropy_distributions as limited_entropy"
   ]
  },
  {
   "cell_type": "code",
   "execution_count": null,
   "metadata": {},
   "outputs": [],
   "source": [
    "evolutionary_parameters = {    \n",
    "    \"number_of_generations\": 700,\n",
    "    \"population_size\": 20,\n",
    "    \"number_of_children\": 80,\n",
    "    \"generational\": False,\n",
    "    \"number_of_mutations\": 400,\n",
    "    \"mutation_size\": 0.00009,\n",
    "    \"parent_selection_mode\": \"rank_exponential\",\n",
    "}\n",
    "#    number_of_states = 1000\n",
    "#    entropy_size = 8.0\n",
    "#    dist = limited_entropy.get_dist_with_entropy(\n",
    "#        number_of_states, entropy_size, evolutionary_parameters,\n",
    "#        verbose=True    \n",
    "#    )\n",
    "\n",
    "dist_shape = [3]*9\n",
    "percentage_max_entropy = 0.90\n",
    "dist = limited_entropy.get_dist_percentage_max_entropy(\n",
    "    dist_shape, percentage_max_entropy, evolutionary_parameters, \n",
    "    verbose=True\n",
    ")\n",
    "\n",
    "number_of_states = reduce(lambda x,y: x*y, dist_shape)\n",
    "goal_entropy = np.log2(number_of_states)*percentage_max_entropy\n",
    "print(\"the goal entropy is: {}\".format(goal_entropy))\n",
    "print(\"the found entropy {}\".format(stats.entropy(dist.flatten(), base=2)))\n",
    "print(\"the distribution\")\n",
    "print(dist.flatten())\n"
   ]
  },
  {
   "cell_type": "code",
   "execution_count": null,
   "metadata": {},
   "outputs": [],
   "source": [
    "print(dist.flatten()[:1000])"
   ]
  },
  {
   "cell_type": "code",
   "execution_count": null,
   "metadata": {
    "collapsed": true
   },
   "outputs": [],
   "source": []
  }
 ],
 "metadata": {
  "kernelspec": {
   "display_name": "Python 2",
   "language": "python",
   "name": "python2"
  },
  "language_info": {
   "codemirror_mode": {
    "name": "ipython",
    "version": 2
   },
   "file_extension": ".py",
   "mimetype": "text/x-python",
   "name": "python",
   "nbconvert_exporter": "python",
   "pygments_lexer": "ipython2",
   "version": "2.7.12"
  }
 },
 "nbformat": 4,
 "nbformat_minor": 2
}
