{
 "cells": [
  {
   "cell_type": "code",
   "execution_count": 359,
   "metadata": {},
   "outputs": [],
   "source": [
    "import dit\n",
    "import numpy as np\n",
    "import scipy.stats as st\n",
    "import string\n",
    "import itertools\n",
    "\n",
    "import distribution_sampler as sampler"
   ]
  },
  {
   "cell_type": "code",
   "execution_count": 388,
   "metadata": {},
   "outputs": [],
   "source": [
    "def get_vars(n_vars: int):\n",
    "    if n_vars < 1:\n",
    "        raise ValueError(\"n_vars should be greater equal to or greater than 1\")\n",
    "    elif n_vars <= 52:\n",
    "        return string.ascii_letters[:n_vars]\n",
    "    elif n_vars <= 100:\n",
    "        return string.printable[:n_vars]\n",
    "    else:\n",
    "        raise ValueError(\"n_vars cannot be greater than 100\")\n",
    "\n",
    "def get_labels(n_vars: int, n_states: int):\n",
    "    if n_states < 1 or n_states > 10:\n",
    "        raise ValueError(\"states should be greater than 0 and  less than or equal to 10\")\n",
    "    return [''.join(i) for i in itertools.product(string.digits[:n_states], repeat=n_vars)]\n",
    "\n",
    "\n",
    "def generate_distribution(n_vars: int, n_states: int, entropy_level: float):\n",
    "    var_names = get_vars(n_vars)\n",
    "    state_labels = get_labels(n_vars, n_states)\n",
    "    pmf = sampler.sample(n_states**n_vars, level=entropy_level) # get a pmf from the distribution sampler\n",
    "\n",
    "    d = dit.Distribution(state_labels, pmf=pmf, sparse=False)\n",
    "    d.set_rv_names(var_names)\n",
    "    return d\n",
    "    \n",
    "    \n",
    "    "
   ]
  },
  {
   "cell_type": "code",
   "execution_count": null,
   "metadata": {},
   "outputs": [],
   "source": [
    "def "
   ]
  },
  {
   "cell_type": "code",
   "execution_count": null,
   "metadata": {},
   "outputs": [],
   "source": []
  },
  {
   "cell_type": "code",
   "execution_count": null,
   "metadata": {},
   "outputs": [],
   "source": []
  },
  {
   "cell_type": "code",
   "execution_count": null,
   "metadata": {},
   "outputs": [],
   "source": []
  },
  {
   "cell_type": "code",
   "execution_count": null,
   "metadata": {},
   "outputs": [],
   "source": []
  }
 ],
 "metadata": {
  "kernelspec": {
   "display_name": "Python 3",
   "language": "python",
   "name": "python3"
  },
  "language_info": {
   "codemirror_mode": {
    "name": "ipython",
    "version": 3
   },
   "file_extension": ".py",
   "mimetype": "text/x-python",
   "name": "python",
   "nbconvert_exporter": "python",
   "pygments_lexer": "ipython3",
   "version": "3.6.7"
  }
 },
 "nbformat": 4,
 "nbformat_minor": 2
}
