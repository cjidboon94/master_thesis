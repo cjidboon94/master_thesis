{
 "cells": [
  {
   "cell_type": "markdown",
   "metadata": {},
   "source": [
    "This is a notebook showing how to use different datasets"
   ]
  },
  {
   "cell_type": "code",
   "execution_count": null,
   "metadata": {},
   "outputs": [],
   "source": [
    "%pylab inline\n",
    "import gzip, pickle\n",
    "import numpy as np\n",
    "\n",
    "%matplotlib inline\n",
    "plt.rcParams['figure.figsize'] = (10.0, 8.0)\n",
    "plt.rcParams['image.interpolation'] = 'nearest'\n",
    "plt.rcParams['image.cmap'] = 'gray'\n",
    "plt.rcParams['xtick.labelsize'] = 15\n",
    "plt.rcParams['ytick.labelsize'] = 15\n",
    "plt.rcParams['axes.labelsize'] = 20\n"
   ]
  },
  {
   "cell_type": "markdown",
   "metadata": {},
   "source": [
    "## MNIST dataset"
   ]
  },
  {
   "cell_type": "code",
   "execution_count": null,
   "metadata": {},
   "outputs": [],
   "source": [
    "\n",
    "def load_mnist():\n",
    "    f = gzip.open('data/mnist.pkl.gz', 'rb')\n",
    "    u = pickle._Unpickler(f)\n",
    "    u.encoding = 'latin1'\n",
    "    data = u.load()\n",
    "    f.close()\n",
    "    return data\n",
    "\n",
    "(x_train, t_train), (x_valid, t_valid), (x_test, t_test) = load_mnist()"
   ]
  },
  {
   "cell_type": "markdown",
   "metadata": {},
   "source": [
    "The tuples represent train, validation and test sets. The first element (`x_train`, `x_valid`, `x_test`) of each tuple is a $N \\times M$ matrix, where $N$ is the number of datapoints and $M = 28^2 = 784$ is the dimensionality of the data. The second element (`t_train`, `t_valid`, `t_test`) of each tuple is the corresponding $N$-dimensional vector of integers, containing the true class labels.\n",
    "\n",
    "Here's a visualisation of the first 8 digits of the trainingset:"
   ]
  },
  {
   "cell_type": "code",
   "execution_count": null,
   "metadata": {},
   "outputs": [],
   "source": [
    "def plot_digits(data, numcols, shape=(28,28)):\n",
    "    numdigits = data.shape[0]\n",
    "    numrows = int(numdigits/numcols)\n",
    "    print(numdigits)\n",
    "    print(numrows)\n",
    "    for i in range(numdigits):\n",
    "        plt.subplot(numrows, numcols, i+1)\n",
    "        plt.axis('off')\n",
    "        plt.imshow(data[i].reshape(shape), interpolation='nearest', cmap='Greys')\n",
    "    plt.show()\n",
    "        \n",
    "plot_digits(x_train[0:8], numcols=4)"
   ]
  },
  {
   "cell_type": "markdown",
   "metadata": {},
   "source": [
    "## CIFAR 10 dataset"
   ]
  },
  {
   "cell_type": "code",
   "execution_count": null,
   "metadata": {
    "collapsed": true
   },
   "outputs": [],
   "source": [
    "from data.cifar10_utils import get_cifar10_raw_data, preprocess_cifar10_data\n",
    "from data.cifar10_utils import transform_label_encoding_to_one_hot\n"
   ]
  },
  {
   "cell_type": "code",
   "execution_count": null,
   "metadata": {},
   "outputs": [],
   "source": [
    "X_train_raw, Y_train_raw, X_test_raw, Y_test_raw = get_cifar10_raw_data(\n",
    "    '/home/derkjan/Documents/academics_UVA/master_thesis/code/data/cifar10/cifar-10-batches-py'\n",
    ")\n",
    "\n",
    "#Checking shapes, should be (50000, 32, 32, 3), (50000, ), (10000, 32, 32, 3), (10000, )\n",
    "print('Train data shape: {}'.format(X_train_raw.shape))\n",
    "print('Train labels shape: {}'.format(Y_train_raw.shape))\n",
    "print('Test data shape: {}'.format(X_test_raw.shape))\n",
    "print('Test labels shape: {}'.format(Y_test_raw.shape))\n",
    "#Y_train_raw, Y_test_raw have values ranging from 0 to 9"
   ]
  },
  {
   "cell_type": "code",
   "execution_count": null,
   "metadata": {},
   "outputs": [],
   "source": [
    "# Visualize CIFAR10 data\n",
    "samples_per_class = 10\n",
    "classes = ['plane', 'car', 'bird', 'cat', 'deer', 'dog', 'frog', 'horse', 'ship', 'truck']\n",
    "\n",
    "num_classes = len(classes)\n",
    "can = np.zeros((320, 320, 3),dtype='uint8')\n",
    "for i, cls in enumerate(classes):\n",
    "    idxs = np.flatnonzero(Y_train_raw == i) \n",
    "    idxs = np.random.choice(idxs, samples_per_class, replace = False)\n",
    "    for j in range(samples_per_class):\n",
    "        can[32 * i:32 * (i + 1), 32 * j:32 * (j + 1),:] = X_train_raw[idxs[j]]\n",
    "plt.xticks([], [])\n",
    "plt.yticks(range(16, 320, 32), classes)\n",
    "plt.title('CIFAR10', fontsize = 20)\n",
    "plt.imshow(can)\n",
    "plt.show()"
   ]
  },
  {
   "cell_type": "code",
   "execution_count": null,
   "metadata": {},
   "outputs": [],
   "source": [
    "X_train, Y_train, X_val, Y_val, X_test, Y_test = preprocess_cifar10_data(\n",
    "    X_train_raw, Y_train_raw, X_test_raw, Y_test_raw, num_val = 1000\n",
    ")\n",
    "\n",
    "#Checking shapes, should be (49000, 3072), (49000, ), (1000, 3072), (1000, ), (10000, 3072), (10000, ) \n",
    "print('Train data shape: {}'.format(X_train.shape))\n",
    "print('Train labels shape: {}'.format(Y_train.shape))\n",
    "print('Val data shape: {}'.format(X_val.shape))\n",
    "print('Val labels shape: {}'.format(Y_val.shape))\n",
    "print('Test data shape: {}'.format(X_test.shape))\n",
    "print('Test labels shape: {}'.format(Y_test.shape))\n",
    "\n",
    "num_classes = 10\n",
    "Y_train_one_hot = transform_label_encoding_to_one_hot(Y_train, num_classes)\n",
    "Y_val_one_hot = transform_label_encoding_to_one_hot(Y_val, num_classes)\n",
    "Y_test_one_hot = transform_label_encoding_to_one_hot(Y_test, num_classes)\n",
    "\n",
    "print('Train labels one hot shape: {}'.format(Y_train_one_hot.shape))\n",
    "print('Val labels one hot shape: {}'.format(Y_val_one_hot.shape))\n",
    "print('Test labels one hot shape: {}'.format(Y_test_one_hot.shape))"
   ]
  },
  {
   "cell_type": "markdown",
   "metadata": {},
   "source": [
    "## Geometrical shapes"
   ]
  },
  {
   "cell_type": "code",
   "execution_count": null,
   "metadata": {},
   "outputs": [],
   "source": [
    "import generate_data as generator\n",
    "import matplotlib.pyplot as plt"
   ]
  },
  {
   "cell_type": "code",
   "execution_count": null,
   "metadata": {},
   "outputs": [],
   "source": [
    "grid_len, grid_width = 8, 8\n",
    "sample_size = 1\n",
    "\n",
    "params = {\n",
    "    \"size_square_li\" : [4, 5, 6],\n",
    "    \"radius_circle_li\" : [2.5, 3, 3.5, 4],\n",
    "    \"length_rectangle_li\" : [3.5, 4, 5],\n",
    "    \"width_rectangle_li\" : [1.5, 2, 3],\n",
    "    \"rotation_li_rectangle\" : [0, 45, 90, 135],\n",
    "    \"rotation_li_square\" : [0, 45],\n",
    "    \"distance_border\" : 2.5\n",
    "}\n",
    "\n",
    "square_example1 = generator.Square(grid_len, grid_width, (4,4), 2, 0)\n",
    "square_example2 = generator.Square(grid_len, grid_width, (4,4), 3, 0)\n",
    "\n",
    "gen = generator.GenerateData(grid_len, grid_width, add_noise=False, params=params)\n",
    "\n",
    "\n",
    "\n",
    "X_samples, y_samples = gen.generate_batch_samples(batch_size=sample_size)\n",
    "\n",
    "for count, sample in enumerate(X_samples):\n",
    "    picture = np.reshape(sample, (grid_len, grid_width))\n",
    "    plt.imshow(picture, cmap='bone', interpolation='none')\n",
    "    cat = 0\n",
    "    for i, entry in enumerate(y_samples[count]):\n",
    "        if entry ==1 :\n",
    "            cat = i\n",
    "\n",
    "    plt.title(\"the category is {}\".format(gen.category_li[cat]))\n",
    "    plt.show()"
   ]
  },
  {
   "cell_type": "code",
   "execution_count": null,
   "metadata": {
    "scrolled": true
   },
   "outputs": [],
   "source": [
    "picture_arr, picture_li = gen.generate_all_data(2, shape='rectangle')\n",
    "\n",
    "print(len(picture_li))\n",
    "print(picture_arr.shape)\n",
    "\n",
    "for i in range(picture_arr.shape[0]):\n",
    "    plt.imshow(np.resize(picture_arr[i], (grid_width, grid_len)))\n",
    "    plt.show()\n",
    "    \n",
    "\n",
    "#for picture in picture_li:\n",
    "#    plt.imshow(picture)\n",
    "#    plt.show()\n",
    "\n"
   ]
  },
  {
   "cell_type": "code",
   "execution_count": null,
   "metadata": {
    "collapsed": true
   },
   "outputs": [],
   "source": []
  }
 ],
 "metadata": {
  "kernelspec": {
   "display_name": "Python 2",
   "language": "python",
   "name": "python2"
  },
  "language_info": {
   "codemirror_mode": {
    "name": "ipython",
    "version": 2
   },
   "file_extension": ".py",
   "mimetype": "text/x-python",
   "name": "python",
   "nbconvert_exporter": "python",
   "pygments_lexer": "ipython2",
   "version": "2.7.12"
  }
 },
 "nbformat": 4,
 "nbformat_minor": 1
}
