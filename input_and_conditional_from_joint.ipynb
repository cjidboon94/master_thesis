{
 "cells": [
  {
   "cell_type": "markdown",
   "metadata": {},
   "source": [
    "### Introduction\n",
    "\n",
    "Just some scratch notebook, to write up some scripts to get the input and conditional from \n",
    "a joint probability distributions. Always use the first N-1 axis for the input variables and \n",
    "the Nth axis for the output."
   ]
  },
  {
   "cell_type": "code",
   "execution_count": null,
   "metadata": {
    "collapsed": true
   },
   "outputs": [],
   "source": [
    "import numpy as np\n",
    "from scipy import stats\n",
    "import probability_distributions\n",
    "import limited_entropy_distributions as limited_entropy\n"
   ]
  },
  {
   "cell_type": "code",
   "execution_count": null,
   "metadata": {},
   "outputs": [],
   "source": [
    "joint = np.array([\n",
    "    [\n",
    "        [0.26, 0.0, 0.07],\n",
    "        [0.0, 0.0, 0.0]\n",
    "    ],\n",
    "    [\n",
    "        [0.02, 0.05, 0.07],\n",
    "        [0.04, 0.1, 0.04]\n",
    "    ],\n",
    "    [\n",
    "        [0.1, 0.05, 0.05],\n",
    "        [0.04, 0.04, 0.07]\n",
    "    ]\n",
    "])\n",
    "joint_dist = probability_distributions.ProbabilityArray(joint)\n",
    "marginal = joint_dist.marginalize(set([0, 1]))\n",
    "print(marginal)\n"
   ]
  },
  {
   "cell_type": "code",
   "execution_count": null,
   "metadata": {},
   "outputs": [],
   "source": [
    "entropies = [stats.entropy(joint[tuple(state)], base=2) for state in np.argwhere(marginal != 0)]\n",
    "average_entropy = np.mean(entropies)"
   ]
  },
  {
   "cell_type": "code",
   "execution_count": null,
   "metadata": {},
   "outputs": [],
   "source": [
    "evolutionary_parameters = {    \n",
    "    \"number_of_generations\": 700,\n",
    "    \"population_size\": 20,\n",
    "    \"number_of_children\": 80,\n",
    "    \"generational\": False,\n",
    "    \"number_of_mutations\": 3,\n",
    "    \"mutation_size\": 0.0005,\n",
    "    \"parent_selection_mode\": \"rank_exponential\",\n",
    "    \"early_stopping_criterium\": 0.01\n",
    "}\n",
    "number_of_states = 3\n",
    "entropy_size = average_entropy\n",
    "dist = limited_entropy.get_dist_with_entropy(\n",
    "   number_of_states, entropy_size, evolutionary_parameters,\n",
    "   verbose=True    \n",
    ")\n",
    "print(dist)\n",
    "def produce_conditional_states():\n",
    "    while True:\n",
    "        yield limited_entropy.get_dist_with_entropy(\n",
    "            number_of_states, entropy_size, evolutionary_parameters,\n",
    "            verbose=True    \n",
    "        )\n",
    "generator = produce_conditional_states()\n"
   ]
  },
  {
   "cell_type": "code",
   "execution_count": null,
   "metadata": {},
   "outputs": [],
   "source": [
    "\n",
    "conditional , _, _ = joint_dist.find_conditional_accounting_for_zero_marginals(set([2]), set([0, 1]), generator)"
   ]
  },
  {
   "cell_type": "code",
   "execution_count": null,
   "metadata": {},
   "outputs": [],
   "source": [
    "print(conditional)"
   ]
  },
  {
   "cell_type": "code",
   "execution_count": null,
   "metadata": {
    "collapsed": true
   },
   "outputs": [],
   "source": []
  },
  {
   "cell_type": "code",
   "execution_count": null,
   "metadata": {
    "collapsed": true
   },
   "outputs": [],
   "source": []
  }
 ],
 "metadata": {
  "kernelspec": {
   "display_name": "Python 2",
   "language": "python",
   "name": "python2"
  },
  "language_info": {
   "codemirror_mode": {
    "name": "ipython",
    "version": 2
   },
   "file_extension": ".py",
   "mimetype": "text/x-python",
   "name": "python",
   "nbconvert_exporter": "python",
   "pygments_lexer": "ipython2",
   "version": "2.7.12"
  }
 },
 "nbformat": 4,
 "nbformat_minor": 2
}
