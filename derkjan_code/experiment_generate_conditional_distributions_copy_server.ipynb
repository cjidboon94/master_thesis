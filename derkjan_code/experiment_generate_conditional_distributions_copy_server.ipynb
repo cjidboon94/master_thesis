{
 "cells": [
  {
   "cell_type": "code",
   "execution_count": null,
   "metadata": {},
   "outputs": [],
   "source": [
    "%load_ext autoreload\n",
    "%autoreload 2"
   ]
  },
  {
   "cell_type": "code",
   "execution_count": null,
   "metadata": {},
   "outputs": [],
   "source": [
    "import os\n",
    "import json\n",
    "import numpy as np\n",
    "import function_generation\n",
    "import probability_distributions"
   ]
  },
  {
   "cell_type": "markdown",
   "metadata": {},
   "source": [
    "### Define functions for loading conditional output data"
   ]
  },
  {
   "cell_type": "code",
   "execution_count": null,
   "metadata": {},
   "outputs": [],
   "source": [
    "PATH = \"/home/joboti/azumi_derkjan/master_thesis/code/\"\n",
    "INPUT_FOLDER = \"input_distributions/\"\n",
    "COND_OUTPUT_FOLDER = \"conditional_output_distributions/\"\n",
    "FOLDER_FORMAT_INPUT = \"{}var_{}states/\"\n",
    "FOLDER_FORMAT_CONDITIONAL = \"{}var_{}states/\"\n",
    "FILE_FORMAT_INPUT = \"dist_{}.npy\"\n",
    "FILE_FORMAT_COND_OUTPUT = \"cond_dist_{}.npy\"\n",
    "\n",
    "DIRICHLET_FOLDER_INPUT = \"dirichlet/\"\n",
    "ENTROPY_LOW_FOLDER_INPUT = \"entropy_0.5/\"\n",
    "ENTROPY_MEDIUM_FOLDER_INPUT = \"entropy_0.75/\"\n",
    "\n",
    "DIRICHLET_FOLDER_COND_OUTPUT = \"dirichlet/\"\n",
    "\n",
    "\n",
    "def generate_distributions(path_to_files, file_format, number_of_distributions):\n",
    "    for i in range(number_of_distributions):\n",
    "        file_name = path_to_files + file_format.format(i)\n",
    "        with open(file_name, 'rb') as f:\n",
    "            yield np.load(f)\n",
    "\n",
    "def generate_distributions_smart(path_to_files, file_format, distribution_numbers):\n",
    "    for number in distribution_numbers:\n",
    "        file_name = path_to_files + file_format.format(number)\n",
    "        #print(file_name)\n",
    "        with open(file_name, 'rb') as f:\n",
    "            yield np.load(f)\n",
    "            \n",
    "def get_input_dist_entropy_75(number_of_dists, number_of_var, distribution_numbers):\n",
    "    number_of_states = 5\n",
    "    path_to_input_files = (\n",
    "        PATH + INPUT_FOLDER + ENTROPY_MEDIUM_FOLDER_INPUT\n",
    "        + FOLDER_FORMAT_INPUT.format(number_of_var, number_of_states)\n",
    "    )\n",
    "    input_generator = generate_distributions_smart(\n",
    "        path_to_input_files, FILE_FORMAT_INPUT, \n",
    "        distribution_numbers\n",
    "    )\n",
    "    input_shape = [number_of_states]*number_of_var\n",
    "    input_dists = []\n",
    "    for sample in range(number_of_dists):\n",
    "        input_dist = next(input_generator)\n",
    "        input_dists.append(np.reshape(input_dist, input_shape))\n",
    "        \n",
    "    return input_dists\n"
   ]
  },
  {
   "cell_type": "markdown",
   "metadata": {},
   "source": [
    "### Set up folder structure"
   ]
  },
  {
   "cell_type": "code",
   "execution_count": null,
   "metadata": {},
   "outputs": [],
   "source": [
    "NUMBER_OF_STATES = 5\n",
    "TOTAL_NUMBER_OF_VAR = 6\n",
    "\n",
    "PATH = \"/home/joboti/azumi_derkjan/master_thesis/code/\"\n",
    "COND_OUTPUT_FOLDER = \"conditional_output_distributions/\"\n",
    "SPECIFIC_FOLDER_COND_OUTPUT = \"distance_optimization/\"\n",
    "FOLDER_FORMAT_CONDITIONAL = \"{}var_{}states\"\n",
    "full_path_cond_output = PATH + COND_OUTPUT_FOLDER + SPECIFIC_FOLDER_COND_OUTPUT\n",
    "\n",
    "if not os.path.exists(COND_OUTPUT_FOLDER):\n",
    "    os.makedirs(COND_OUTPUT_FOLDER)\n",
    "    \n",
    "if not os.path.exists(COND_OUTPUT_FOLDER+SPECIFIC_FOLDER_COND_OUTPUT):\n",
    "    os.makedirs(COND_OUTPUT_FOLDER+SPECIFIC_FOLDER_COND_OUTPUT)\n",
    "\n",
    "for number_of_variables in range(1, TOTAL_NUMBER_OF_VAR+1, 1):\n",
    "    directory = (COND_OUTPUT_FOLDER + SPECIFIC_FOLDER_COND_OUTPUT\n",
    "                 + FOLDER_FORMAT_CONDITIONAL.format(number_of_variables, NUMBER_OF_STATES))\n",
    "                 \n",
    "    if not os.path.exists(directory):\n",
    "        os.makedirs(directory)\n"
   ]
  },
  {
   "cell_type": "markdown",
   "metadata": {},
   "source": [
    "### Do it seperately for different amount of input variables"
   ]
  },
  {
   "cell_type": "code",
   "execution_count": null,
   "metadata": {},
   "outputs": [],
   "source": [
    "NUMBER_OF_SAMPLES = 2"
   ]
  },
  {
   "cell_type": "code",
   "execution_count": null,
   "metadata": {},
   "outputs": [],
   "source": [
    "function_generation.TEST = False\n",
    "\n",
    "evolutionary_parameters = {\n",
    "    \"number_of_generations\": 25,\n",
    "    \"population_size\": 10,\n",
    "    \"number_of_children\": 20, \n",
    "    \"generational\": True,\n",
    "    \"mutation_size\": 2.5,\n",
    "    \"change_mutation_size\": 0.5,\n",
    "    \"parent_selection_mode\": \"rank_exponential\",\n",
    "    \"number_of_input_distributions\": 200\n",
    "}\n",
    "\n",
    "number_of_vars = 3\n",
    "number_of_input_dists = 200\n",
    "\n",
    "input_shape = number_of_vars * [NUMBER_OF_STATES]\n",
    "number_of_states_output = NUMBER_OF_STATES\n",
    "goal_distance = 0.3\n",
    "\n",
    "sample_to_input_dist_numbers = {}\n",
    "sample_to_distance_score = {}\n",
    "\n",
    "folder_name = FOLDER_FORMAT_CONDITIONAL.format(number_of_vars, NUMBER_OF_STATES)\n",
    "full_path = full_path_cond_output + folder_name + '/'\n",
    "for sample_number in range(NUMBER_OF_SAMPLES):\n",
    "    print(sample_number)\n",
    "    dist_numbers = np.random.choice(1000, number_of_input_dists, False)\n",
    "    #save input dists used\n",
    "    sample_to_input_dist_numbers[sample_number] = list(dist_numbers)\n",
    "    with open(full_path + \"input_dists_numbers.json\", 'w',indent=4) as f:\n",
    "        json.dump(sample_to_input_dist_numbers, f)\n",
    "    \n",
    "    input_dists = get_input_dist_entropy_75(\n",
    "        number_of_input_dists, number_of_vars, dist_numbers\n",
    "    )\n",
    "\n",
    "    max_cond_output = function_generation.get_cond_output_with_max_distance(\n",
    "        input_shape, number_of_states_output, goal_distance, \n",
    "        evolutionary_parameters, input_dists\n",
    "    )\n",
    "    cond_output = max_cond_output.cond_output\n",
    "\n",
    "    #save distance score\n",
    "    sample_to_distance_score[sample_number] = max_cond_output.score \n",
    "    with open(full_path + \"distance_scores.json\", 'w', indent=4) as f:\n",
    "        json.dump(sample_to_distance_score, f)\n",
    "    \n",
    "    #save conditional output distribution\n",
    "    file_name = \"cond_dist_{}.npy\".format(sample_number)\n",
    "    with open(full_path+file_name, 'wb') as f:\n",
    "        np.save(f, cond_output)\n",
    "\n"
   ]
  },
  {
   "cell_type": "code",
   "execution_count": null,
   "metadata": {},
   "outputs": [],
   "source": []
  }
 ],
 "metadata": {
  "kernelspec": {
   "display_name": "Python 2",
   "language": "python",
   "name": "python2"
  },
  "language_info": {
   "codemirror_mode": {
    "name": "ipython",
    "version": 2
   },
   "file_extension": ".py",
   "mimetype": "text/x-python",
   "name": "python",
   "nbconvert_exporter": "python",
   "pygments_lexer": "ipython2",
   "version": "2.7.12"
  }
 },
 "nbformat": 4,
 "nbformat_minor": 2
}
