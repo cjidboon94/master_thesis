{
 "cells": [
  {
   "cell_type": "markdown",
   "metadata": {},
   "source": [
    "First import all the relevant scripts"
   ]
  },
  {
   "cell_type": "code",
   "execution_count": null,
   "metadata": {
    "collapsed": false
   },
   "outputs": [],
   "source": [
    "#general\n",
    "import matplotlib.pyplot as plt\n",
    "import numpy as np\n",
    "import pandas as pd\n",
    "\n",
    "#for the data\n",
    "import generate_data as generator\n",
    "\n",
    "#for the network\n",
    "from feedforward_ANN.cifar10_utils import get_cifar10_raw_data, preprocess_cifar10_data\n",
    "from feedforward_ANN.cifar10_utils import transform_label_encoding_to_one_hot\n",
    "from feedforward_ANN.layer import LinearLayer, ReLuLayer, TanHLayer\n",
    "from feedforward_ANN.network import Network\n",
    "from feedforward_ANN.train import SGD\n",
    "from feedforward_ANN.loss import SoftmaxCrossEntropyLoss\n",
    "from feedforward_ANN.score import get_accuracy as get_accuracy\n"
   ]
  },
  {
   "cell_type": "code",
   "execution_count": null,
   "metadata": {
    "collapsed": false
   },
   "outputs": [],
   "source": [
    "#data parameters\n",
    "grid_len, grid_width = 15, 15\n",
    "train_size = 50000\n",
    "validation_size = 1000\n",
    "test_size = 1000\n",
    "\n",
    "gen = generator.GenerateData(grid_len, grid_width, add_noise=False, params=None)\n",
    "X_train, y_train = gen.generate_batch_samples(batch_size=train_size)\n",
    "X_val, y_val = gen.generate_batch_samples(batch_size=validation_size)\n",
    "X_test, y_test = gen.generate_batch_samples(batch_size=test_size)\n",
    "\n",
    "num_classes = y_train[0].shape[0]\n",
    "N = X_train[0].shape[0]\n",
    "\n",
    "print(N)\n",
    "print(num_classes)"
   ]
  },
  {
   "cell_type": "code",
   "execution_count": null,
   "metadata": {
    "collapsed": false
   },
   "outputs": [],
   "source": [
    "# Default parameters. \n",
    "num_iterations = 200\n",
    "val_iteration = 50\n",
    "batch_size = 150\n",
    "learning_rate = 0.03\n",
    "weight_decay = 0\n",
    "weight_scale = 0.025\n",
    "num_hidden_units = [75, 20]\n",
    "\n",
    "params_lin_layer = {\n",
    "    \"w_std\": weight_scale\n",
    "}\n",
    "\n",
    "network = Network(batch_size, weight_decay, train_mode=True)\n",
    "network.add_layer('linear', dim_out=num_hidden_units[0], \n",
    "                  input_dim=N, params=params_lin_layer)\n",
    "network.add_layer('relu')\n",
    "network.add_layer('linear', num_hidden_units[1], \n",
    "                  params=params_lin_layer)\n",
    "network.add_layer('relu')\n",
    "network.add_layer('linear', num_classes, params=params_lin_layer)\n",
    "network.add_loss(SoftmaxCrossEntropyLoss())\n"
   ]
  },
  {
   "cell_type": "code",
   "execution_count": null,
   "metadata": {
    "collapsed": false
   },
   "outputs": [],
   "source": [
    "sgd = SGD(network, X_train, y_train, batch_size)\n",
    "\n",
    "accuracy = get_accuracy(network, X_val, np.argmax(y_val, 1))\n",
    "print(accuracy)\n",
    "for i in range(10):\n",
    "    sgd.train(num_iterations, learning_rate, False)\n",
    "    train_accuracy = get_accuracy(network, X_train, np.argmax(y_train, 1))\n",
    "    print(\"the training accuracy is {}\".format(train_accuracy))\n",
    "    val_accuracy = get_accuracy(network, X_val, np.argmax(y_val, 1))\n",
    "    print(\"the validation accuracy is {}\".format(val_accuracy))\n",
    "    \n",
    "accuracy = get_accuracy(network, X_val, np.argmax(y_val, 1))\n",
    "print(\"the final accuracy on the validation set is {}\".format(accuracy))"
   ]
  },
  {
   "cell_type": "code",
   "execution_count": null,
   "metadata": {
    "collapsed": true
   },
   "outputs": [],
   "source": [
    "\n",
    "def get_random_network():\n",
    "    network = Network(batch_size, weight_decay, train_mode=True)\n",
    "    network.add_layer('linear', output_dim=num_hidden_units[0],\n",
    "                      input_dim=N, params=params_lin_layer)\n",
    "    network.add_layer('relu')\n",
    "    network.add_layer('linear', num_hidden_units[1], \n",
    "                      params=params_lin_layer)\n",
    "    network.add_layer('relu')\n",
    "    network.add_layer('linear', num_classes, params=params_lin_layer)\n",
    "    network.add_loss(SoftmaxCrossEntropyLoss())\n",
    "    \n",
    "    return network\n",
    "\n",
    "def get_trained_network():\n",
    "    network = get_random_network()\n",
    "    sgd = SGD(network, X_train, y_train, batch_size)\n",
    "    for i in range(10):\n",
    "        sgd.train(num_iterations, learning_rate, False)\n",
    "        val_accuracy = get_accuracy(network, X_val, np.argmax(y_val, 1))\n",
    "        print(\"the validation accuracy is {}\".format(val_accuracy))\n",
    "        if val_accuracy > 0.75:\n",
    "            break\n",
    "            \n",
    "    return network\n"
   ]
  },
  {
   "cell_type": "markdown",
   "metadata": {},
   "source": [
    "First, import functions to calculuate information theory measures. "
   ]
  },
  {
   "cell_type": "code",
   "execution_count": null,
   "metadata": {
    "collapsed": false
   },
   "outputs": [],
   "source": [
    "from code.information_theory.info_theory import calculate_mutual_information\n",
    "from code.information_theory.info_theory import points_to_dist"
   ]
  },
  {
   "cell_type": "code",
   "execution_count": null,
   "metadata": {
    "collapsed": false
   },
   "outputs": [],
   "source": [
    "def one_hot_to_number(vec):\n",
    "    return np.argmax(vec, axis=1)\n",
    "\n",
    "def create_distributions(X, out, batch_size, max_amount_variables):\n",
    "    \"\"\"compute the average mutual information between input and ouput\n",
    "    \n",
    "    note: the amount of input pixels used is variable  \n",
    "    \"\"\"\n",
    "    \n",
    "    num_pictures = X.shape[0]\n",
    "    unique_out, counts_out = np.unique(out, return_counts=True)\n",
    "    out_dist = counts_out/np.sum(counts_out)\n",
    "    mutual_info_dict = {}\n",
    "    \n",
    "    for i in range(1, max_amount_variables):\n",
    "        pixel_arr = np.zeros((num_pictures, i))\n",
    "        pixel_plus_outcome_arr = np.zeros((num_pictures, i+1))\n",
    "        pixel_plus_outcome_arr[:, -1:] = np.transpose(np.array([out]))\n",
    "        mutual_info_li = []\n",
    "        for batch_number in range(batch_size):\n",
    "            position_points = np.random.randint(grid_len*grid_width, size=i)  \n",
    "            pixel_arr = X[:, position_points]\n",
    "            pixel_plus_outcome_arr[:, :-1] = pixel_arr\n",
    "            \n",
    "            pixel_dist = points_to_dist(pixel_arr)\n",
    "            mutual_dist = points_to_dist(pixel_plus_outcome_arr)\n",
    "            \n",
    "            mutual_info = calculate_mutual_information(pixel_dist, out_dist, mutual_dist)\n",
    "            mutual_info_li.append(mutual_info)\n",
    "            \n",
    "        mutual_info_dict[i] = mutual_info_li\n",
    "        \n",
    "    return mutual_info_dict\n",
    "\n",
    "def get_output_network(network, X, shape_output, number_of_batches):\n",
    "    out_one_hot = np.zeros((shape_output))\n",
    "    batch_size = network.batch_size\n",
    "    for i in range(number_of_batches):\n",
    "        out_one_hot[i*batch_size:(i+1)*batch_size] = (\n",
    "            network.forward(X[i*batch_size:(i+1)*batch_size]) \n",
    "        )\n",
    "    return one_hot_to_number(out_one_hot)\n",
    "    \n",
    "def get_mutual_info_network(get_network, number_of_batches=50, max_amount_variables=10):\n",
    "    gen = generator.GenerateData(grid_len, grid_width, add_noise=False, params=None)\n",
    "    X, y = gen.generate_batch_samples(batch_size=number_of_batches*batch_size)\n",
    "    \n",
    "    batch_size_sampling_distributions = 100\n",
    "    plot_data = []\n",
    "    for i in range(10):\n",
    "        out = get_output_network(get_network(), X, y.shape, number_of_batches)\n",
    "        mutual_info_dict = create_distributions(X, out, batch_size_sampling_distributions, max_amount_variables)\n",
    "        plot_data.append([np.mean(v) for k, v in mutual_info_dict.items()])\n",
    "        #for k, v in mutual_info_dict.items():\n",
    "        #    print(\"number of variables {}, mean mutual info {}\".format(k, np.mean(v)))\n",
    "\n",
    "    return plot_data\n",
    "\n"
   ]
  },
  {
   "cell_type": "code",
   "execution_count": null,
   "metadata": {
    "collapsed": true
   },
   "outputs": [],
   "source": []
  },
  {
   "cell_type": "code",
   "execution_count": null,
   "metadata": {
    "collapsed": false
   },
   "outputs": [],
   "source": [
    "\n",
    "print(\"get a random network\")\n",
    "plot_data_random_network = get_mutual_info_network(get_random_network)\n",
    "\n",
    "print(\"get a trained network\")\n",
    "plot_data_trained_network = get_mutual_info_network(get_trained_network)\n",
    "\n",
    "plot_data_actual_values = []\n",
    "for i in range(10):\n",
    "    out = one_hot_to_number(out_one_hot)\n",
    "    mutual_info_dict = create_distributions(X, out, batch_size=30, max_amount_variables=10)\n",
    "    plot_data_actual_values.append([np.mean(v) for k, v in mutual_info_dict.items()])\n",
    "\n",
    "\n"
   ]
  },
  {
   "cell_type": "code",
   "execution_count": null,
   "metadata": {
    "collapsed": false
   },
   "outputs": [],
   "source": [
    "plt.legend(loc=2,prop={'size':6})\n",
    "%matplotlib inline\n",
    "plt.rcParams['figure.figsize'] = (10.0, 8.0)\n",
    "plt.rcParams['image.interpolation'] = 'nearest'\n",
    "plt.rcParams['image.cmap'] = 'gray'\n",
    "plt.rcParams['xtick.labelsize'] = 15\n",
    "plt.rcParams['ytick.labelsize'] = 15\n",
    "plt.rcParams['axes.labelsize'] = 20\n",
    "\n",
    "plot_data = np.arange(0, 9, 1)\n",
    "plot_trained_network_mean = np.mean(np.array(plot_data_trained_network), axis=0)\n",
    "plot_trained_network_std = np.std(np.array(plot_data_trained_network), axis=0)\n",
    "lower_bound_trained_network = plot_trained_network_mean-plot_trained_network_std \n",
    "upper_bound_trained_network = plot_trained_network_mean+plot_trained_network_std\n",
    "\n",
    "plot_random_network_mean = np.mean(np.array(plot_data_random_network), axis=0)\n",
    "plot_random_network_std = np.std(np.array(plot_data_random_network), axis=0)\n",
    "lower_bound_random_network = plot_random_network_mean-plot_random_network_std\n",
    "upper_bound_random_network = plot_random_network_mean+plot_random_network_std \n",
    "\n",
    "plot_actual_values_mean = np.mean(np.array(plot_data_actual_values), axis=0)\n",
    "plot_actual_values_std = np.std(np.array(plot_data_actual_values), axis=0)\n",
    "\n",
    "plt.plot(plot_trained_network_mean, label=\"mean trained network\")\n",
    "plt.fill_between(plot_data, lower_bound_trained_network, \n",
    "                 upper_bound_trained_network, alpha=0.3)\n",
    "\n",
    "plt.plot(plot_random_network_mean, label=\"mean random network\")\n",
    "plt.fill_between(plot_data, lower_bound_random_network, \n",
    "                 upper_bound_random_network, alpha=0.3)\n",
    "\n",
    "plt.plot(plot_actual_values_mean, label=\"mean actual outputs\")\n",
    "#plt.fill_between(plot_data, \n",
    "#                 plot_actual_values_mean-plot_actual_values_std,\n",
    "#                 plot_random_network_mean+plot_actual_values_std,\n",
    "#                 alpha=0.3)\n",
    "\n",
    "plt.title(\"Mutual information between randomly selected pixels and network output\")\n",
    "plt.xlabel(\"number of variables\")\n",
    "plt.ylabel(\"mean mutual information between pixels and output network\")\n",
    "plt.legend()\n",
    "plt.show()"
   ]
  },
  {
   "cell_type": "code",
   "execution_count": null,
   "metadata": {
    "collapsed": false
   },
   "outputs": [],
   "source": [
    "import pandas as pd\n",
    "\n",
    "a = pd.DataFrame(np.array([[1,2,1],[1,2,2],[1,2,1], [1,1,1], [1,2,2], [2,1,2]]))\n",
    "print(\"a equals\")\n",
    "print(list(a.columns))\n",
    "\n",
    "b = a.groupby([0,1,2])\n",
    "c = pd.DataFrame(b.size()).values.flatten()\n",
    "print(\"c equals\")\n",
    "print(c)\n",
    "\n",
    "d = c/c.sum()\n",
    "print(d)\n",
    "print(d.values)"
   ]
  },
  {
   "cell_type": "code",
   "execution_count": null,
   "metadata": {
    "collapsed": true
   },
   "outputs": [],
   "source": []
  }
 ],
 "metadata": {
  "kernelspec": {
   "display_name": "Python 3",
   "language": "python",
   "name": "python3"
  },
  "language_info": {
   "codemirror_mode": {
    "name": "ipython",
    "version": 3
   },
   "file_extension": ".py",
   "mimetype": "text/x-python",
   "name": "python",
   "nbconvert_exporter": "python",
   "pygments_lexer": "ipython3",
   "version": "3.5.2"
  }
 },
 "nbformat": 4,
 "nbformat_minor": 1
}
