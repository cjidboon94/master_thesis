{
 "cells": [
  {
   "cell_type": "markdown",
   "metadata": {},
   "source": [
    "First import all the relevant scripts"
   ]
  },
  {
   "cell_type": "code",
   "execution_count": 2,
   "metadata": {
    "collapsed": false
   },
   "outputs": [],
   "source": [
    "#general\n",
    "import matplotlib.pyplot as plt\n",
    "import numpy as np\n",
    "import pandas as pd\n",
    "\n",
    "#for the data\n",
    "import generate_data as generator\n",
    "\n",
    "#for the network\n",
    "from feedforward_ANN.cifar10_utils import get_cifar10_raw_data, preprocess_cifar10_data\n",
    "from feedforward_ANN.cifar10_utils import transform_label_encoding_to_one_hot\n",
    "from feedforward_ANN.layer import LinearLayer, ReLuLayer, TanHLayer\n",
    "from feedforward_ANN.network import Network\n",
    "from feedforward_ANN.train import SGD\n",
    "from feedforward_ANN.loss import SoftmaxCrossEntropyLoss\n",
    "from feedforward_ANN.score import get_accuracy as get_accuracy\n"
   ]
  },
  {
   "cell_type": "code",
   "execution_count": 4,
   "metadata": {
    "collapsed": false
   },
   "outputs": [
    {
     "name": "stdout",
     "output_type": "stream",
     "text": [
      "3\n"
     ]
    }
   ],
   "source": [
    "#data parameters\n",
    "grid_len, grid_width = 16, 16\n",
    "train_size = 10000\n",
    "validation_size = 5000\n",
    "test_size = 1000\n",
    "\n",
    "params = {\n",
    "    \"size_square_li\" : [4, 4.5, 5, 5.5, 6],\n",
    "    \"radius_circle_li\" : [2.5, 3, 3.5, 4],\n",
    "    \"length_rectangle_li\" : [5.5, 6, 6.5, 7, 7.5],\n",
    "    \"width_rectangle_li\" : [2.5, 3, 3.5, 4, 4.5],\n",
    "    \"rotation_li_rectangle\" : [0, 45, 90, 135],\n",
    "    \"rotation_li_square\" : [0, 45],\n",
    "    \"distance_border\" : 2.5\n",
    "}\n",
    "\n",
    "gen = generator.GenerateData(grid_len, grid_width, add_noise=False, params=params)\n",
    "    \n",
    "gen = generator.GenerateData(grid_len, grid_width, params=params)\n",
    "\n",
    "X_train, y_train = gen.generate_batch_samples(batch_size=train_size)\n",
    "X_val, y_val = gen.generate_batch_samples(batch_size=validation_size)\n",
    "X_test, y_test = gen.generate_batch_samples(batch_size=test_size)\n",
    "\n",
    "num_classes = y_train[0].shape[0]\n",
    "#N = X_train[0].shape[0]\n",
    "number_of_input_pixels = X_train[0].shape[0] \n",
    "\n",
    "print(num_classes)"
   ]
  },
  {
   "cell_type": "code",
   "execution_count": 5,
   "metadata": {
    "collapsed": false
   },
   "outputs": [
    {
     "name": "stdout",
     "output_type": "stream",
     "text": [
      "[{'learning_rate': 0.05, 'bias_value': 0.001, 'weight_factor': 0.001}, {'learning_rate': 0.03, 'bias_value': 0.001, 'weight_factor': 0.001}, {'learning_rate': 0.02, 'bias_value': 0.001, 'weight_factor': 0.001}]\n"
     ]
    }
   ],
   "source": [
    "# Default parameters. \n",
    "num_iterations = 100\n",
    "val_iteration = 50\n",
    "batch_size = 150\n",
    "weight_decay = 0\n",
    "num_hidden_units = [75, 20]\n",
    "learning_rate_li = [0.005, 0.003, 0.0015]\n",
    "\n",
    "#\"weight_factor\": .2/np.sqrt(number_of_input_pixels), \n",
    "params_lin_layer_li = [\n",
    "    {\n",
    "        \"weight_factor\": 0.001, \n",
    "        \"bias_value\": 0.001,\n",
    "        \"learning_rate\": 0.05\n",
    "    },\n",
    "    {\n",
    "        \"weight_factor\": 0.001,\n",
    "        \"bias_value\":0.001,\n",
    "        \"learning_rate\": 0.03\n",
    "    },\n",
    "    {\n",
    "        \"weight_factor\": 0.001,\n",
    "        \"bias_value\": 0.001,\n",
    "        \"learning_rate\": 0.02\n",
    "    }\n",
    "]\n",
    "\n",
    "print(params_lin_layer_li)\n",
    "\n",
    "network = Network(batch_size, weight_decay, train_mode=True)\n",
    "network.add_layer(\n",
    "    'linear', dim_out=num_hidden_units[0], \n",
    "    input_dim=number_of_input_pixels, params=params_lin_layer_li[0]\n",
    ")\n",
    "network.add_layer('relu')\n",
    "network.add_layer('linear', dim_out=num_hidden_units[1], \n",
    "                  params=params_lin_layer_li[1])\n",
    "network.add_layer('relu')\n",
    "network.add_layer('linear', dim_out=num_classes, \n",
    "                  params=params_lin_layer_li[2])\n",
    "network.add_loss(SoftmaxCrossEntropyLoss())\n"
   ]
  },
  {
   "cell_type": "code",
   "execution_count": 6,
   "metadata": {
    "collapsed": false
   },
   "outputs": [
    {
     "name": "stdout",
     "output_type": "stream",
     "text": [
      "starting validation accuracy 0.3288\n"
     ]
    },
    {
     "data": {
      "image/png": "[encoded data removed]",
      "text/plain": [
       "<matplotlib.figure.Figure at 0x7f69df4324a8>"
      ]
     },
     "metadata": {},
     "output_type": "display_data"
    },
    {
     "name": "stdout",
     "output_type": "stream",
     "text": [
      "the final accuracy on the validation set is 0.3288\n"
     ]
    }
   ],
   "source": [
    "sgd = SGD(network, X_train, y_train, batch_size)\n",
    "\n",
    "decay_rate = 1\n",
    "print(\"starting validation accuracy {}\".format(\n",
    "    get_accuracy(network, X_val, np.argmax(y_val, 1))\n",
    "))\n",
    "validation_accuracy_li = []\n",
    "train_accuracy_li = []\n",
    "for i in range(50):\n",
    "    if i%10==0 and i != 0:\n",
    "        decay_rate = 1\n",
    "    else:\n",
    "        decay_rate = 1\n",
    "    sgd.train(num_iterations, decay_rate, False)\n",
    "    train_accuracy = get_accuracy(network, X_train, np.argmax(y_train, 1))\n",
    "    #print(\"the training accuracy is {}\".format(train_accuracy))\n",
    "    train_accuracy_li.append(train_accuracy)\n",
    "    val_accuracy = get_accuracy(network, X_val, np.argmax(y_val, 1))\n",
    "    #print(\"the validation accuracy is {}\".format(val_accuracy))\n",
    "    validation_accuracy_li.append(val_accuracy)\n",
    "\n",
    "plt.plot(train_accuracy_li)\n",
    "plt.plot(validation_accuracy_li)\n",
    "plt.show()\n",
    "\n",
    "accuracy = get_accuracy(network, X_val, np.argmax(y_val, 1))\n",
    "print(\"the final accuracy on the validation set is {}\".format(accuracy))"
   ]
  },
  {
   "cell_type": "code",
   "execution_count": null,
   "metadata": {
    "collapsed": true
   },
   "outputs": [],
   "source": [
    "\n",
    "def get_random_network():\n",
    "    network = Network(batch_size, weight_decay, train_mode=True)\n",
    "    network.add_layer('linear', output_dim=num_hidden_units[0],\n",
    "                      input_dim=number_of_input_pixels,\n",
    "                      params=params_lin_layer)\n",
    "    network.add_layer('relu')\n",
    "    network.add_layer('linear', num_hidden_units[1], \n",
    "                      params=params_lin_layer)\n",
    "    network.add_layer('relu')\n",
    "    network.add_layer('linear', num_classes, params=params_lin_layer)\n",
    "    network.add_loss(SoftmaxCrossEntropyLoss())\n",
    "    \n",
    "    return network\n",
    "\n",
    "def get_trained_network():\n",
    "    network = get_random_network()\n",
    "    sgd = SGD(network, X_train, y_train, batch_size)\n",
    "    for i in range(10):\n",
    "        sgd.train(num_iterations, learning_rate, False)\n",
    "        val_accuracy = get_accuracy(network, X_val, np.argmax(y_val, 1))\n",
    "        print(\"the validation accuracy is {}\".format(val_accuracy))\n",
    "        if val_accuracy > 0.45:\n",
    "            break\n",
    "            \n",
    "    return network\n"
   ]
  },
  {
   "cell_type": "markdown",
   "metadata": {},
   "source": [
    "First, import functions to calculuate information theory measures. "
   ]
  },
  {
   "cell_type": "code",
   "execution_count": null,
   "metadata": {
    "collapsed": false
   },
   "outputs": [],
   "source": [
    "from information_theory.info_theory import calculate_mutual_information\n",
    "from information_theory.info_theory import points_to_dist"
   ]
  },
  {
   "cell_type": "code",
   "execution_count": null,
   "metadata": {
    "collapsed": false
   },
   "outputs": [],
   "source": [
    "def one_hot_to_number(vec):\n",
    "    return np.argmax(vec, axis=1)\n",
    "\n",
    "def create_distributions(X, out, batch_size, max_amount_variables):\n",
    "    \"\"\"compute the average mutual information between input and ouput\n",
    "    \n",
    "    note: the amount of input pixels used is variable  \n",
    "    \"\"\"\n",
    "    \n",
    "    num_pictures = X.shape[0]\n",
    "    unique_out, counts_out = np.unique(out, return_counts=True)\n",
    "    out_dist = counts_out/np.sum(counts_out)\n",
    "    mutual_info_dict = {}\n",
    "    \n",
    "    for i in range(1, max_amount_variables):\n",
    "        pixel_arr = np.zeros((num_pictures, i))\n",
    "        pixel_plus_outcome_arr = np.zeros((num_pictures, i+1))\n",
    "        pixel_plus_outcome_arr[:, -1:] = np.transpose(np.array([out]))\n",
    "        mutual_info_li = []\n",
    "        for batch_number in range(batch_size):\n",
    "            position_points = np.random.randint(grid_len*grid_width, size=i)  \n",
    "            pixel_arr = X[:, position_points]\n",
    "            pixel_plus_outcome_arr[:, :-1] = pixel_arr\n",
    "            \n",
    "            pixel_dist = points_to_dist(pixel_arr)\n",
    "            mutual_dist = points_to_dist(pixel_plus_outcome_arr)\n",
    "            \n",
    "            mutual_info = calculate_mutual_information(pixel_dist, out_dist, mutual_dist)\n",
    "            mutual_info_li.append(mutual_info)\n",
    "            \n",
    "        mutual_info_dict[i] = mutual_info_li\n",
    "        \n",
    "    return mutual_info_dict\n",
    "\n",
    "def get_output_network(network, X, shape_output, number_of_batches):\n",
    "    out_one_hot = np.zeros((shape_output))\n",
    "    batch_size = network.batch_size\n",
    "    for i in range(number_of_batches):\n",
    "        out_one_hot[i*batch_size:(i+1)*batch_size] = (\n",
    "            network.forward(X[i*batch_size:(i+1)*batch_size]) \n",
    "        )\n",
    "    return one_hot_to_number(out_one_hot)\n",
    "    \n",
    "def get_mutual_info_network(get_network, number_of_batches=50, max_amount_variables=10):\n",
    "    gen = generator.GenerateData(grid_len, grid_width, add_noise=False, params=None)\n",
    "    X, y = gen.generate_batch_samples(batch_size=number_of_batches*batch_size)\n",
    "    \n",
    "    batch_size_sampling_distributions = 100\n",
    "    plot_data = []\n",
    "    for i in range(10):\n",
    "        out = get_output_network(get_network(), X, y.shape, number_of_batches)\n",
    "        mutual_info_dict = create_distributions(X, out, batch_size_sampling_distributions, max_amount_variables)\n",
    "        plot_data.append([np.mean(v) for k, v in mutual_info_dict.items()])\n",
    "        #for k, v in mutual_info_dict.items():\n",
    "        #    print(\"number of variables {}, mean mutual info {}\".format(k, np.mean(v)))\n",
    "\n",
    "    return plot_data\n",
    "\n"
   ]
  },
  {
   "cell_type": "code",
   "execution_count": null,
   "metadata": {
    "collapsed": true
   },
   "outputs": [],
   "source": []
  },
  {
   "cell_type": "code",
   "execution_count": null,
   "metadata": {
    "collapsed": false
   },
   "outputs": [],
   "source": [
    "\n",
    "print(\"get a random network\")\n",
    "plot_data_random_network = get_mutual_info_network(get_random_network)\n",
    "\n",
    "print(\"get a trained network\")\n",
    "plot_data_trained_network = get_mutual_info_network(get_trained_network)\n",
    "\n",
    "plot_data_actual_values = []\n",
    "for i in range(10):\n",
    "    out = one_hot_to_number(out_one_hot)\n",
    "    mutual_info_dict = create_distributions(X, out, batch_size=30, max_amount_variables=10)\n",
    "    plot_data_actual_values.append([np.mean(v) for k, v in mutual_info_dict.items()])\n",
    "\n",
    "\n"
   ]
  },
  {
   "cell_type": "code",
   "execution_count": null,
   "metadata": {
    "collapsed": true
   },
   "outputs": [],
   "source": [
    "#smarter way to calculate mutual information\n",
    "\n",
    "prob_y_hat = {\n",
    "    1: None,\n",
    "    2: None,\n",
    "    3: None\n",
    "}\n",
    "\n",
    "prob_y_given_y_hat = {\n",
    "    (1,1) : None,\n",
    "    (1,2) : None,\n",
    "    (1,3) : None,\n",
    "    (2,1) : None,\n",
    "    (2,2) : None,\n",
    "    (2,3) : None,\n",
    "    (3,1) : None,\n",
    "    (3,2) : None,\n",
    "    (3,3) : None,\n",
    "}\n",
    "\n",
    "def get_prob(network, pos_pixels, value_pixels, y, y_hat):\n",
    "    #from all pictures select those where y, y_hat match\n",
    "    sel_pictures = [picture for picture in pictures[y] \n",
    "                    if network.calculate_forward(picture) == y_hat]\n",
    "\n",
    "    #from those pictures calculate what percentage has \n",
    "    #the values of the pixels at the right positions\n",
    "    if sel_pictures == []:\n",
    "        return 0\n",
    "    else:\n",
    "        return sum(\n",
    "            [1 for picture in sel_pictures if picture[pos_pixels] == value_pixels]\n",
    "        )/len(sel_pictures)\n",
    "\n",
    "def calculate_probability(network, pos_pixels, value_pixels):\n",
    "    #calculate P(x|y_hat) for every value of y_hat \n",
    "    #x represents the value of certain pixels and y_hat the output of the ANN\n",
    "    \n",
    "    prob_li = []\n",
    "    for y_hat in range(num_classes):\n",
    "        #calculate p(y|y_hat) and p(y_hat) upfront \n",
    "        #prob = sum_y (p(x|y, y_hat) * p(y|y_hat) * p(y_hat))\n",
    "        prob = 0\n",
    "        for y in range(num_classes):\n",
    "            prob = prob + (\n",
    "                get_prob(network, pos_pixels, value_pixels, y, y_hat) *\n",
    "                prob_y_given_y_hat[(y, y_hat)] *\n",
    "                prob_y_hat[y_hat]\n",
    "            )\n",
    "        prob_li.append(prob)\n",
    "        \n",
    "    return prob_li\n",
    "    \n",
    "def calculate_mutual_info_input_output(network, size_input_network, max_number_input_pixels, \n",
    "                                       sample_size_positions, sample_size_values):\n",
    "    for pixels in range(max_number_input_pixels):\n",
    "        for sample_pos in range(sample_size_positions):\n",
    "            #select position of pixels at random\n",
    "            position_pixels = np.random.randint(size_input_network, pixels)\n",
    "            for i in range(sample_size_values):\n",
    "                #choose values of position at random from all possible values\n",
    "                rand_picture = all_pictures[np.random.randint(all_pictures.shape[0])]\n",
    "                value_pixels = rand_picture[position_pixels]\n",
    "                #calculate P(x, y_hat),\n",
    "                #where x represents the values at certain positions (chosen above) \n",
    "                #and y_hat is the outcome of the network\n",
    "                prob = calculate_probability(network, pos_pixels, value_pixels)\n",
    "                \n",
    "            #using the calculated distributions calculate the mutual information\n",
    "        \n",
    "    "
   ]
  },
  {
   "cell_type": "code",
   "execution_count": null,
   "metadata": {
    "collapsed": false
   },
   "outputs": [],
   "source": [
    "plt.legend(loc=2,prop={'size':6})\n",
    "%matplotlib inline\n",
    "plt.rcParams['figure.figsize'] = (10.0, 8.0)\n",
    "plt.rcParams['image.interpolation'] = 'nearest'\n",
    "plt.rcParams['image.cmap'] = 'gray'\n",
    "plt.rcParams['xtick.labelsize'] = 15\n",
    "plt.rcParams['ytick.labelsize'] = 15\n",
    "plt.rcParams['axes.labelsize'] = 20\n",
    "\n",
    "plot_data = np.arange(0, 9, 1)\n",
    "plot_trained_network_mean = np.mean(np.array(plot_data_trained_network), axis=0)\n",
    "plot_trained_network_std = np.std(np.array(plot_data_trained_network), axis=0)\n",
    "lower_bound_trained_network = plot_trained_network_mean-plot_trained_network_std \n",
    "upper_bound_trained_network = plot_trained_network_mean+plot_trained_network_std\n",
    "\n",
    "plot_random_network_mean = np.mean(np.array(plot_data_random_network), axis=0)\n",
    "plot_random_network_std = np.std(np.array(plot_data_random_network), axis=0)\n",
    "lower_bound_random_network = plot_random_network_mean-plot_random_network_std\n",
    "upper_bound_random_network = plot_random_network_mean+plot_random_network_std \n",
    "\n",
    "plot_actual_values_mean = np.mean(np.array(plot_data_actual_values), axis=0)\n",
    "plot_actual_values_std = np.std(np.array(plot_data_actual_values), axis=0)\n",
    "\n",
    "plt.plot(plot_trained_network_mean, label=\"mean trained network\")\n",
    "plt.fill_between(plot_data, lower_bound_trained_network, \n",
    "                 upper_bound_trained_network, alpha=0.3)\n",
    "\n",
    "plt.plot(plot_random_network_mean, label=\"mean random network\")\n",
    "plt.fill_between(plot_data, lower_bound_random_network, \n",
    "                 upper_bound_random_network, alpha=0.3)\n",
    "\n",
    "plt.plot(plot_actual_values_mean, label=\"mean actual outputs\")\n",
    "#plt.fill_between(plot_data, \n",
    "#                 plot_actual_values_mean-plot_actual_values_std,\n",
    "#                 plot_random_network_mean+plot_actual_values_std,\n",
    "#                 alpha=0.3)\n",
    "\n",
    "plt.title(\"Mutual information between randomly selected pixels and network output\")\n",
    "plt.xlabel(\"number of variables\")\n",
    "plt.ylabel(\"mean mutual information between pixels and output network\")\n",
    "plt.legend()\n",
    "plt.show()"
   ]
  },
  {
   "cell_type": "code",
   "execution_count": null,
   "metadata": {
    "collapsed": false
   },
   "outputs": [],
   "source": [
    "import pandas as pd\n",
    "\n",
    "a = pd.DataFrame(np.array([[1,2,1],[1,2,2],[1,2,1], [1,1,1], [1,2,2], [2,1,2]]))\n",
    "print(\"a equals\")\n",
    "print(list(a.columns))\n",
    "\n",
    "b = a.groupby([0,1,2])\n",
    "c = pd.DataFrame(b.size()).values.flatten()\n",
    "print(\"c equals\")\n",
    "print(c)\n",
    "\n",
    "d = c/c.sum()\n",
    "print(d)\n",
    "print(d.values)"
   ]
  },
  {
   "cell_type": "code",
   "execution_count": null,
   "metadata": {
    "collapsed": true
   },
   "outputs": [],
   "source": []
  }
 ],
 "metadata": {
  "kernelspec": {
   "display_name": "Python 3",
   "language": "python",
   "name": "python3"
  },
  "language_info": {
   "codemirror_mode": {
    "name": "ipython",
    "version": 3
   },
   "file_extension": ".py",
   "mimetype": "text/x-python",
   "name": "python",
   "nbconvert_exporter": "python",
   "pygments_lexer": "ipython3",
   "version": "3.5.2"
  }
 },
 "nbformat": 4,
 "nbformat_minor": 1
}
