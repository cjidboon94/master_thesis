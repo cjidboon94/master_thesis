{
 "cells": [
  {
   "cell_type": "markdown",
   "metadata": {},
   "source": [
    "First import all the relevant scripts"
   ]
  },
  {
   "cell_type": "code",
   "execution_count": 28,
   "metadata": {
    "collapsed": false
   },
   "outputs": [],
   "source": [
    "#general\n",
    "import matplotlib.pyplot as plt\n",
    "import numpy as np\n",
    "import pandas as pd\n",
    "import time \n",
    "\n",
    "#for the data\n",
    "import generate_data as generator\n",
    "from data.cifar10_utils import transform_label_encoding_to_one_hot\n",
    "\n",
    "#for the network\n",
    "from feedforward_ANN.cifar10_utils import get_cifar10_raw_data, preprocess_cifar10_data\n",
    "from feedforward_ANN.cifar10_utils import transform_label_encoding_to_one_hot\n",
    "from feedforward_ANN.layer import LinearLayer, ReLuLayer, TanHLayer\n",
    "from feedforward_ANN.network import Network\n",
    "from feedforward_ANN.train import SGD\n",
    "from feedforward_ANN.loss import SoftmaxCrossEntropyLoss\n",
    "from feedforward_ANN.score import get_accuracy as get_accuracy\n"
   ]
  },
  {
   "cell_type": "code",
   "execution_count": 2,
   "metadata": {
    "collapsed": false
   },
   "outputs": [
    {
     "name": "stdout",
     "output_type": "stream",
     "text": [
      "(3467, 256)\n",
      "the square has shape 844\n",
      "the rectangle has shape 1947\n",
      "the circle has shape 676\n",
      "total number of pixels 256.000000\n",
      "number of classes 3\n"
     ]
    }
   ],
   "source": [
    "#data parameters\n",
    "grid_len, grid_width = 16, 16\n",
    "train_size = 10000\n",
    "validation_size = 5000\n",
    "test_size = 1000\n",
    "\n",
    "params = {\n",
    "    \"size_square_li\" : [4, 5, 6],\n",
    "    \"radius_circle_li\" : [2.5, 3, 3.5, 4],\n",
    "    \"length_rectangle_li\" : [6, 7, 8],\n",
    "    \"width_rectangle_li\" : [2.5, 3.5],\n",
    "    \"rotation_li_rectangle\" : [0, 45, 90, 135],\n",
    "    \"rotation_li_square\" : [0, 45],\n",
    "    \"distance_border\" : int(2)\n",
    "}\n",
    "    \n",
    "gen = generator.GenerateData(grid_len, grid_width, params=params)\n",
    "\n",
    "all_pictures = gen.generate_all_data(params[\"distance_border\"])\n",
    "pictures = {\n",
    "    \"circle\": gen.generate_all_data(params[\"distance_border\"], shape=\"circle\"),\n",
    "    \"square\": gen.generate_all_data(params[\"distance_border\"], shape=\"square\"),\n",
    "    \"rectangle\": gen.generate_all_data(params[\"distance_border\"], shape=\"rectangle\")\n",
    "}\n",
    "\n",
    "if sum([pictures[cat].shape[0] for cat in gen.category_li]) != all_pictures.shape[0]:\n",
    "    print(\"There is overlap between the classes look at your parameters!!!\")\n",
    "\n",
    "print(all_pictures.shape)\n",
    "for category in gen.category_li:\n",
    "    print(\"the {} has shape {}\".format(category, pictures[category].shape[0]))\n",
    "\n",
    "min_length_category = min(\n",
    "    [pictures[cat].shape[0] for cat in gen.category_li]\n",
    ")\n",
    "\n",
    "for category in gen.category_li:\n",
    "    np.random.shuffle(pictures[category])\n",
    "\n",
    "all_pictures_plus_labels = np.zeros((min_length_category*3, pictures[\"circle\"].shape[1]+1))\n",
    "all_pictures_plus_labels[:min_length_category, -1:] = 0\n",
    "all_pictures_plus_labels[min_length_category:2*min_length_category, -1:] = 1\n",
    "all_pictures_plus_labels[2*min_length_category:, -1:] = 2\n",
    "\n",
    "all_pictures_plus_labels[:min_length_category, :-1] = (\n",
    "    pictures[\"circle\"][:min_length_category, :]\n",
    ")\n",
    "all_pictures_plus_labels[min_length_category:2*min_length_category, :-1] = (\n",
    "    pictures[\"square\"][:min_length_category, :]\n",
    ")\n",
    "all_pictures_plus_labels[2*min_length_category:, :-1] = (\n",
    "    pictures[\"rectangle\"][:min_length_category, :]\n",
    ")\n",
    "\n",
    "np.random.shuffle(all_pictures_plus_labels)\n",
    "\n",
    "num_classes = 3\n",
    "size_training_set = int(0.8 * all_pictures_plus_labels.shape[0])\n",
    "X_train, y_train_label = (\n",
    "    all_pictures_plus_labels[:size_training_set, :-1],\n",
    "    all_pictures_plus_labels[:size_training_set, -1:]\n",
    ")\n",
    "y_train = transform_label_encoding_to_one_hot(y_train_label, num_classes)\n",
    "#print(y_train_label[:10])\n",
    "#print(y_train[:10])\n",
    "\n",
    "X_val, y_val_label = (\n",
    "    all_pictures_plus_labels[size_training_set:, :-1],\n",
    "    all_pictures_plus_labels[size_training_set:, -1:]\n",
    ")\n",
    "y_val = transform_label_encoding_to_one_hot(y_val_label, num_classes)\n",
    "\n",
    "#X_train, y_train = gen.generate_batch_samples(batch_size=train_size)\n",
    "#X_val, y_val = gen.generate_batch_samples(batch_size=validation_size)\n",
    "#X_test, y_test = gen.generate_batch_samples(batch_size=test_size)\n",
    "\n",
    "num_classes = y_train.shape[1]\n",
    "number_of_input_pixels = X_train.shape[1] \n",
    "\n",
    "print(\"total number of pixels {:f}\".format(number_of_input_pixels))\n",
    "print(\"number of classes {}\".format(num_classes))"
   ]
  },
  {
   "cell_type": "markdown",
   "metadata": {},
   "source": [
    "### Set the meta parameters for the deep learning feedforward network"
   ]
  },
  {
   "cell_type": "code",
   "execution_count": 3,
   "metadata": {
    "collapsed": false
   },
   "outputs": [
    {
     "name": "stdout",
     "output_type": "stream",
     "text": [
      "[{'weight_factor': 0.125, 'learning_rate': 0.05, 'bias_value': 0.001}, {'weight_factor': 0.23094010767585027, 'learning_rate': 0.03, 'bias_value': 0.001}, {'weight_factor': 0.44721359549995793, 'learning_rate': 0.02, 'bias_value': 0.001}]\n"
     ]
    }
   ],
   "source": [
    "num_iterations = 75\n",
    "val_iteration = 50\n",
    "batch_size = 100\n",
    "weight_decay = 0.03\n",
    "num_hidden_units = [75, 20]\n",
    "bias_value = 0.001\n",
    "decay_rate = 0.999\n",
    "\n",
    "params_lin_layer_li = [\n",
    "    {\n",
    "        \"weight_factor\": 2/np.sqrt(number_of_input_pixels), \n",
    "        \"bias_value\": bias_value,\n",
    "        \"learning_rate\": 0.05\n",
    "    },\n",
    "    {\n",
    "        \"weight_factor\": 2/np.sqrt(num_hidden_units[0]),\n",
    "        \"bias_value\": bias_value,\n",
    "        \"learning_rate\": 0.03\n",
    "    },\n",
    "    {\n",
    "        \"weight_factor\": 2/np.sqrt(num_hidden_units[1]),\n",
    "        \"bias_value\": bias_value,\n",
    "        \"learning_rate\": 0.02\n",
    "    }\n",
    "]\n",
    "\n",
    "print(params_lin_layer_li)"
   ]
  },
  {
   "cell_type": "markdown",
   "metadata": {},
   "source": [
    "#### Create a simple network with 2 hidden ReLu layers"
   ]
  },
  {
   "cell_type": "code",
   "execution_count": 4,
   "metadata": {
    "collapsed": false
   },
   "outputs": [],
   "source": [
    "network = Network(batch_size, weight_decay, train_mode=True)\n",
    "network.add_layer(\n",
    "    'linear', dim_out=num_hidden_units[0], \n",
    "    input_dim=number_of_input_pixels, params=params_lin_layer_li[0]\n",
    ")\n",
    "network.add_layer('relu')\n",
    "network.add_layer('linear', dim_out=num_hidden_units[1], \n",
    "                  params=params_lin_layer_li[1])\n",
    "network.add_layer('relu')\n",
    "network.add_layer('linear', dim_out=num_classes, \n",
    "                  params=params_lin_layer_li[2])\n",
    "network.add_loss(SoftmaxCrossEntropyLoss())\n"
   ]
  },
  {
   "cell_type": "markdown",
   "metadata": {},
   "source": [
    "##### Train it on the data"
   ]
  },
  {
   "cell_type": "code",
   "execution_count": null,
   "metadata": {
    "collapsed": false
   },
   "outputs": [],
   "source": [
    "sgd = SGD(network, X_train, y_train, batch_size)\n",
    "\n",
    "print(\"starting validation accuracy {}\".format(\n",
    "    get_accuracy(network, X_val, np.argmax(y_val, 1))\n",
    "))\n",
    "validation_accuracy_li = []\n",
    "train_accuracy_li = []\n",
    "for i in range(20):\n",
    "    if i%10==0 and i != 0:\n",
    "        decay_rate = decay_rate\n",
    "    else:\n",
    "        decay_rate = decay_rate\n",
    "    sgd.train(num_iterations, decay_rate, False)\n",
    "    train_accuracy = get_accuracy(network, X_train, np.argmax(y_train, 1))\n",
    "    #print(\"the training accuracy is {}\".format(train_accuracy))\n",
    "    train_accuracy_li.append(train_accuracy)\n",
    "    val_accuracy = get_accuracy(network, X_val, np.argmax(y_val, 1))\n",
    "    #print(\"the validation accuracy is {}\".format(val_accuracy))\n",
    "    validation_accuracy_li.append(val_accuracy)\n",
    "\n",
    "plt.plot(train_accuracy_li)\n",
    "plt.plot(validation_accuracy_li)\n",
    "plt.show()\n",
    "\n",
    "accuracy = get_accuracy(network, X_val, np.argmax(y_val, 1))\n",
    "print(\"the final accuracy on the validation set is {}\".format(accuracy))"
   ]
  },
  {
   "cell_type": "markdown",
   "metadata": {},
   "source": [
    "#### Create functions that give a random network (so a network that is not trained) and a trained network"
   ]
  },
  {
   "cell_type": "code",
   "execution_count": 5,
   "metadata": {
    "collapsed": false
   },
   "outputs": [],
   "source": [
    "\n",
    "class GetNetwork():\n",
    "    \"\"\"class to get random and trained network\"\"\"\n",
    "    def __init__(self, network_params, output_dim_hidden_layers_li, \n",
    "                 params_per_layer_li):\n",
    "        \n",
    "        self.params = network_params\n",
    "        self.output_dim_hidden_layers_li = output_dim_hidden_layers_li\n",
    "        self.params_per_layer_li = params_per_layer_li\n",
    "        \n",
    "    def get_random_network(self):\n",
    "        network = Network(\n",
    "            self.params[\"batch_size\"], \n",
    "            self.params[\"weight_decay\"],\n",
    "            train_mode=True\n",
    "        )\n",
    "        \n",
    "        network.add_layer(\n",
    "            'linear', dim_out=self.output_dim_hidden_layers_li[0], \n",
    "            input_dim=self.params[\"input_dim\"], params=self.params_per_layer_li[0]\n",
    "        )\n",
    "        network.add_layer('relu')\n",
    "        network.add_layer('linear', dim_out=self.output_dim_hidden_layers_li[1], \n",
    "                          params=self.params_per_layer_li[1])\n",
    "        network.add_layer('relu')\n",
    "        network.add_layer('linear', dim_out=self.output_dim_hidden_layers_li[2], \n",
    "                          params=self.params_per_layer_li[2])\n",
    "        network.add_layer('relu')\n",
    "        \n",
    "        network.add_loss(SoftmaxCrossEntropyLoss())\n",
    "        return network\n",
    "\n",
    "    def get_trained_network(self, X_train, y_train, num_iterations, num_loops=12):\n",
    "        network = self.get_random_network()\n",
    "        sgd = SGD(network, X_train, y_train, self.params[\"batch_size\"])\n",
    "\n",
    "        print(\"starting validation accuracy {}\".format(\n",
    "            get_accuracy(network, X_val, np.argmax(y_val, 1))\n",
    "        ))\n",
    "        \n",
    "        validation_accuracy_li = []\n",
    "        train_accuracy_li = []\n",
    "        for i in range(num_loops):\n",
    "            sgd.train(num_iterations, decay_rate, False)\n",
    "            train_accuracy = get_accuracy(network, X_train, np.argmax(y_train, 1))\n",
    "            #print(\"the training accuracy is {}\".format(train_accuracy))\n",
    "            train_accuracy_li.append(train_accuracy)\n",
    "            val_accuracy = get_accuracy(network, X_val, np.argmax(y_val, 1))\n",
    "            #print(\"the validation accuracy is {}\".format(val_accuracy))\n",
    "            validation_accuracy_li.append(val_accuracy)\n",
    "\n",
    "        plt.plot(train_accuracy_li)\n",
    "        plt.plot(validation_accuracy_li)\n",
    "        plt.show()\n",
    "\n",
    "        accuracy = get_accuracy(network, X_val, np.argmax(y_val, 1))\n",
    "        print(\"the final accuracy on the validation set is {}\".format(accuracy))\n",
    "        \n",
    "        return network\n"
   ]
  },
  {
   "cell_type": "markdown",
   "metadata": {},
   "source": [
    "Test GetNetwork class"
   ]
  },
  {
   "cell_type": "code",
   "execution_count": 6,
   "metadata": {
    "collapsed": false
   },
   "outputs": [
    {
     "name": "stdout",
     "output_type": "stream",
     "text": [
      "starting validation accuracy 0.32019704433497537\n"
     ]
    },
    {
     "data": {
      "image/png": "[encoded data removed]",
      "text/plain": [
       "<matplotlib.figure.Figure at 0x7f666ee16c50>"
      ]
     },
     "metadata": {},
     "output_type": "display_data"
    },
    {
     "name": "stdout",
     "output_type": "stream",
     "text": [
      "the final accuracy on the validation set is 0.45566502463054187\n"
     ]
    }
   ],
   "source": [
    "network_params = {\n",
    "    \"batch_size\": batch_size,\n",
    "    \"weight_decay\": weight_decay,\n",
    "    \"input_dim\": number_of_input_pixels,\n",
    "    \"output_dim\": num_classes\n",
    "}\n",
    "\n",
    "output_dim_hidden_layer_li = [75, 20, num_classes]\n",
    "\n",
    "get_network = GetNetwork(\n",
    "    network_params,\n",
    "    output_dim_hidden_layer_li,\n",
    "    params_lin_layer_li\n",
    ")\n",
    "\n",
    "trained_network = get_network.get_trained_network(X_train, y_train, num_iterations)"
   ]
  },
  {
   "cell_type": "markdown",
   "metadata": {},
   "source": [
    "#### First, import functions to calculuate information theory measures. "
   ]
  },
  {
   "cell_type": "code",
   "execution_count": 7,
   "metadata": {
    "collapsed": false
   },
   "outputs": [],
   "source": [
    "from information_theory.info_theory import calculate_mutual_information\n",
    "from information_theory.info_theory import points_to_dist"
   ]
  },
  {
   "cell_type": "markdown",
   "metadata": {},
   "source": [
    " to calculate mutual information\n"
   ]
  },
  {
   "cell_type": "code",
   "execution_count": 47,
   "metadata": {
    "collapsed": false
   },
   "outputs": [],
   "source": [
    "\n",
    "def create_freq_table(df, output_network):    \n",
    "    \"\"\"create a dataframe with the number of outcomes given\n",
    "       the outcome of the network\n",
    "    \n",
    "    params: \n",
    "        df: Dataframe where every row is a possible outcome. \n",
    "            There may be duplicates. \n",
    "        output_network: numpy array with the corresponding \n",
    "            ouput for the network given the (whole picture\n",
    "            from which the outcome in the row was selected)\n",
    "            by sampling some pixels) as input. The first value\n",
    "            in the np array corresponds to the first row etc.\n",
    "    \"\"\"\n",
    "\n",
    "    \n",
    "    square = output_network==0\n",
    "    circle = output_network==1\n",
    "    rectangle = output_network==2\n",
    "\n",
    "    df[\"square\"] = pd.Series(square.astype('int'))\n",
    "    df[\"circle\"] = pd.Series(circle.astype('int'))\n",
    "    df[\"rectangle\"] = pd.Series(rectangle.astype('int'))\n",
    "    \n",
    "    grouped = df.groupby(list(df.columns[:-3]), as_index=True)\n",
    "    df2 = grouped.aggregate(np.sum)\n",
    "    df2['x_freq'] = df2.iloc[:, -3:].apply(np.sum, 1)\n",
    "    return df2\n",
    "\n",
    "def one_hot_to_number(vec):\n",
    "    return np.argmax(vec, axis=1)\n",
    "\n",
    "def get_output_network(network, X, number_of_classes):\n",
    "    \"\"\"produce the ouput of the network for all pictures in X\"\"\"\n",
    "    out_distribution = np.zeros((X.shape[0], number_of_classes))\n",
    "    batch_size = network.batch_size\n",
    "    number_of_batches = int(X.shape[0]/batch_size)\n",
    "    for i in range(number_of_batches):\n",
    "        out_distribution[i*batch_size:(i+1)*batch_size] = (\n",
    "            network.forward(X[i*batch_size:(i+1)*batch_size]) \n",
    "        )\n",
    "    network.update_batch_size(1)\n",
    "    for i in range(number_of_batches*network.batch_size, X.shape[0]):\n",
    "        out_distribution[i] = network.forward(np.array([X[i]])) \n",
    "        \n",
    "    network.update_batch_size(batch_size)\n",
    "    \n",
    "    #make sure batch_size is set back correctly\n",
    "    network.forward(X[:batch_size])\n",
    "    \n",
    "    return one_hot_to_number(out_distribution)\n",
    "        \n",
    "def calculate_mutual_info_distribution():\n",
    "    \"\"\"return a li with all mutual info values\"\"\"\n",
    "    return []\n",
    "    \n",
    "def calculate_mutual_information(freq_df):\n",
    "    \"\"\"calculate the mutual information given dataframe \n",
    "       holding the frequencies\n",
    "    \n",
    "    returns: the mutual information\n",
    "    \"\"\"\n",
    "    #take the sum of every category column divide by total\n",
    "    total_number_of_outcomes = freq_df[\"x_freq\"].sum()\n",
    "    \n",
    "    output_distribution = {}\n",
    "    for category in freq_df.columns:\n",
    "        if category != \"x_freq\":\n",
    "            output_distribution[category] = (\n",
    "                freq_df[category].sum()/total_number_of_outcomes\n",
    "            )\n",
    "            \n",
    "    dist_x = freq_df.loc[:, [\"x_freq\"]]/freq_df.loc[:, [\"x_freq\"]].sum()\n",
    "    dist_x = dist_x.iloc[:, 0]\n",
    "    mutual_information = 0\n",
    "    for category in freq_df.columns:\n",
    "        if category != \"x_freq\":\n",
    "            remove_zeros_mask = freq_df.loc[:, category] != 0\n",
    "            prob_x_given_y = (\n",
    "                freq_df[remove_zeros_mask].loc[:, category] /\n",
    "                freq_df.loc[:, category].sum()\n",
    "            )\n",
    "            mutual_information = mutual_information + sum( \n",
    "                output_distribution[category] *\n",
    "                prob_x_given_y *\n",
    "                prob_x_given_y.divide(dist_x[remove_zeros_mask]).map(np.log2)\n",
    "            )\n",
    "            \n",
    "    return mutual_information\n",
    "\n",
    "def batch_sample_mutual_info(all_pictures, number_of_networks, \n",
    "                             max_selected_input_pixels, number_of_positions,\n",
    "                             network_type):\n",
    "    \"\"\"calculate average mutual information between n \n",
    "       input pixels and output by sampling for different \n",
    "       networks, position of pixels and amount of input pixels\n",
    "    \n",
    "    returns: a list of dicts, every entry in the list resembles one\n",
    "        network. The keys from the dict are the amount of pixels sampled\n",
    "        from and the values the calculated mutual information scores \n",
    "        for different positions\n",
    "    \"\"\"\n",
    "    network_mutual_info_li = []\n",
    "    for i in range(number_of_networks):\n",
    "        if network_type==\"trained\":\n",
    "            network = get_network.get_trained_network(X_train, y_train, num_iterations)\n",
    "        elif network_type==\"random\": \n",
    "            network = get_network.get_random_network()\n",
    "        output_network = get_output_network(network, all_pictures, 3)\n",
    "        if output_network.shape[0] != all_pictures.shape[0]:\n",
    "            print(\"the length of the input {} and length output {}\".format(\n",
    "                X.shape[0], output_network.shape[0]\n",
    "            ))\n",
    "            raise ValueError(\"something went wrong while calculating output\")\n",
    "            \n",
    "        start = time.time()\n",
    "        mutual_information_for_n_pixels = {}\n",
    "        for number_of_pixels in range(150, max_selected_input_pixels):\n",
    "            print(\"number of pixels: {} and time: {}\".format(\n",
    "                    number_of_pixels, time.time()-start\n",
    "            ))\n",
    "            mutual_information_li = []\n",
    "            for sample_pos in range(number_of_positions):\n",
    "                #select position of pixels at random\n",
    "                position_pixels = np.random.randint(\n",
    "                    all_pictures.shape[1], size=number_of_pixels\n",
    "                )\n",
    "                sel_pixels_all_pictures = all_pictures[:, position_pixels]\n",
    "                freq_df = create_freq_table(\n",
    "                    pd.DataFrame(sel_pixels_all_pictures),\n",
    "                    output_network\n",
    "                )\n",
    "                if all_pictures.shape[0] != freq_df[\"x_freq\"].sum():\n",
    "                    print(\"all outcome should be {} but is {}\".format(\n",
    "                        all_pictures.shape[0], freq_df[\"x_freq\"].sum()\n",
    "                    ))\n",
    "                    raise ValueError(\"calculation fo freq_df has gone wrong\")\n",
    "\n",
    "                mutual_information_li.append(calculate_mutual_information(freq_df))\n",
    "                \n",
    "            mutual_information_for_n_pixels[number_of_pixels] = mutual_information_li\n",
    "            \n",
    "        network_mutual_info_li.append(mutual_information_for_n_pixels)\n",
    "            \n",
    "    return network_mutual_info_li\n",
    "        \n",
    "    "
   ]
  },
  {
   "cell_type": "markdown",
   "metadata": {},
   "source": [
    "test methods to calculate mutual information"
   ]
  },
  {
   "cell_type": "code",
   "execution_count": 40,
   "metadata": {
    "collapsed": false
   },
   "outputs": [],
   "source": [
    "freq_df_example = pd.DataFrame(\n",
    "    np.array(\n",
    "        [\n",
    "            [1, 2, 3],\n",
    "            [3, 0, 3],\n",
    "            [2, 2, 4]\n",
    "        ]\n",
    "    ),\n",
    "    columns = [\"square\", \"rectangle\", \"x_freq\"]\n",
    ")\n",
    "\n",
    "exp_mutual_info = (\n",
    "    (1/6)*(6/10) * np.log2((1/6)/(3/10)) +\n",
    "    (3/6)*(6/10) * np.log2((3/6)/(3/10)) +\n",
    "    (2/6)*(6/10) * np.log2((2/6)/(4/10)) +\n",
    "    (2/4)*(4/10) * np.log2((2/4)/(3/10)) +\n",
    "    (2/4)*(4/10) * np.log2((2/4)/(4/10))\n",
    ")\n",
    "    \n",
    "mutual_info = calculate_mutual_information(freq_df_example)\n",
    "assert abs(exp_mutual_info-mutual_info) < 1e-6"
   ]
  },
  {
   "cell_type": "markdown",
   "metadata": {},
   "source": [
    "test create frequency table"
   ]
  },
  {
   "cell_type": "code",
   "execution_count": 41,
   "metadata": {
    "collapsed": false
   },
   "outputs": [],
   "source": [
    "picture_selected_pixels = np.array([\n",
    "    [0, 1, 0],\n",
    "    [0, 0, 1],\n",
    "    [1, 1, 1],\n",
    "    [0, 0, 1],\n",
    "    [1, 1, 1],\n",
    "    [1, 1, 0],\n",
    "    [0, 1, 0]\n",
    "])\n",
    "\n",
    "df = pd.DataFrame(picture_selected_pixels)\n",
    "\n",
    "classification_deep_network = np.array(\n",
    "    [0, 2, 1, 2, 1, 2, 2]\n",
    ")\n",
    "\n",
    "freq_df = create_freq_table(df, classification_deep_network)\n",
    "exp_freq_table = np.array([\n",
    "    [0, 0, 2, 2],\n",
    "    [1, 0, 1, 2],\n",
    "    [0, 0, 1, 1],\n",
    "    [0, 2, 0, 2]\n",
    "])\n",
    "assert np.all(exp_freq_table == freq_df.values)"
   ]
  },
  {
   "cell_type": "markdown",
   "metadata": {},
   "source": [
    "test output network"
   ]
  },
  {
   "cell_type": "code",
   "execution_count": 42,
   "metadata": {
    "collapsed": false
   },
   "outputs": [
    {
     "name": "stdout",
     "output_type": "stream",
     "text": [
      "(1010, 256)\n",
      "(1010,)\n",
      "63\n"
     ]
    }
   ],
   "source": [
    "network = get_network.get_random_network()\n",
    "X = X_train[:1010]\n",
    "print(X.shape)\n",
    "number_of_classes = 3\n",
    "\n",
    "out = get_output_network(network, X, number_of_classes)\n",
    "print(out.shape)\n",
    "print(len(out[out==0]))"
   ]
  },
  {
   "cell_type": "markdown",
   "metadata": {},
   "source": [
    "test batch_sample_mutual_info"
   ]
  },
  {
   "cell_type": "code",
   "execution_count": 43,
   "metadata": {
    "collapsed": false
   },
   "outputs": [
    {
     "name": "stdout",
     "output_type": "stream",
     "text": [
      "number of pixels: 2 and time: 3.814697265625e-06\n",
      "number of pixels: 3 and time: 1.1530697345733643\n",
      "number of pixels: 4 and time: 2.229555130004883\n",
      "number of pixels: 5 and time: 3.372213363647461\n",
      "number of pixels: 6 and time: 4.5969929695129395\n",
      "number of pixels: 7 and time: 5.920613527297974\n",
      "number of pixels: 8 and time: 7.3319220542907715\n",
      "number of pixels: 9 and time: 8.843064546585083\n",
      "number of pixels: 10 and time: 10.457294464111328\n",
      "number of pixels: 11 and time: 12.179556131362915\n",
      "number of pixels: 12 and time: 14.030570983886719\n",
      "number of pixels: 13 and time: 16.0408833026886\n",
      "number of pixels: 14 and time: 18.241140365600586\n",
      "number of pixels: 15 and time: 20.553696155548096\n",
      "number of pixels: 16 and time: 23.228995084762573\n",
      "number of pixels: 17 and time: 25.852997303009033\n",
      "number of pixels: 18 and time: 28.679668188095093\n",
      "number of pixels: 19 and time: 31.69126009941101\n",
      "number of pixels: 20 and time: 34.91713213920593\n",
      "number of pixels: 21 and time: 38.44544267654419\n",
      "number of pixels: 22 and time: 42.3043429851532\n",
      "number of pixels: 23 and time: 46.189746141433716\n",
      "number of pixels: 24 and time: 50.35090661048889\n",
      "number of pixels: 25 and time: 54.82066321372986\n",
      "number of pixels: 26 and time: 59.49282121658325\n",
      "number of pixels: 27 and time: 64.5808117389679\n",
      "number of pixels: 28 and time: 70.01062440872192\n",
      "number of pixels: 29 and time: 75.9267144203186\n",
      "number of pixels: 30 and time: 81.92076253890991\n",
      "number of pixels: 31 and time: 88.33834958076477\n",
      "number of pixels: 32 and time: 95.01213073730469\n",
      "number of pixels: 33 and time: 102.27762007713318\n",
      "number of pixels: 34 and time: 109.86201024055481\n",
      "number of pixels: 35 and time: 117.85383009910583\n",
      "number of pixels: 36 and time: 125.93639326095581\n",
      "number of pixels: 37 and time: 134.23984146118164\n",
      "number of pixels: 38 and time: 142.82689237594604\n",
      "number of pixels: 39 and time: 152.06583905220032\n",
      "number of pixels: 40 and time: 161.87676644325256\n",
      "number of pixels: 41 and time: 171.70776271820068\n",
      "number of pixels: 42 and time: 182.05016541481018\n",
      "number of pixels: 43 and time: 192.58117246627808\n",
      "number of pixels: 44 and time: 203.55584406852722\n",
      "number of pixels: 45 and time: 214.85357475280762\n",
      "number of pixels: 46 and time: 227.01912355422974\n",
      "number of pixels: 47 and time: 239.5888533592224\n",
      "number of pixels: 48 and time: 253.4498553276062\n",
      "number of pixels: 49 and time: 266.49586629867554\n",
      "number of pixels: 50 and time: 279.74926233291626\n",
      "number of pixels: 51 and time: 293.96258306503296\n",
      "number of pixels: 52 and time: 308.08999490737915\n",
      "number of pixels: 53 and time: 322.43464636802673\n",
      "number of pixels: 54 and time: 337.3167164325714\n",
      "number of pixels: 55 and time: 353.2293381690979\n",
      "number of pixels: 56 and time: 369.14720010757446\n",
      "number of pixels: 57 and time: 385.3286306858063\n",
      "number of pixels: 58 and time: 401.54742217063904\n",
      "number of pixels: 59 and time: 418.6786468029022\n",
      "number of pixels: 60 and time: 435.82277154922485\n",
      "number of pixels: 61 and time: 453.19376611709595\n",
      "number of pixels: 62 and time: 471.5251281261444\n",
      "number of pixels: 63 and time: 489.8675980567932\n",
      "number of pixels: 64 and time: 508.2641611099243\n",
      "number of pixels: 65 and time: 527.1445808410645\n",
      "number of pixels: 66 and time: 546.0938529968262\n",
      "number of pixels: 67 and time: 565.4685981273651\n",
      "number of pixels: 68 and time: 585.035802602768\n",
      "number of pixels: 69 and time: 605.4423961639404\n",
      "number of pixels: 70 and time: 625.597677230835\n",
      "number of pixels: 71 and time: 646.6634757518768\n",
      "number of pixels: 72 and time: 667.9813067913055\n",
      "number of pixels: 73 and time: 689.3464407920837\n",
      "number of pixels: 74 and time: 711.3382487297058\n",
      "number of pixels: 75 and time: 734.373841047287\n",
      "number of pixels: 76 and time: 756.9764568805695\n",
      "number of pixels: 77 and time: 780.1798968315125\n",
      "number of pixels: 78 and time: 803.3259913921356\n",
      "number of pixels: 79 and time: 826.8386685848236\n",
      "number of pixels: 80 and time: 850.9881625175476\n",
      "number of pixels: 81 and time: 875.0413823127747\n",
      "number of pixels: 82 and time: 899.6943864822388\n",
      "number of pixels: 83 and time: 924.0689342021942\n",
      "number of pixels: 84 and time: 948.5981628894806\n",
      "number of pixels: 85 and time: 974.09188580513\n",
      "number of pixels: 86 and time: 999.3015310764313\n",
      "number of pixels: 87 and time: 1025.1402044296265\n",
      "number of pixels: 88 and time: 1050.846918106079\n",
      "number of pixels: 89 and time: 1076.997486114502\n",
      "number of pixels: 90 and time: 1103.3635091781616\n",
      "number of pixels: 91 and time: 1130.2826220989227\n",
      "number of pixels: 92 and time: 1157.9264414310455\n",
      "number of pixels: 93 and time: 1185.4723558425903\n",
      "number of pixels: 94 and time: 1213.045602798462\n",
      "number of pixels: 95 and time: 1240.6527349948883\n",
      "number of pixels: 96 and time: 1268.986558675766\n",
      "number of pixels: 97 and time: 1297.2083480358124\n",
      "number of pixels: 98 and time: 1326.2967567443848\n",
      "number of pixels: 99 and time: 1355.0374829769135\n",
      "starting validation accuracy 0.3817733990147783\n"
     ]
    },
    {
     "data": {
      "image/png": "[encoded data removed]",
      "text/plain": [
       "<matplotlib.figure.Figure at 0x7f667a7e80f0>"
      ]
     },
     "metadata": {},
     "output_type": "display_data"
    },
    {
     "name": "stdout",
     "output_type": "stream",
     "text": [
      "the final accuracy on the validation set is 0.45566502463054187\n",
      "number of pixels: 2 and time: 6.4373016357421875e-06\n",
      "number of pixels: 3 and time: 1.069411277770996\n",
      "number of pixels: 4 and time: 2.1955347061157227\n",
      "number of pixels: 5 and time: 3.5067591667175293\n",
      "number of pixels: 6 and time: 4.797475576400757\n",
      "number of pixels: 7 and time: 6.1528942584991455\n",
      "number of pixels: 8 and time: 7.584891319274902\n",
      "number of pixels: 9 and time: 9.141942501068115\n",
      "number of pixels: 10 and time: 10.79824447631836\n",
      "number of pixels: 11 and time: 12.555209875106812\n",
      "number of pixels: 12 and time: 14.446022987365723\n",
      "number of pixels: 13 and time: 16.462170600891113\n",
      "number of pixels: 14 and time: 18.650984525680542\n",
      "number of pixels: 15 and time: 21.050446033477783\n",
      "number of pixels: 16 and time: 23.568018198013306\n",
      "number of pixels: 17 and time: 26.293636322021484\n",
      "number of pixels: 18 and time: 29.23203420639038\n",
      "number of pixels: 19 and time: 32.39862680435181\n",
      "number of pixels: 20 and time: 35.718806982040405\n",
      "number of pixels: 21 and time: 39.30700182914734\n",
      "number of pixels: 22 and time: 43.17431402206421\n",
      "number of pixels: 23 and time: 47.31457185745239\n",
      "number of pixels: 24 and time: 51.76963186264038\n",
      "number of pixels: 25 and time: 56.39987754821777\n",
      "number of pixels: 26 and time: 61.41833972930908\n",
      "number of pixels: 27 and time: 66.59984111785889\n",
      "number of pixels: 28 and time: 72.16874027252197\n",
      "number of pixels: 29 and time: 77.92529392242432\n",
      "number of pixels: 30 and time: 83.9436354637146\n",
      "number of pixels: 31 and time: 90.36600184440613\n",
      "number of pixels: 32 and time: 97.1476092338562\n",
      "number of pixels: 33 and time: 104.2183108329773\n",
      "number of pixels: 34 and time: 111.65077757835388\n",
      "number of pixels: 35 and time: 119.34444069862366\n",
      "number of pixels: 36 and time: 127.60228323936462\n",
      "number of pixels: 37 and time: 136.0080063343048\n",
      "number of pixels: 38 and time: 144.80743861198425\n",
      "number of pixels: 39 and time: 154.15299725532532\n",
      "number of pixels: 40 and time: 163.60951018333435\n",
      "number of pixels: 41 and time: 173.7519176006317\n",
      "number of pixels: 42 and time: 184.45269322395325\n",
      "number of pixels: 43 and time: 195.13514757156372\n",
      "number of pixels: 44 and time: 206.32686853408813\n",
      "number of pixels: 45 and time: 217.75099396705627\n",
      "number of pixels: 46 and time: 229.64240074157715\n",
      "number of pixels: 47 and time: 241.87353515625\n",
      "number of pixels: 48 and time: 254.7568929195404\n",
      "number of pixels: 49 and time: 267.865362405777\n",
      "number of pixels: 50 and time: 281.06706738471985\n",
      "number of pixels: 51 and time: 295.0482258796692\n",
      "number of pixels: 52 and time: 309.51485800743103\n",
      "number of pixels: 53 and time: 324.31878662109375\n",
      "number of pixels: 54 and time: 339.1709907054901\n",
      "number of pixels: 55 and time: 354.49627351760864\n",
      "number of pixels: 56 and time: 370.3737533092499\n",
      "number of pixels: 57 and time: 386.6956567764282\n",
      "number of pixels: 58 and time: 402.9873411655426\n",
      "number of pixels: 59 and time: 419.96631050109863\n",
      "number of pixels: 60 and time: 437.68733263015747\n",
      "number of pixels: 61 and time: 454.99436020851135\n",
      "number of pixels: 62 and time: 473.0653290748596\n",
      "number of pixels: 63 and time: 491.4778378009796\n",
      "number of pixels: 64 and time: 509.98679995536804\n",
      "number of pixels: 65 and time: 528.787132024765\n",
      "number of pixels: 66 and time: 548.36714220047\n",
      "number of pixels: 67 and time: 568.0207061767578\n",
      "number of pixels: 68 and time: 587.9717848300934\n",
      "number of pixels: 69 and time: 608.5687999725342\n",
      "number of pixels: 70 and time: 629.1967687606812\n",
      "number of pixels: 71 and time: 649.8437392711639\n",
      "number of pixels: 72 and time: 671.4857902526855\n",
      "number of pixels: 73 and time: 693.1481010913849\n",
      "number of pixels: 74 and time: 714.9128489494324\n",
      "number of pixels: 75 and time: 738.0093898773193\n",
      "number of pixels: 76 and time: 761.0994126796722\n",
      "number of pixels: 77 and time: 783.8051812648773\n",
      "number of pixels: 78 and time: 807.4321246147156\n",
      "number of pixels: 79 and time: 830.9934318065643\n",
      "number of pixels: 80 and time: 854.8963952064514\n",
      "number of pixels: 81 and time: 879.2474386692047\n",
      "number of pixels: 82 and time: 904.0244867801666\n",
      "number of pixels: 83 and time: 929.326568365097\n",
      "number of pixels: 84 and time: 954.4478023052216\n",
      "number of pixels: 85 and time: 980.1175448894501\n",
      "number of pixels: 86 and time: 1005.9461851119995\n",
      "number of pixels: 87 and time: 1031.9047470092773\n",
      "number of pixels: 88 and time: 1058.0850894451141\n",
      "number of pixels: 89 and time: 1084.3313310146332\n",
      "number of pixels: 90 and time: 1111.130859375\n",
      "number of pixels: 91 and time: 1138.0975477695465\n",
      "number of pixels: 92 and time: 1165.8040075302124\n",
      "number of pixels: 93 and time: 1193.3257911205292\n",
      "number of pixels: 94 and time: 1221.2169959545135\n",
      "number of pixels: 95 and time: 1248.9735622406006\n",
      "number of pixels: 96 and time: 1277.2367792129517\n",
      "number of pixels: 97 and time: 1305.444800376892\n",
      "number of pixels: 98 and time: 1334.0225851535797\n",
      "number of pixels: 99 and time: 1363.5050139427185\n"
     ]
    }
   ],
   "source": [
    "mean_mutual_info_random_network = batch_sample_mutual_info(\n",
    "    all_pictures, number_of_networks=1, max_selected_input_pixels=100, \n",
    "    number_of_positions=100, network_type=\"random\"\n",
    ")\n",
    "\n",
    "mean_mutual_info_trained_network = batch_sample_mutual_info(\n",
    "    all_pictures, number_of_networks=1, max_selected_input_pixels=100, \n",
    "    number_of_positions=100, network_type=\"trained\"\n",
    ")\n"
   ]
  },
  {
   "cell_type": "code",
   "execution_count": 44,
   "metadata": {
    "collapsed": false
   },
   "outputs": [
    {
     "data": {
      "image/png": "[encoded data removed]",
      "text/plain": [
       "<matplotlib.figure.Figure at 0x7f666ee09c88>"
      ]
     },
     "metadata": {},
     "output_type": "display_data"
    }
   ],
   "source": [
    "#print(mean_mutual_info)\n",
    "num_pixel_li_random_network, mutual_info_average_li_random_network = [], []\n",
    "for item in mean_mutual_info_random_network:\n",
    "    for k, v in item.items():\n",
    "        num_pixel_li_random_network.append(k)\n",
    "        mutual_info_average_li_random_network.append(np.mean(v))\n",
    "        \n",
    "num_pixel_li_trained_network, mutual_info_average_li_trained_network = [], []\n",
    "for item in mean_mutual_info_trained_network:\n",
    "    for k, v in item.items():\n",
    "        num_pixel_li_trained_network.append(k)\n",
    "        mutual_info_average_li_trained_network.append(np.mean(v))\n",
    "    \n",
    "plt.plot(num_pixel_li_trained_network, mutual_info_average_li_trained_network)\n",
    "plt.plot(num_pixel_li_random_network, mutual_info_average_li_random_network)\n",
    "plt.show()"
   ]
  },
  {
   "cell_type": "code",
   "execution_count": 48,
   "metadata": {
    "collapsed": false
   },
   "outputs": [
    {
     "name": "stdout",
     "output_type": "stream",
     "text": [
      "starting validation accuracy 0.33251231527093594\n"
     ]
    },
    {
     "data": {
      "image/png": "[encoded data removed]",
      "text/plain": [
       "<matplotlib.figure.Figure at 0x7f666791f8d0>"
      ]
     },
     "metadata": {},
     "output_type": "display_data"
    },
    {
     "name": "stdout",
     "output_type": "stream",
     "text": [
      "the final accuracy on the validation set is 0.46798029556650245\n",
      "number of pixels: 150 and time: 9.059906005859375e-06\n"
     ]
    }
   ],
   "source": [
    "mean_mutual_info_trained_network = batch_sample_mutual_info(\n",
    "    all_pictures, number_of_networks=1, max_selected_input_pixels=151, \n",
    "    number_of_positions=100, network_type=\"trained\"\n",
    ")"
   ]
  },
  {
   "cell_type": "code",
   "execution_count": 49,
   "metadata": {
    "collapsed": false
   },
   "outputs": [
    {
     "name": "stdout",
     "output_type": "stream",
     "text": [
      "1.3017413485\n"
     ]
    }
   ],
   "source": [
    "print(np.mean(mean_mutual_info_trained_network[0][150]))"
   ]
  },
  {
   "cell_type": "code",
   "execution_count": null,
   "metadata": {
    "collapsed": true
   },
   "outputs": [],
   "source": [
    "plt.legend(loc=2,prop={'size':6})\n",
    "%matplotlib inline\n",
    "plt.rcParams['figure.figsize'] = (10.0, 8.0)\n",
    "plt.rcParams['image.interpolation'] = 'nearest'\n",
    "plt.rcParams['image.cmap'] = 'gray'\n",
    "plt.rcParams['xtick.labelsize'] = 15\n",
    "plt.rcParams['ytick.labelsize'] = 15\n",
    "plt.rcParams['axes.labelsize'] = 20\n",
    "\n",
    "plot_data = np.arange(0, 9, 1)\n",
    "plot_trained_network_mean = np.mean(np.array(plot_data_trained_network), axis=0)\n",
    "plot_trained_network_std = np.std(np.array(plot_data_trained_network), axis=0)\n",
    "lower_bound_trained_network = plot_trained_network_mean-plot_trained_network_std \n",
    "upper_bound_trained_network = plot_trained_network_mean+plot_trained_network_std\n",
    "\n",
    "plot_random_network_mean = np.mean(np.array(plot_data_random_network), axis=0)\n",
    "plot_random_network_std = np.std(np.array(plot_data_random_network), axis=0)\n",
    "lower_bound_random_network = plot_random_network_mean-plot_random_network_std\n",
    "upper_bound_random_network = plot_random_network_mean+plot_random_network_std \n",
    "\n",
    "plot_actual_values_mean = np.mean(np.array(plot_data_actual_values), axis=0)\n",
    "plot_actual_values_std = np.std(np.array(plot_data_actual_values), axis=0)\n",
    "\n",
    "plt.plot(plot_trained_network_mean, label=\"mean trained network\")\n",
    "plt.fill_between(plot_data, lower_bound_trained_network, \n",
    "                 upper_bound_trained_network, alpha=0.3)\n",
    "\n",
    "plt.plot(plot_random_network_mean, label=\"mean random network\")\n",
    "plt.fill_between(plot_data, lower_bound_random_network, \n",
    "                 upper_bound_random_network, alpha=0.3)\n",
    "\n",
    "plt.plot(plot_actual_values_mean, label=\"mean actual outputs\")\n",
    "#plt.fill_between(plot_data, \n",
    "#                 plot_actual_values_mean-plot_actual_values_std,\n",
    "#                 plot_random_network_mean+plot_actual_values_std,\n",
    "#                 alpha=0.3)\n",
    "\n",
    "plt.title(\"Mutual information between randomly selected pixels and network output\")\n",
    "plt.xlabel(\"number of variables\")\n",
    "plt.ylabel(\"mean mutual information between pixels and output network\")\n",
    "plt.legend()\n",
    "plt.show()"
   ]
  },
  {
   "cell_type": "code",
   "execution_count": null,
   "metadata": {
    "collapsed": true
   },
   "outputs": [],
   "source": [
    "\n",
    "\n",
    "def get_prob(network, pos_pixels, value_pixels, y, y_hat):\n",
    "    #from all pictures select those where y, y_hat match\n",
    "    sel_pictures = [picture for picture in pictures[y] \n",
    "                    if network.calculate_forward(picture) == y_hat]\n",
    "\n",
    "    #from those pictures calculate what percentage has \n",
    "    #the values of the pixels at the right positions\n",
    "    if sel_pictures == []:\n",
    "        return 0\n",
    "    else:\n",
    "        return sum(\n",
    "            [1 for picture in sel_pictures if picture[pos_pixels] == value_pixels]\n",
    "        )/len(sel_pictures)\n",
    "\n",
    "def calculate_probability(network, pos_pixels, value_pixels):\n",
    "    #calculate P(x|y_hat) for every value of y_hat \n",
    "    #x represents the value of certain pixels and y_hat the output of the ANN\n",
    "    \n",
    "    prob_li = []\n",
    "    for y_hat in range(num_classes):\n",
    "        #calculate p(y|y_hat) and p(y_hat) upfront \n",
    "        #prob = sum_y (p(x|y, y_hat) * p(y|y_hat) * p(y_hat))\n",
    "        prob = 0\n",
    "        for y in range(num_classes):\n",
    "            prob = prob + (\n",
    "                get_prob(network, pos_pixels, value_pixels, y, y_hat) *\n",
    "                prob_y_given_y_hat[(y, y_hat)] *\n",
    "                prob_y_hat[y_hat]\n",
    "            )\n",
    "        prob_li.append(prob)\n",
    "        \n",
    "    return prob_li\n",
    "    \n",
    "\n",
    "\n"
   ]
  },
  {
   "cell_type": "markdown",
   "metadata": {},
   "source": [
    "legacy code in the cells following:"
   ]
  },
  {
   "cell_type": "code",
   "execution_count": null,
   "metadata": {
    "collapsed": true
   },
   "outputs": [],
   "source": [
    "def one_hot_to_number(vec):\n",
    "    return np.argmax(vec, axis=1)\n",
    "\n",
    "def create_distributions(X, out, batch_size, max_amount_variables):\n",
    "    \"\"\"compute the average mutual information between input and ouput\n",
    "    \n",
    "    note: the amount of input pixels used is variable  \n",
    "    \"\"\"\n",
    "    \n",
    "    num_pictures = X.shape[0]\n",
    "    unique_out, counts_out = np.unique(out, return_counts=True)\n",
    "    out_dist = counts_out/np.sum(counts_out)\n",
    "    mutual_info_dict = {}\n",
    "    \n",
    "    for i in range(1, max_amount_variables):\n",
    "        pixel_arr = np.zeros((num_pictures, i))\n",
    "        pixel_plus_outcome_arr = np.zeros((num_pictures, i+1))\n",
    "        pixel_plus_outcome_arr[:, -1:] = np.transpose(np.array([out]))\n",
    "        mutual_info_li = []\n",
    "        for batch_number in range(batch_size):\n",
    "            position_points = np.random.randint(grid_len*grid_width, size=i)  \n",
    "            pixel_arr = X[:, position_points]\n",
    "            pixel_plus_outcome_arr[:, :-1] = pixel_arr\n",
    "            \n",
    "            pixel_dist = points_to_dist(pixel_arr)\n",
    "            mutual_dist = points_to_dist(pixel_plus_outcome_arr)\n",
    "            \n",
    "            mutual_info = calculate_mutual_information(pixel_dist, out_dist, mutual_dist)\n",
    "            mutual_info_li.append(mutual_info)\n",
    "            \n",
    "        mutual_info_dict[i] = mutual_info_li\n",
    "        \n",
    "    return mutual_info_dict\n",
    "\n",
    "def get_output_network(network, X, shape_output, number_of_batches):\n",
    "    out_one_hot = np.zeros((shape_output))\n",
    "    batch_size = network.batch_size\n",
    "    for i in range(number_of_batches):\n",
    "        out_one_hot[i*batch_size:(i+1)*batch_size] = (\n",
    "            network.forward(X[i*batch_size:(i+1)*batch_size]) \n",
    "        )\n",
    "    return one_hot_to_number(out_one_hot)\n",
    "    \n",
    "def get_mutual_info_network(get_network, number_of_batches=50, max_amount_variables=10):\n",
    "    gen = generator.GenerateData(grid_len, grid_width, add_noise=False, params=None)\n",
    "    X, y = gen.generate_batch_samples(batch_size=number_of_batches*batch_size)\n",
    "    \n",
    "    batch_size_sampling_distributions = 100\n",
    "    plot_data = []\n",
    "    for i in range(10):\n",
    "        out = get_output_network(get_network(), X, y.shape, number_of_batches)\n",
    "        mutual_info_dict = create_distributions(X, out, batch_size_sampling_distributions, max_amount_variables)\n",
    "        plot_data.append([np.mean(v) for k, v in mutual_info_dict.items()])\n",
    "        #for k, v in mutual_info_dict.items():\n",
    "        #    print(\"number of variables {}, mean mutual info {}\".format(k, np.mean(v)))\n",
    "\n",
    "    return plot_data"
   ]
  },
  {
   "cell_type": "code",
   "execution_count": null,
   "metadata": {
    "collapsed": true
   },
   "outputs": [],
   "source": [
    "print(\"get a random network\")\n",
    "plot_data_random_network = get_mutual_info_network(get_random_network)\n",
    "print(\"get a trained network\")\n",
    "plot_data_trained_network = get_mutual_info_network(get_trained_network)\n",
    "plot_data_actual_values = []\n",
    "for i in range(10):\n",
    "    out = one_hot_to_number(out_one_hot)\n",
    "    mutual_info_dict = create_distributions(X, out, batch_size=30, max_amount_variables=10)\n",
    "    plot_data_actual_values.append([np.mean(v) for k, v in mutual_info_dict.items()])"
   ]
  },
  {
   "cell_type": "code",
   "execution_count": null,
   "metadata": {
    "collapsed": false
   },
   "outputs": [],
   "source": [
    "plt.legend(loc=2,prop={'size':6})\n",
    "%matplotlib inline\n",
    "plt.rcParams['figure.figsize'] = (10.0, 8.0)\n",
    "plt.rcParams['image.interpolation'] = 'nearest'\n",
    "plt.rcParams['image.cmap'] = 'gray'\n",
    "plt.rcParams['xtick.labelsize'] = 15\n",
    "plt.rcParams['ytick.labelsize'] = 15\n",
    "plt.rcParams['axes.labelsize'] = 20\n",
    "\n",
    "plot_data = np.arange(0, 9, 1)\n",
    "plot_trained_network_mean = np.mean(np.array(plot_data_trained_network), axis=0)\n",
    "plot_trained_network_std = np.std(np.array(plot_data_trained_network), axis=0)\n",
    "lower_bound_trained_network = plot_trained_network_mean-plot_trained_network_std \n",
    "upper_bound_trained_network = plot_trained_network_mean+plot_trained_network_std\n",
    "\n",
    "plot_random_network_mean = np.mean(np.array(plot_data_random_network), axis=0)\n",
    "plot_random_network_std = np.std(np.array(plot_data_random_network), axis=0)\n",
    "lower_bound_random_network = plot_random_network_mean-plot_random_network_std\n",
    "upper_bound_random_network = plot_random_network_mean+plot_random_network_std \n",
    "\n",
    "plot_actual_values_mean = np.mean(np.array(plot_data_actual_values), axis=0)\n",
    "plot_actual_values_std = np.std(np.array(plot_data_actual_values), axis=0)\n",
    "\n",
    "plt.plot(plot_trained_network_mean, label=\"mean trained network\")\n",
    "plt.fill_between(plot_data, lower_bound_trained_network, \n",
    "                 upper_bound_trained_network, alpha=0.3)\n",
    "\n",
    "plt.plot(plot_random_network_mean, label=\"mean random network\")\n",
    "plt.fill_between(plot_data, lower_bound_random_network, \n",
    "                 upper_bound_random_network, alpha=0.3)\n",
    "\n",
    "plt.plot(plot_actual_values_mean, label=\"mean actual outputs\")\n",
    "#plt.fill_between(plot_data, \n",
    "#                 plot_actual_values_mean-plot_actual_values_std,\n",
    "#                 plot_random_network_mean+plot_actual_values_std,\n",
    "#                 alpha=0.3)\n",
    "\n",
    "plt.title(\"Mutual information between randomly selected pixels and network output\")\n",
    "plt.xlabel(\"number of variables\")\n",
    "plt.ylabel(\"mean mutual information between pixels and output network\")\n",
    "plt.legend()\n",
    "plt.show()"
   ]
  },
  {
   "cell_type": "code",
   "execution_count": null,
   "metadata": {
    "collapsed": false
   },
   "outputs": [],
   "source": [
    "import pandas as pd\n",
    "\n",
    "a = pd.DataFrame(np.array([[1,2,1],[1,2,2],[1,2,1], [1,1,1], [1,2,2], [2,1,2]]))\n",
    "print(\"a equals\")\n",
    "print(list(a.columns))\n",
    "\n",
    "b = a.groupby([0,1,2])\n",
    "c = pd.DataFrame(b.size()).values.flatten()\n",
    "print(\"c equals\")\n",
    "print(c)\n",
    "\n",
    "d = c/c.sum()\n",
    "print(d)\n",
    "print(d.values)"
   ]
  },
  {
   "cell_type": "code",
   "execution_count": null,
   "metadata": {
    "collapsed": true
   },
   "outputs": [],
   "source": [
    "import pandas as pd\n",
    "\n",
    "out_come_ANN = {\n",
    "    \"square\": np.array([[0,1,1],[0,0,1],[0,1,1]],\n",
    "                       [[0,0,0],[0,0,1],[0,1,1]], \n",
    "                       [[1,0,0],[1,0,1],[1,1,1]])\n",
    "\n",
    "data_len = len([out_come_ANN[cat].shape[0] for cat in out_come_ANN.keys()])\n",
    "\n"
   ]
  },
  {
   "cell_type": "markdown",
   "metadata": {},
   "source": [
    "Below the algorithm to generate the appropriate distributions is outlined on a simple test case"
   ]
  },
  {
   "cell_type": "code",
   "execution_count": null,
   "metadata": {
    "collapsed": false
   },
   "outputs": [],
   "source": [
    "import numpy as np\n",
    "import pandas as pd\n",
    "\n",
    "picture_selected_pixels = np.array([\n",
    "    [0, 1, 0],\n",
    "    [0, 0, 1],\n",
    "    [1, 1, 1],\n",
    "    [0, 0, 1],\n",
    "    [1, 1, 1],\n",
    "    [1, 1, 0],\n",
    "    [0, 1, 0]\n",
    "])\n",
    "\n",
    "df = pd.DataFrame(picture_selected_pixels)\n",
    "\n",
    "classification_deep_network = np.array(\n",
    "    [1, 3, 2, 3, 2, 3, 3]\n",
    ")\n",
    "\n",
    "def create_freq_tables(df, output_network):    \n",
    "    square = output_network==1\n",
    "    circle = output_network==2\n",
    "    rectangle = output_network==3\n",
    "\n",
    "    df[\"square\"] = pd.Series(square.astype('int'))\n",
    "    df[\"circle\"] = pd.Series(circle.astype('int'))\n",
    "    df[\"rectangle\"] = pd.Series(rectangle.astype('int'))\n",
    "\n",
    "    print(df)\n",
    "    grouped = df.groupby(list(df.columns[:-3]), as_index=True)\n",
    "    df2 = grouped.aggregate(np.sum)\n",
    "    print(df2)\n",
    "\n",
    "    print(df2.iloc[:, -3:])\n",
    "    print(df2.iloc[:, -3:].apply(np.sum, 1))\n",
    "    df2['x_freq'] = df2.iloc[:, -3:].apply(np.sum, 1)\n",
    "\n",
    "    return df2\n",
    "    \n",
    "print(create_freq_tables(df, classification_deep_network))\n"
   ]
  },
  {
   "cell_type": "code",
   "execution_count": null,
   "metadata": {
    "collapsed": false
   },
   "outputs": [],
   "source": [
    "import numpy as np\n",
    "import pandas as pd\n",
    "\n",
    "a = np.array([[1,2,3], [-2,5,6], [7,8,9]])\n",
    "\n",
    "a_df = pd.DataFrame(a)\n",
    "zero_filter = a_df.loc[:, 0]>0\n",
    "print(zero_filter)\n",
    "print(a_df[zero_filter])\n",
    "\n",
    "#a[:, np.array([0,2])]"
   ]
  },
  {
   "cell_type": "code",
   "execution_count": 45,
   "metadata": {
    "collapsed": false
   },
   "outputs": [
    {
     "data": {
      "text/plain": [
       "256"
      ]
     },
     "execution_count": 45,
     "metadata": {},
     "output_type": "execute_result"
    }
   ],
   "source": [
    "16*16\n"
   ]
  },
  {
   "cell_type": "code",
   "execution_count": null,
   "metadata": {
    "collapsed": true
   },
   "outputs": [],
   "source": []
  }
 ],
 "metadata": {
  "kernelspec": {
   "display_name": "Python 3",
   "language": "python",
   "name": "python3"
  },
  "language_info": {
   "codemirror_mode": {
    "name": "ipython",
    "version": 3
   },
   "file_extension": ".py",
   "mimetype": "text/x-python",
   "name": "python",
   "nbconvert_exporter": "python",
   "pygments_lexer": "ipython3",
   "version": "3.5.2"
  }
 },
 "nbformat": 4,
 "nbformat_minor": 1
}
